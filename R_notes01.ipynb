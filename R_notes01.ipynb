{
 "cells": [
  {
   "cell_type": "markdown",
   "metadata": {},
   "source": [
    "# Review of [NTUTrainRL1](https://github.com/yaojenkuo/NTUTrainRL1)\n",
    "* [Data Types](#Data-Types)\n",
    "* [NA & NULL](#NA-&-NULL)\n",
    "* [Data frame](#Data-frame)\n",
    "* [Join](#Join)\n",
    "* [SQL in R](#SQL-in-R)\n",
    "* [reshape2](#reshape2)\n",
    "* [Programming in R](#Programming-in-R)\n",
    "* [apply()][]\n",
    "* [Read csv](#Read-csv)\n",
    "* [奇摩股市範例](#奇摩股市範例)\n",
    "* [7-Eleven門市資訊範例](#7-Eleven門市資訊範例)\n",
    "[apply()]:#apply()"
   ]
  },
  {
   "cell_type": "markdown",
   "metadata": {},
   "source": [
    "# Data Types\n",
    "* vector\n",
    "* factor\n",
    "* matrix\n",
    "* data frame\n",
    "* list"
   ]
  },
  {
   "cell_type": "code",
   "execution_count": 1,
   "metadata": {
    "collapsed": false
   },
   "outputs": [
    {
     "data": {
      "text/html": [
       "\"numeric\""
      ],
      "text/latex": [
       "\"numeric\""
      ],
      "text/markdown": [
       "\"numeric\""
      ],
      "text/plain": [
       "[1] \"numeric\""
      ]
     },
     "metadata": {},
     "output_type": "display_data"
    },
    {
     "data": {
      "text/html": [
       "\"character\""
      ],
      "text/latex": [
       "\"character\""
      ],
      "text/markdown": [
       "\"character\""
      ],
      "text/plain": [
       "[1] \"character\""
      ]
     },
     "metadata": {},
     "output_type": "display_data"
    },
    {
     "data": {
      "text/html": [
       "\"logical\""
      ],
      "text/latex": [
       "\"logical\""
      ],
      "text/markdown": [
       "\"logical\""
      ],
      "text/plain": [
       "[1] \"logical\""
      ]
     },
     "metadata": {},
     "output_type": "display_data"
    },
    {
     "data": {
      "text/html": [
       "\"character\""
      ],
      "text/latex": [
       "\"character\""
      ],
      "text/markdown": [
       "\"character\""
      ],
      "text/plain": [
       "[1] \"character\""
      ]
     },
     "metadata": {},
     "output_type": "display_data"
    }
   ],
   "source": [
    "numvec <- c(1,2,3)\n",
    "charvec <- c('a','b','c')\n",
    "logicvec <- c(TRUE,FALSE,TRUE)\n",
    "mixvec <- c(1,'2',TRUE)\n",
    "class(numvec)\n",
    "class(charvec)\n",
    "class(logicvec)\n",
    "class(mixvec)"
   ]
  },
  {
   "cell_type": "code",
   "execution_count": 2,
   "metadata": {
    "collapsed": false
   },
   "outputs": [
    {
     "data": {
      "text/html": [
       "1"
      ],
      "text/latex": [
       "1"
      ],
      "text/markdown": [
       "1"
      ],
      "text/plain": [
       "[1] 1"
      ]
     },
     "metadata": {},
     "output_type": "display_data"
    },
    {
     "data": {
      "text/html": [
       "<ol class=list-inline>\n",
       "\t<li>1</li>\n",
       "\t<li>3</li>\n",
       "</ol>\n"
      ],
      "text/latex": [
       "\\begin{enumerate*}\n",
       "\\item 1\n",
       "\\item 3\n",
       "\\end{enumerate*}\n"
      ],
      "text/markdown": [
       "1. 1\n",
       "2. 3\n",
       "\n",
       "\n"
      ],
      "text/plain": [
       "[1] 1 3"
      ]
     },
     "metadata": {},
     "output_type": "display_data"
    },
    {
     "data": {
      "text/html": [
       "<ol class=list-inline>\n",
       "\t<li>2</li>\n",
       "\t<li>3</li>\n",
       "</ol>\n"
      ],
      "text/latex": [
       "\\begin{enumerate*}\n",
       "\\item 2\n",
       "\\item 3\n",
       "\\end{enumerate*}\n"
      ],
      "text/markdown": [
       "1. 2\n",
       "2. 3\n",
       "\n",
       "\n"
      ],
      "text/plain": [
       "[1] 2 3"
      ]
     },
     "metadata": {},
     "output_type": "display_data"
    },
    {
     "data": {
      "text/html": [
       "<ol class=list-inline>\n",
       "\t<li>2</li>\n",
       "\t<li>3</li>\n",
       "</ol>\n"
      ],
      "text/latex": [
       "\\begin{enumerate*}\n",
       "\\item 2\n",
       "\\item 3\n",
       "\\end{enumerate*}\n"
      ],
      "text/markdown": [
       "1. 2\n",
       "2. 3\n",
       "\n",
       "\n"
      ],
      "text/plain": [
       "[1] 2 3"
      ]
     },
     "metadata": {},
     "output_type": "display_data"
    },
    {
     "data": {
      "text/html": [
       "3"
      ],
      "text/latex": [
       "3"
      ],
      "text/markdown": [
       "3"
      ],
      "text/plain": [
       "[1] 3"
      ]
     },
     "metadata": {},
     "output_type": "display_data"
    },
    {
     "data": {
      "text/html": [
       "<ol class=list-inline>\n",
       "\t<li>1</li>\n",
       "\t<li>2</li>\n",
       "\t<li>3</li>\n",
       "</ol>\n"
      ],
      "text/latex": [
       "\\begin{enumerate*}\n",
       "\\item 1\n",
       "\\item 2\n",
       "\\item 3\n",
       "\\end{enumerate*}\n"
      ],
      "text/markdown": [
       "1. 1\n",
       "2. 2\n",
       "3. 3\n",
       "\n",
       "\n"
      ],
      "text/plain": [
       "[1] 1 2 3"
      ]
     },
     "metadata": {},
     "output_type": "display_data"
    }
   ],
   "source": [
    "numvec[1]\n",
    "numvec[c(1,3)]\n",
    "numvec[2:3]\n",
    "numvec[-1] # all element except first one\n",
    "\n",
    "lennumvec <- length(numvec)\n",
    "lennumvec\n",
    "numvec[1:lennumvec]"
   ]
  },
  {
   "cell_type": "code",
   "execution_count": 3,
   "metadata": {
    "collapsed": false
   },
   "outputs": [
    {
     "data": {
      "text/html": [
       "<ol class=list-inline>\n",
       "\t<li>7</li>\n",
       "\t<li>9</li>\n",
       "\t<li>11</li>\n",
       "</ol>\n"
      ],
      "text/latex": [
       "\\begin{enumerate*}\n",
       "\\item 7\n",
       "\\item 9\n",
       "\\item 11\n",
       "\\end{enumerate*}\n"
      ],
      "text/markdown": [
       "1. 7\n",
       "2. 9\n",
       "3. 11\n",
       "\n",
       "\n"
      ],
      "text/plain": [
       "[1]  7  9 11"
      ]
     },
     "metadata": {},
     "output_type": "display_data"
    },
    {
     "data": {
      "text/html": [
       "<ol class=list-inline>\n",
       "\t<li>10</li>\n",
       "\t<li>20</li>\n",
       "\t<li>30</li>\n",
       "\t<li>40</li>\n",
       "\t<li>50</li>\n",
       "\t<li>60</li>\n",
       "\t<li>70</li>\n",
       "\t<li>80</li>\n",
       "\t<li>90</li>\n",
       "\t<li>100</li>\n",
       "</ol>\n"
      ],
      "text/latex": [
       "\\begin{enumerate*}\n",
       "\\item 10\n",
       "\\item 20\n",
       "\\item 30\n",
       "\\item 40\n",
       "\\item 50\n",
       "\\item 60\n",
       "\\item 70\n",
       "\\item 80\n",
       "\\item 90\n",
       "\\item 100\n",
       "\\end{enumerate*}\n"
      ],
      "text/markdown": [
       "1. 10\n",
       "2. 20\n",
       "3. 30\n",
       "4. 40\n",
       "5. 50\n",
       "6. 60\n",
       "7. 70\n",
       "8. 80\n",
       "9. 90\n",
       "10. 100\n",
       "\n",
       "\n"
      ],
      "text/plain": [
       " [1]  10  20  30  40  50  60  70  80  90 100"
      ]
     },
     "metadata": {},
     "output_type": "display_data"
    },
    {
     "data": {
      "text/html": [
       "<ol class=list-inline>\n",
       "\t<li>1</li>\n",
       "\t<li>1</li>\n",
       "\t<li>1</li>\n",
       "</ol>\n"
      ],
      "text/latex": [
       "\\begin{enumerate*}\n",
       "\\item 1\n",
       "\\item 1\n",
       "\\item 1\n",
       "\\end{enumerate*}\n"
      ],
      "text/markdown": [
       "1. 1\n",
       "2. 1\n",
       "3. 1\n",
       "\n",
       "\n"
      ],
      "text/plain": [
       "[1] 1 1 1"
      ]
     },
     "metadata": {},
     "output_type": "display_data"
    }
   ],
   "source": [
    "seq(from = 7, to = 11, by = 2)\n",
    "seq(from = 10, to = 100, length=10)\n",
    "rep(1,time=3)"
   ]
  },
  {
   "cell_type": "code",
   "execution_count": 4,
   "metadata": {
    "collapsed": false
   },
   "outputs": [
    {
     "data": {
      "text/html": [
       "<table>\n",
       "<thead><tr><th></th><th scope=col>mpg</th><th scope=col>cyl</th><th scope=col>disp</th><th scope=col>hp</th><th scope=col>drat</th><th scope=col>wt</th><th scope=col>qsec</th><th scope=col>vs</th><th scope=col>am</th><th scope=col>gear</th><th scope=col>carb</th></tr></thead>\n",
       "<tbody>\n",
       "\t<tr><th scope=row>Mazda RX4</th><td> 21.00</td><td>  6.00</td><td>160.00</td><td>110.00</td><td>  3.90</td><td>  2.62</td><td> 16.46</td><td>  0.00</td><td>  1.00</td><td>  4.00</td><td>  4.00</td></tr>\n",
       "\t<tr><th scope=row>Mazda RX4 Wag</th><td> 21.000</td><td>  6.000</td><td>160.000</td><td>110.000</td><td>  3.900</td><td>  2.875</td><td> 17.020</td><td>  0.000</td><td>  1.000</td><td>  4.000</td><td>  4.000</td></tr>\n",
       "\t<tr><th scope=row>Datsun 710</th><td> 22.80</td><td>  4.00</td><td>108.00</td><td> 93.00</td><td>  3.85</td><td>  2.32</td><td> 18.61</td><td>  1.00</td><td>  1.00</td><td>  4.00</td><td>  1.00</td></tr>\n",
       "\t<tr><th scope=row>Hornet 4 Drive</th><td> 21.400</td><td>  6.000</td><td>258.000</td><td>110.000</td><td>  3.080</td><td>  3.215</td><td> 19.440</td><td>  1.000</td><td>  0.000</td><td>  3.000</td><td>  1.000</td></tr>\n",
       "\t<tr><th scope=row>Hornet Sportabout</th><td> 18.70</td><td>  8.00</td><td>360.00</td><td>175.00</td><td>  3.15</td><td>  3.44</td><td> 17.02</td><td>  0.00</td><td>  0.00</td><td>  3.00</td><td>  2.00</td></tr>\n",
       "\t<tr><th scope=row>Valiant</th><td> 18.10</td><td>  6.00</td><td>225.00</td><td>105.00</td><td>  2.76</td><td>  3.46</td><td> 20.22</td><td>  1.00</td><td>  0.00</td><td>  3.00</td><td>  1.00</td></tr>\n",
       "\t<tr><th scope=row>Duster 360</th><td> 14.30</td><td>  8.00</td><td>360.00</td><td>245.00</td><td>  3.21</td><td>  3.57</td><td> 15.84</td><td>  0.00</td><td>  0.00</td><td>  3.00</td><td>  4.00</td></tr>\n",
       "\t<tr><th scope=row>Merc 240D</th><td> 24.40</td><td>  4.00</td><td>146.70</td><td> 62.00</td><td>  3.69</td><td>  3.19</td><td> 20.00</td><td>  1.00</td><td>  0.00</td><td>  4.00</td><td>  2.00</td></tr>\n",
       "\t<tr><th scope=row>Merc 230</th><td> 22.80</td><td>  4.00</td><td>140.80</td><td> 95.00</td><td>  3.92</td><td>  3.15</td><td> 22.90</td><td>  1.00</td><td>  0.00</td><td>  4.00</td><td>  2.00</td></tr>\n",
       "\t<tr><th scope=row>Merc 280</th><td> 19.20</td><td>  6.00</td><td>167.60</td><td>123.00</td><td>  3.92</td><td>  3.44</td><td> 18.30</td><td>  1.00</td><td>  0.00</td><td>  4.00</td><td>  4.00</td></tr>\n",
       "\t<tr><th scope=row>Merc 280C</th><td> 17.80</td><td>  6.00</td><td>167.60</td><td>123.00</td><td>  3.92</td><td>  3.44</td><td> 18.90</td><td>  1.00</td><td>  0.00</td><td>  4.00</td><td>  4.00</td></tr>\n",
       "\t<tr><th scope=row>Merc 450SE</th><td> 16.40</td><td>  8.00</td><td>275.80</td><td>180.00</td><td>  3.07</td><td>  4.07</td><td> 17.40</td><td>  0.00</td><td>  0.00</td><td>  3.00</td><td>  3.00</td></tr>\n",
       "\t<tr><th scope=row>Merc 450SL</th><td> 17.30</td><td>  8.00</td><td>275.80</td><td>180.00</td><td>  3.07</td><td>  3.73</td><td> 17.60</td><td>  0.00</td><td>  0.00</td><td>  3.00</td><td>  3.00</td></tr>\n",
       "\t<tr><th scope=row>Merc 450SLC</th><td> 15.20</td><td>  8.00</td><td>275.80</td><td>180.00</td><td>  3.07</td><td>  3.78</td><td> 18.00</td><td>  0.00</td><td>  0.00</td><td>  3.00</td><td>  3.00</td></tr>\n",
       "\t<tr><th scope=row>Cadillac Fleetwood</th><td> 10.40</td><td>  8.00</td><td>472.00</td><td>205.00</td><td>  2.93</td><td>  5.25</td><td> 17.98</td><td>  0.00</td><td>  0.00</td><td>  3.00</td><td>  4.00</td></tr>\n",
       "\t<tr><th scope=row>Lincoln Continental</th><td> 10.400</td><td>  8.000</td><td>460.000</td><td>215.000</td><td>  3.000</td><td>  5.424</td><td> 17.820</td><td>  0.000</td><td>  0.000</td><td>  3.000</td><td>  4.000</td></tr>\n",
       "\t<tr><th scope=row>Chrysler Imperial</th><td> 14.700</td><td>  8.000</td><td>440.000</td><td>230.000</td><td>  3.230</td><td>  5.345</td><td> 17.420</td><td>  0.000</td><td>  0.000</td><td>  3.000</td><td>  4.000</td></tr>\n",
       "\t<tr><th scope=row>Fiat 128</th><td>32.40</td><td> 4.00</td><td>78.70</td><td>66.00</td><td> 4.08</td><td> 2.20</td><td>19.47</td><td> 1.00</td><td> 1.00</td><td> 4.00</td><td> 1.00</td></tr>\n",
       "\t<tr><th scope=row>Honda Civic</th><td>30.400</td><td> 4.000</td><td>75.700</td><td>52.000</td><td> 4.930</td><td> 1.615</td><td>18.520</td><td> 1.000</td><td> 1.000</td><td> 4.000</td><td> 2.000</td></tr>\n",
       "\t<tr><th scope=row>Toyota Corolla</th><td>33.900</td><td> 4.000</td><td>71.100</td><td>65.000</td><td> 4.220</td><td> 1.835</td><td>19.900</td><td> 1.000</td><td> 1.000</td><td> 4.000</td><td> 1.000</td></tr>\n",
       "\t<tr><th scope=row>Toyota Corona</th><td> 21.500</td><td>  4.000</td><td>120.100</td><td> 97.000</td><td>  3.700</td><td>  2.465</td><td> 20.010</td><td>  1.000</td><td>  0.000</td><td>  3.000</td><td>  1.000</td></tr>\n",
       "\t<tr><th scope=row>Dodge Challenger</th><td> 15.50</td><td>  8.00</td><td>318.00</td><td>150.00</td><td>  2.76</td><td>  3.52</td><td> 16.87</td><td>  0.00</td><td>  0.00</td><td>  3.00</td><td>  2.00</td></tr>\n",
       "\t<tr><th scope=row>AMC Javelin</th><td> 15.200</td><td>  8.000</td><td>304.000</td><td>150.000</td><td>  3.150</td><td>  3.435</td><td> 17.300</td><td>  0.000</td><td>  0.000</td><td>  3.000</td><td>  2.000</td></tr>\n",
       "\t<tr><th scope=row>Camaro Z28</th><td> 13.30</td><td>  8.00</td><td>350.00</td><td>245.00</td><td>  3.73</td><td>  3.84</td><td> 15.41</td><td>  0.00</td><td>  0.00</td><td>  3.00</td><td>  4.00</td></tr>\n",
       "\t<tr><th scope=row>Pontiac Firebird</th><td> 19.200</td><td>  8.000</td><td>400.000</td><td>175.000</td><td>  3.080</td><td>  3.845</td><td> 17.050</td><td>  0.000</td><td>  0.000</td><td>  3.000</td><td>  2.000</td></tr>\n",
       "\t<tr><th scope=row>Fiat X1-9</th><td>27.300</td><td> 4.000</td><td>79.000</td><td>66.000</td><td> 4.080</td><td> 1.935</td><td>18.900</td><td> 1.000</td><td> 1.000</td><td> 4.000</td><td> 1.000</td></tr>\n",
       "\t<tr><th scope=row>Porsche 914-2</th><td> 26.00</td><td>  4.00</td><td>120.30</td><td> 91.00</td><td>  4.43</td><td>  2.14</td><td> 16.70</td><td>  0.00</td><td>  1.00</td><td>  5.00</td><td>  2.00</td></tr>\n",
       "\t<tr><th scope=row>Lotus Europa</th><td> 30.400</td><td>  4.000</td><td> 95.100</td><td>113.000</td><td>  3.770</td><td>  1.513</td><td> 16.900</td><td>  1.000</td><td>  1.000</td><td>  5.000</td><td>  2.000</td></tr>\n",
       "\t<tr><th scope=row>Ford Pantera L</th><td> 15.80</td><td>  8.00</td><td>351.00</td><td>264.00</td><td>  4.22</td><td>  3.17</td><td> 14.50</td><td>  0.00</td><td>  1.00</td><td>  5.00</td><td>  4.00</td></tr>\n",
       "\t<tr><th scope=row>Ferrari Dino</th><td> 19.70</td><td>  6.00</td><td>145.00</td><td>175.00</td><td>  3.62</td><td>  2.77</td><td> 15.50</td><td>  0.00</td><td>  1.00</td><td>  5.00</td><td>  6.00</td></tr>\n",
       "\t<tr><th scope=row>Maserati Bora</th><td> 15.00</td><td>  8.00</td><td>301.00</td><td>335.00</td><td>  3.54</td><td>  3.57</td><td> 14.60</td><td>  0.00</td><td>  1.00</td><td>  5.00</td><td>  8.00</td></tr>\n",
       "\t<tr><th scope=row>Volvo 142E</th><td> 21.40</td><td>  4.00</td><td>121.00</td><td>109.00</td><td>  4.11</td><td>  2.78</td><td> 18.60</td><td>  1.00</td><td>  1.00</td><td>  4.00</td><td>  2.00</td></tr>\n",
       "</tbody>\n",
       "</table>\n"
      ],
      "text/latex": [
       "\\begin{tabular}{r|lllllllllll}\n",
       "  & mpg & cyl & disp & hp & drat & wt & qsec & vs & am & gear & carb\\\\\n",
       "\\hline\n",
       "\tMazda RX4 &  21.00 &   6.00 & 160.00 & 110.00 &   3.90 &   2.62 &  16.46 &   0.00 &   1.00 &   4.00 &   4.00\\\\\n",
       "\tMazda RX4 Wag &  21.000 &   6.000 & 160.000 & 110.000 &   3.900 &   2.875 &  17.020 &   0.000 &   1.000 &   4.000 &   4.000\\\\\n",
       "\tDatsun 710 &  22.80 &   4.00 & 108.00 &  93.00 &   3.85 &   2.32 &  18.61 &   1.00 &   1.00 &   4.00 &   1.00\\\\\n",
       "\tHornet 4 Drive &  21.400 &   6.000 & 258.000 & 110.000 &   3.080 &   3.215 &  19.440 &   1.000 &   0.000 &   3.000 &   1.000\\\\\n",
       "\tHornet Sportabout &  18.70 &   8.00 & 360.00 & 175.00 &   3.15 &   3.44 &  17.02 &   0.00 &   0.00 &   3.00 &   2.00\\\\\n",
       "\tValiant &  18.10 &   6.00 & 225.00 & 105.00 &   2.76 &   3.46 &  20.22 &   1.00 &   0.00 &   3.00 &   1.00\\\\\n",
       "\tDuster 360 &  14.30 &   8.00 & 360.00 & 245.00 &   3.21 &   3.57 &  15.84 &   0.00 &   0.00 &   3.00 &   4.00\\\\\n",
       "\tMerc 240D &  24.40 &   4.00 & 146.70 &  62.00 &   3.69 &   3.19 &  20.00 &   1.00 &   0.00 &   4.00 &   2.00\\\\\n",
       "\tMerc 230 &  22.80 &   4.00 & 140.80 &  95.00 &   3.92 &   3.15 &  22.90 &   1.00 &   0.00 &   4.00 &   2.00\\\\\n",
       "\tMerc 280 &  19.20 &   6.00 & 167.60 & 123.00 &   3.92 &   3.44 &  18.30 &   1.00 &   0.00 &   4.00 &   4.00\\\\\n",
       "\tMerc 280C &  17.80 &   6.00 & 167.60 & 123.00 &   3.92 &   3.44 &  18.90 &   1.00 &   0.00 &   4.00 &   4.00\\\\\n",
       "\tMerc 450SE &  16.40 &   8.00 & 275.80 & 180.00 &   3.07 &   4.07 &  17.40 &   0.00 &   0.00 &   3.00 &   3.00\\\\\n",
       "\tMerc 450SL &  17.30 &   8.00 & 275.80 & 180.00 &   3.07 &   3.73 &  17.60 &   0.00 &   0.00 &   3.00 &   3.00\\\\\n",
       "\tMerc 450SLC &  15.20 &   8.00 & 275.80 & 180.00 &   3.07 &   3.78 &  18.00 &   0.00 &   0.00 &   3.00 &   3.00\\\\\n",
       "\tCadillac Fleetwood &  10.40 &   8.00 & 472.00 & 205.00 &   2.93 &   5.25 &  17.98 &   0.00 &   0.00 &   3.00 &   4.00\\\\\n",
       "\tLincoln Continental &  10.400 &   8.000 & 460.000 & 215.000 &   3.000 &   5.424 &  17.820 &   0.000 &   0.000 &   3.000 &   4.000\\\\\n",
       "\tChrysler Imperial &  14.700 &   8.000 & 440.000 & 230.000 &   3.230 &   5.345 &  17.420 &   0.000 &   0.000 &   3.000 &   4.000\\\\\n",
       "\tFiat 128 & 32.40 &  4.00 & 78.70 & 66.00 &  4.08 &  2.20 & 19.47 &  1.00 &  1.00 &  4.00 &  1.00\\\\\n",
       "\tHonda Civic & 30.400 &  4.000 & 75.700 & 52.000 &  4.930 &  1.615 & 18.520 &  1.000 &  1.000 &  4.000 &  2.000\\\\\n",
       "\tToyota Corolla & 33.900 &  4.000 & 71.100 & 65.000 &  4.220 &  1.835 & 19.900 &  1.000 &  1.000 &  4.000 &  1.000\\\\\n",
       "\tToyota Corona &  21.500 &   4.000 & 120.100 &  97.000 &   3.700 &   2.465 &  20.010 &   1.000 &   0.000 &   3.000 &   1.000\\\\\n",
       "\tDodge Challenger &  15.50 &   8.00 & 318.00 & 150.00 &   2.76 &   3.52 &  16.87 &   0.00 &   0.00 &   3.00 &   2.00\\\\\n",
       "\tAMC Javelin &  15.200 &   8.000 & 304.000 & 150.000 &   3.150 &   3.435 &  17.300 &   0.000 &   0.000 &   3.000 &   2.000\\\\\n",
       "\tCamaro Z28 &  13.30 &   8.00 & 350.00 & 245.00 &   3.73 &   3.84 &  15.41 &   0.00 &   0.00 &   3.00 &   4.00\\\\\n",
       "\tPontiac Firebird &  19.200 &   8.000 & 400.000 & 175.000 &   3.080 &   3.845 &  17.050 &   0.000 &   0.000 &   3.000 &   2.000\\\\\n",
       "\tFiat X1-9 & 27.300 &  4.000 & 79.000 & 66.000 &  4.080 &  1.935 & 18.900 &  1.000 &  1.000 &  4.000 &  1.000\\\\\n",
       "\tPorsche 914-2 &  26.00 &   4.00 & 120.30 &  91.00 &   4.43 &   2.14 &  16.70 &   0.00 &   1.00 &   5.00 &   2.00\\\\\n",
       "\tLotus Europa &  30.400 &   4.000 &  95.100 & 113.000 &   3.770 &   1.513 &  16.900 &   1.000 &   1.000 &   5.000 &   2.000\\\\\n",
       "\tFord Pantera L &  15.80 &   8.00 & 351.00 & 264.00 &   4.22 &   3.17 &  14.50 &   0.00 &   1.00 &   5.00 &   4.00\\\\\n",
       "\tFerrari Dino &  19.70 &   6.00 & 145.00 & 175.00 &   3.62 &   2.77 &  15.50 &   0.00 &   1.00 &   5.00 &   6.00\\\\\n",
       "\tMaserati Bora &  15.00 &   8.00 & 301.00 & 335.00 &   3.54 &   3.57 &  14.60 &   0.00 &   1.00 &   5.00 &   8.00\\\\\n",
       "\tVolvo 142E &  21.40 &   4.00 & 121.00 & 109.00 &   4.11 &   2.78 &  18.60 &   1.00 &   1.00 &   4.00 &   2.00\\\\\n",
       "\\end{tabular}\n"
      ],
      "text/plain": [
       "                     mpg cyl  disp  hp drat    wt  qsec vs am gear carb\n",
       "Mazda RX4           21.0   6 160.0 110 3.90 2.620 16.46  0  1    4    4\n",
       "Mazda RX4 Wag       21.0   6 160.0 110 3.90 2.875 17.02  0  1    4    4\n",
       "Datsun 710          22.8   4 108.0  93 3.85 2.320 18.61  1  1    4    1\n",
       "Hornet 4 Drive      21.4   6 258.0 110 3.08 3.215 19.44  1  0    3    1\n",
       "Hornet Sportabout   18.7   8 360.0 175 3.15 3.440 17.02  0  0    3    2\n",
       "Valiant             18.1   6 225.0 105 2.76 3.460 20.22  1  0    3    1\n",
       "Duster 360          14.3   8 360.0 245 3.21 3.570 15.84  0  0    3    4\n",
       "Merc 240D           24.4   4 146.7  62 3.69 3.190 20.00  1  0    4    2\n",
       "Merc 230            22.8   4 140.8  95 3.92 3.150 22.90  1  0    4    2\n",
       "Merc 280            19.2   6 167.6 123 3.92 3.440 18.30  1  0    4    4\n",
       "Merc 280C           17.8   6 167.6 123 3.92 3.440 18.90  1  0    4    4\n",
       "Merc 450SE          16.4   8 275.8 180 3.07 4.070 17.40  0  0    3    3\n",
       "Merc 450SL          17.3   8 275.8 180 3.07 3.730 17.60  0  0    3    3\n",
       "Merc 450SLC         15.2   8 275.8 180 3.07 3.780 18.00  0  0    3    3\n",
       "Cadillac Fleetwood  10.4   8 472.0 205 2.93 5.250 17.98  0  0    3    4\n",
       "Lincoln Continental 10.4   8 460.0 215 3.00 5.424 17.82  0  0    3    4\n",
       "Chrysler Imperial   14.7   8 440.0 230 3.23 5.345 17.42  0  0    3    4\n",
       "Fiat 128            32.4   4  78.7  66 4.08 2.200 19.47  1  1    4    1\n",
       "Honda Civic         30.4   4  75.7  52 4.93 1.615 18.52  1  1    4    2\n",
       "Toyota Corolla      33.9   4  71.1  65 4.22 1.835 19.90  1  1    4    1\n",
       "Toyota Corona       21.5   4 120.1  97 3.70 2.465 20.01  1  0    3    1\n",
       "Dodge Challenger    15.5   8 318.0 150 2.76 3.520 16.87  0  0    3    2\n",
       "AMC Javelin         15.2   8 304.0 150 3.15 3.435 17.30  0  0    3    2\n",
       "Camaro Z28          13.3   8 350.0 245 3.73 3.840 15.41  0  0    3    4\n",
       "Pontiac Firebird    19.2   8 400.0 175 3.08 3.845 17.05  0  0    3    2\n",
       "Fiat X1-9           27.3   4  79.0  66 4.08 1.935 18.90  1  1    4    1\n",
       "Porsche 914-2       26.0   4 120.3  91 4.43 2.140 16.70  0  1    5    2\n",
       "Lotus Europa        30.4   4  95.1 113 3.77 1.513 16.90  1  1    5    2\n",
       "Ford Pantera L      15.8   8 351.0 264 4.22 3.170 14.50  0  1    5    4\n",
       "Ferrari Dino        19.7   6 145.0 175 3.62 2.770 15.50  0  1    5    6\n",
       "Maserati Bora       15.0   8 301.0 335 3.54 3.570 14.60  0  1    5    8\n",
       "Volvo 142E          21.4   4 121.0 109 4.11 2.780 18.60  1  1    4    2"
      ]
     },
     "metadata": {},
     "output_type": "display_data"
    },
    {
     "name": "stdout",
     "output_type": "stream",
     "text": [
      "'data.frame':\t32 obs. of  11 variables:\n",
      " $ mpg : num  21 21 22.8 21.4 18.7 18.1 14.3 24.4 22.8 19.2 ...\n",
      " $ cyl : num  6 6 4 6 8 6 8 4 4 6 ...\n",
      " $ disp: num  160 160 108 258 360 ...\n",
      " $ hp  : num  110 110 93 110 175 105 245 62 95 123 ...\n",
      " $ drat: num  3.9 3.9 3.85 3.08 3.15 2.76 3.21 3.69 3.92 3.92 ...\n",
      " $ wt  : num  2.62 2.88 2.32 3.21 3.44 ...\n",
      " $ qsec: num  16.5 17 18.6 19.4 17 ...\n",
      " $ vs  : num  0 0 1 1 0 1 0 1 1 1 ...\n",
      " $ am  : num  1 1 1 0 0 0 0 0 0 0 ...\n",
      " $ gear: num  4 4 4 3 3 3 3 4 4 4 ...\n",
      " $ carb: num  4 4 1 1 2 1 4 2 2 4 ...\n"
     ]
    },
    {
     "data": {
      "text/html": [
       "<ol class=list-inline>\n",
       "\t<li>\"mpg\"</li>\n",
       "\t<li>\"cyl\"</li>\n",
       "\t<li>\"disp\"</li>\n",
       "\t<li>\"hp\"</li>\n",
       "\t<li>\"drat\"</li>\n",
       "\t<li>\"wt\"</li>\n",
       "\t<li>\"qsec\"</li>\n",
       "\t<li>\"vs\"</li>\n",
       "\t<li>\"am\"</li>\n",
       "\t<li>\"gear\"</li>\n",
       "\t<li>\"carb\"</li>\n",
       "</ol>\n"
      ],
      "text/latex": [
       "\\begin{enumerate*}\n",
       "\\item \"mpg\"\n",
       "\\item \"cyl\"\n",
       "\\item \"disp\"\n",
       "\\item \"hp\"\n",
       "\\item \"drat\"\n",
       "\\item \"wt\"\n",
       "\\item \"qsec\"\n",
       "\\item \"vs\"\n",
       "\\item \"am\"\n",
       "\\item \"gear\"\n",
       "\\item \"carb\"\n",
       "\\end{enumerate*}\n"
      ],
      "text/markdown": [
       "1. \"mpg\"\n",
       "2. \"cyl\"\n",
       "3. \"disp\"\n",
       "4. \"hp\"\n",
       "5. \"drat\"\n",
       "6. \"wt\"\n",
       "7. \"qsec\"\n",
       "8. \"vs\"\n",
       "9. \"am\"\n",
       "10. \"gear\"\n",
       "11. \"carb\"\n",
       "\n",
       "\n"
      ],
      "text/plain": [
       " [1] \"mpg\"  \"cyl\"  \"disp\" \"hp\"   \"drat\" \"wt\"   \"qsec\" \"vs\"   \"am\"   \"gear\"\n",
       "[11] \"carb\""
      ]
     },
     "metadata": {},
     "output_type": "display_data"
    },
    {
     "data": {
      "text/html": [
       "\"mpg\""
      ],
      "text/latex": [
       "\"mpg\""
      ],
      "text/markdown": [
       "\"mpg\""
      ],
      "text/plain": [
       "[1] \"mpg\""
      ]
     },
     "metadata": {},
     "output_type": "display_data"
    },
    {
     "name": "stdout",
     "output_type": "stream",
     "text": [
      "[1] \"mpg\"\n",
      "[1] \"cyl\"\n",
      "[1] \"disp\"\n",
      "[1] \"hp\"\n",
      "[1] \"drat\"\n",
      "[1] \"wt\"\n",
      "[1] \"qsec\"\n",
      "[1] \"vs\"\n",
      "[1] \"am\"\n",
      "[1] \"gear\"\n",
      "[1] \"carb\"\n",
      "[1] \"\"\n",
      "[1] \"Sepal.Length\"\n",
      "[1] \"Sepal.Width\"\n",
      "[1] \"Petal.Length\"\n",
      "[1] \"Petal.Width\"\n",
      "[1] \"Species\"\n"
     ]
    }
   ],
   "source": [
    "mtcars\n",
    "str(mtcars)\n",
    "colname <- names(mtcars)\n",
    "colname\n",
    "colname[1]\n",
    "lencol <- length(colname)\n",
    "for (i in 1:lencol){\n",
    "    print(colname[i])\n",
    "}\n",
    "print('')\n",
    "library(magrittr)\n",
    "iriscollen <- iris %>% names %>% length\n",
    "for (i in 1:iriscollen){\n",
    "    print(names(iris)[i])\n",
    "}"
   ]
  },
  {
   "cell_type": "code",
   "execution_count": 5,
   "metadata": {
    "collapsed": false
   },
   "outputs": [
    {
     "data": {
      "text/html": [
       "<ol class=list-inline>\n",
       "\t<li>\"Female\"</li>\n",
       "\t<li>\"Male\"</li>\n",
       "\t<li>\"Male\"</li>\n",
       "\t<li>\"Female\"</li>\n",
       "\t<li>\"Male\"</li>\n",
       "\t<li>\"Female\"</li>\n",
       "</ol>\n"
      ],
      "text/latex": [
       "\\begin{enumerate*}\n",
       "\\item \"Female\"\n",
       "\\item \"Male\"\n",
       "\\item \"Male\"\n",
       "\\item \"Female\"\n",
       "\\item \"Male\"\n",
       "\\item \"Female\"\n",
       "\\end{enumerate*}\n"
      ],
      "text/markdown": [
       "1. \"Female\"\n",
       "2. \"Male\"\n",
       "3. \"Male\"\n",
       "4. \"Female\"\n",
       "5. \"Male\"\n",
       "6. \"Female\"\n",
       "\n",
       "\n"
      ],
      "text/plain": [
       "[1] \"Female\" \"Male\"   \"Male\"   \"Female\" \"Male\"   \"Female\""
      ]
     },
     "metadata": {},
     "output_type": "display_data"
    },
    {
     "name": "stdout",
     "output_type": "stream",
     "text": [
      " chr [1:6] \"Female\" \"Male\" \"Male\" \"Female\" \"Male\" \"Female\"\n"
     ]
    },
    {
     "data": {
      "text/html": [
       "\"character\""
      ],
      "text/latex": [
       "\"character\""
      ],
      "text/markdown": [
       "\"character\""
      ],
      "text/plain": [
       "[1] \"character\""
      ]
     },
     "metadata": {},
     "output_type": "display_data"
    },
    {
     "data": {
      "text/plain": [
       "   Length     Class      Mode \n",
       "        6 character character "
      ]
     },
     "metadata": {},
     "output_type": "display_data"
    },
    {
     "data": {
      "text/html": [
       "<ol class=list-inline>\n",
       "\t<li>Female</li>\n",
       "\t<li>Male</li>\n",
       "\t<li>Male</li>\n",
       "\t<li>Female</li>\n",
       "\t<li>Male</li>\n",
       "\t<li>Female</li>\n",
       "</ol>\n"
      ],
      "text/latex": [
       "\\begin{enumerate*}\n",
       "\\item Female\n",
       "\\item Male\n",
       "\\item Male\n",
       "\\item Female\n",
       "\\item Male\n",
       "\\item Female\n",
       "\\end{enumerate*}\n"
      ],
      "text/markdown": [
       "1. Female\n",
       "2. Male\n",
       "3. Male\n",
       "4. Female\n",
       "5. Male\n",
       "6. Female\n",
       "\n",
       "\n"
      ],
      "text/plain": [
       "[1] Female Male   Male   Female Male   Female\n",
       "Levels: Female Male"
      ]
     },
     "metadata": {},
     "output_type": "display_data"
    },
    {
     "name": "stdout",
     "output_type": "stream",
     "text": [
      " Factor w/ 2 levels \"Female\",\"Male\": 1 2 2 1 2 1\n"
     ]
    },
    {
     "data": {
      "text/html": [
       "\"factor\""
      ],
      "text/latex": [
       "\"factor\""
      ],
      "text/markdown": [
       "\"factor\""
      ],
      "text/plain": [
       "[1] \"factor\""
      ]
     },
     "metadata": {},
     "output_type": "display_data"
    },
    {
     "data": {
      "text/html": [
       "<dl class=dl-horizontal>\n",
       "\t<dt>Female</dt>\n",
       "\t\t<dd>3</dd>\n",
       "\t<dt>Male</dt>\n",
       "\t\t<dd>3</dd>\n",
       "</dl>\n"
      ],
      "text/latex": [
       "\\begin{description*}\n",
       "\\item[Female] 3\n",
       "\\item[Male] 3\n",
       "\\end{description*}\n"
      ],
      "text/markdown": [
       "Female\n",
       ":   3Male\n",
       ":   3\n",
       "\n"
      ],
      "text/plain": [
       "Female   Male \n",
       "     3      3 "
      ]
     },
     "metadata": {},
     "output_type": "display_data"
    },
    {
     "data": {
      "text/html": [
       "Female"
      ],
      "text/latex": [
       "Female"
      ],
      "text/markdown": [
       "Female"
      ],
      "text/plain": [
       "[1] Female\n",
       "Levels: Female Male"
      ]
     },
     "metadata": {},
     "output_type": "display_data"
    },
    {
     "data": {
      "text/html": [
       "Male"
      ],
      "text/latex": [
       "Male"
      ],
      "text/markdown": [
       "Male"
      ],
      "text/plain": [
       "[1] Male\n",
       "Levels: Female Male"
      ]
     },
     "metadata": {},
     "output_type": "display_data"
    },
    {
     "name": "stderr",
     "output_type": "stream",
     "text": [
      "Warning message:\n",
      "In Ops.factor(facgender[1], facgender[2]): '>' not meaningful for factors"
     ]
    },
    {
     "data": {
      "text/plain": [
       "[1] NA"
      ]
     },
     "metadata": {},
     "output_type": "display_data"
    }
   ],
   "source": [
    "gender <- c(\"Female\",\"Male\",\"Male\",\"Female\",\"Male\",\"Female\")\n",
    "gender\n",
    "str(gender)\n",
    "class(gender)\n",
    "summary(gender)\n",
    "\n",
    "facgender <- factor(gender)\n",
    "facgender\n",
    "str(facgender)\n",
    "class(facgender)\n",
    "summary(facgender)\n",
    "facgender[1]\n",
    "facgender[2]\n",
    "facgender[1] > facgender[2] # No discrimination in R"
   ]
  },
  {
   "cell_type": "code",
   "execution_count": 6,
   "metadata": {
    "collapsed": false
   },
   "outputs": [
    {
     "data": {
      "text/html": [
       "<ol class=list-inline>\n",
       "\t<li>Child</li>\n",
       "\t<li>Teen</li>\n",
       "\t<li>Adult</li>\n",
       "\t<li>Teen</li>\n",
       "\t<li>Adult</li>\n",
       "</ol>\n"
      ],
      "text/latex": [
       "\\begin{enumerate*}\n",
       "\\item Child\n",
       "\\item Teen\n",
       "\\item Adult\n",
       "\\item Teen\n",
       "\\item Adult\n",
       "\\end{enumerate*}\n"
      ],
      "text/markdown": [
       "1. Child\n",
       "2. Teen\n",
       "3. Adult\n",
       "4. Teen\n",
       "5. Adult\n",
       "\n",
       "\n"
      ],
      "text/plain": [
       "[1] Child Teen  Adult Teen  Adult\n",
       "Levels: Child < Teen < Adult"
      ]
     },
     "metadata": {},
     "output_type": "display_data"
    },
    {
     "name": "stdout",
     "output_type": "stream",
     "text": [
      " Ord.factor w/ 3 levels \"Child\"<\"Teen\"<..: 1 2 3 2 3\n"
     ]
    },
    {
     "data": {
      "text/html": [
       "<ol class=list-inline>\n",
       "\t<li>\"ordered\"</li>\n",
       "\t<li>\"factor\"</li>\n",
       "</ol>\n"
      ],
      "text/latex": [
       "\\begin{enumerate*}\n",
       "\\item \"ordered\"\n",
       "\\item \"factor\"\n",
       "\\end{enumerate*}\n"
      ],
      "text/markdown": [
       "1. \"ordered\"\n",
       "2. \"factor\"\n",
       "\n",
       "\n"
      ],
      "text/plain": [
       "[1] \"ordered\" \"factor\" "
      ]
     },
     "metadata": {},
     "output_type": "display_data"
    },
    {
     "data": {
      "text/html": [
       "<dl class=dl-horizontal>\n",
       "\t<dt>Child</dt>\n",
       "\t\t<dd>1</dd>\n",
       "\t<dt>Teen</dt>\n",
       "\t\t<dd>2</dd>\n",
       "\t<dt>Adult</dt>\n",
       "\t\t<dd>2</dd>\n",
       "</dl>\n"
      ],
      "text/latex": [
       "\\begin{description*}\n",
       "\\item[Child] 1\n",
       "\\item[Teen] 2\n",
       "\\item[Adult] 2\n",
       "\\end{description*}\n"
      ],
      "text/markdown": [
       "Child\n",
       ":   1Teen\n",
       ":   2Adult\n",
       ":   2\n",
       "\n"
      ],
      "text/plain": [
       "Child  Teen Adult \n",
       "    1     2     2 "
      ]
     },
     "metadata": {},
     "output_type": "display_data"
    }
   ],
   "source": [
    "age <- c(\"Child\",\"Teen\",\"Adult\",\"Teen\",\"Adult\")\n",
    "agefac <- factor(age, ordered = TRUE, levels = c(\"Child\",\"Teen\",\"Adult\"))\n",
    "agefac\n",
    "str(agefac)\n",
    "class(agefac)\n",
    "summary(agefac)"
   ]
  },
  {
   "cell_type": "code",
   "execution_count": 7,
   "metadata": {
    "collapsed": false
   },
   "outputs": [
    {
     "data": {
      "text/html": [
       "<table>\n",
       "<tbody>\n",
       "\t<tr><td>1</td><td>2</td><td>3</td><td>4</td><td>5</td><td>6</td><td>7</td><td>8</td></tr>\n",
       "\t<tr><td> 9</td><td>10</td><td>11</td><td>12</td><td>13</td><td>14</td><td>15</td><td>16</td></tr>\n",
       "\t<tr><td>17</td><td>18</td><td>19</td><td>20</td><td>21</td><td>22</td><td>23</td><td>24</td></tr>\n",
       "</tbody>\n",
       "</table>\n"
      ],
      "text/latex": [
       "\\begin{tabular}{llllllll}\n",
       "\t 1 & 2 & 3 & 4 & 5 & 6 & 7 & 8\\\\\n",
       "\t  9 & 10 & 11 & 12 & 13 & 14 & 15 & 16\\\\\n",
       "\t 17 & 18 & 19 & 20 & 21 & 22 & 23 & 24\\\\\n",
       "\\end{tabular}\n"
      ],
      "text/markdown": [
       "1. 1\n",
       "2. 9\n",
       "3. 17\n",
       "4. 2\n",
       "5. 10\n",
       "6. 18\n",
       "7. 3\n",
       "8. 11\n",
       "9. 19\n",
       "10. 4\n",
       "11. 12\n",
       "12. 20\n",
       "13. 5\n",
       "14. 13\n",
       "15. 21\n",
       "16. 6\n",
       "17. 14\n",
       "18. 22\n",
       "19. 7\n",
       "20. 15\n",
       "21. 23\n",
       "22. 8\n",
       "23. 16\n",
       "24. 24\n",
       "\n",
       "\n"
      ],
      "text/plain": [
       "     [,1] [,2] [,3] [,4] [,5] [,6] [,7] [,8]\n",
       "[1,]    1    2    3    4    5    6    7    8\n",
       "[2,]    9   10   11   12   13   14   15   16\n",
       "[3,]   17   18   19   20   21   22   23   24"
      ]
     },
     "metadata": {},
     "output_type": "display_data"
    },
    {
     "data": {
      "text/html": [
       "<table>\n",
       "<tbody>\n",
       "\t<tr><td> 1</td><td> 4</td><td> 7</td><td>10</td><td>13</td><td>16</td><td>19</td><td>22</td></tr>\n",
       "\t<tr><td> 2</td><td> 5</td><td> 8</td><td>11</td><td>14</td><td>17</td><td>20</td><td>23</td></tr>\n",
       "\t<tr><td> 3</td><td> 6</td><td> 9</td><td>12</td><td>15</td><td>18</td><td>21</td><td>24</td></tr>\n",
       "</tbody>\n",
       "</table>\n"
      ],
      "text/latex": [
       "\\begin{tabular}{llllllll}\n",
       "\t  1 &  4 &  7 & 10 & 13 & 16 & 19 & 22\\\\\n",
       "\t  2 &  5 &  8 & 11 & 14 & 17 & 20 & 23\\\\\n",
       "\t  3 &  6 &  9 & 12 & 15 & 18 & 21 & 24\\\\\n",
       "\\end{tabular}\n"
      ],
      "text/markdown": [
       "1. 1\n",
       "2. 2\n",
       "3. 3\n",
       "4. 4\n",
       "5. 5\n",
       "6. 6\n",
       "7. 7\n",
       "8. 8\n",
       "9. 9\n",
       "10. 10\n",
       "11. 11\n",
       "12. 12\n",
       "13. 13\n",
       "14. 14\n",
       "15. 15\n",
       "16. 16\n",
       "17. 17\n",
       "18. 18\n",
       "19. 19\n",
       "20. 20\n",
       "21. 21\n",
       "22. 22\n",
       "23. 23\n",
       "24. 24\n",
       "\n",
       "\n"
      ],
      "text/plain": [
       "     [,1] [,2] [,3] [,4] [,5] [,6] [,7] [,8]\n",
       "[1,]    1    4    7   10   13   16   19   22\n",
       "[2,]    2    5    8   11   14   17   20   23\n",
       "[3,]    3    6    9   12   15   18   21   24"
      ]
     },
     "metadata": {},
     "output_type": "display_data"
    },
    {
     "data": {
      "text/html": [
       "1"
      ],
      "text/latex": [
       "1"
      ],
      "text/markdown": [
       "1"
      ],
      "text/plain": [
       "[1] 1"
      ]
     },
     "metadata": {},
     "output_type": "display_data"
    },
    {
     "data": {
      "text/html": [
       "<ol class=list-inline>\n",
       "\t<li>1</li>\n",
       "\t<li>2</li>\n",
       "\t<li>3</li>\n",
       "\t<li>4</li>\n",
       "\t<li>5</li>\n",
       "\t<li>6</li>\n",
       "\t<li>7</li>\n",
       "\t<li>8</li>\n",
       "</ol>\n"
      ],
      "text/latex": [
       "\\begin{enumerate*}\n",
       "\\item 1\n",
       "\\item 2\n",
       "\\item 3\n",
       "\\item 4\n",
       "\\item 5\n",
       "\\item 6\n",
       "\\item 7\n",
       "\\item 8\n",
       "\\end{enumerate*}\n"
      ],
      "text/markdown": [
       "1. 1\n",
       "2. 2\n",
       "3. 3\n",
       "4. 4\n",
       "5. 5\n",
       "6. 6\n",
       "7. 7\n",
       "8. 8\n",
       "\n",
       "\n"
      ],
      "text/plain": [
       "[1] 1 2 3 4 5 6 7 8"
      ]
     },
     "metadata": {},
     "output_type": "display_data"
    },
    {
     "data": {
      "text/html": [
       "<ol class=list-inline>\n",
       "\t<li>2</li>\n",
       "\t<li>10</li>\n",
       "\t<li>18</li>\n",
       "</ol>\n"
      ],
      "text/latex": [
       "\\begin{enumerate*}\n",
       "\\item 2\n",
       "\\item 10\n",
       "\\item 18\n",
       "\\end{enumerate*}\n"
      ],
      "text/markdown": [
       "1. 2\n",
       "2. 10\n",
       "3. 18\n",
       "\n",
       "\n"
      ],
      "text/plain": [
       "[1]  2 10 18"
      ]
     },
     "metadata": {},
     "output_type": "display_data"
    },
    {
     "data": {
      "text/html": [
       "23"
      ],
      "text/latex": [
       "23"
      ],
      "text/markdown": [
       "23"
      ],
      "text/plain": [
       "[1] 23"
      ]
     },
     "metadata": {},
     "output_type": "display_data"
    }
   ],
   "source": [
    "vec <- c(1:24)\n",
    "mat1 <- matrix(vec,nrow = 3, ncol = 8, byrow = TRUE)\n",
    "mat2 <- matrix(vec,nrow = 3, ncol = 8)\n",
    "mat1\n",
    "mat2\n",
    "mat1[1]\n",
    "mat1[1,]\n",
    "mat1[,2]\n",
    "mat1[3,7]"
   ]
  },
  {
   "cell_type": "code",
   "execution_count": 8,
   "metadata": {
    "collapsed": false
   },
   "outputs": [
    {
     "data": {
      "text/plain": [
       "  studentID age  course status\n",
       "1       s01  17 Deutsch Normal\n",
       "2       s02  20 English   Poor\n",
       "3       s03  18 English   Good\n",
       "4       s04  23 Deutsch Normal"
      ]
     },
     "metadata": {},
     "output_type": "display_data"
    },
    {
     "name": "stdout",
     "output_type": "stream",
     "text": [
      "'data.frame':\t4 obs. of  4 variables:\n",
      " $ studentID: Factor w/ 4 levels \"s01\",\"s02\",\"s03\",..: 1 2 3 4\n",
      " $ age      : num  17 20 18 23\n",
      " $ course   : Factor w/ 2 levels \"Deutsch\",\"English\": 1 2 2 1\n",
      " $ status   : Ord.factor w/ 3 levels \"Poor\"<\"Normal\"<..: 2 1 3 2\n"
     ]
    },
    {
     "data": {
      "text/html": [
       "<table>\n",
       "<thead><tr><th></th><th scope=col>age</th><th scope=col>course</th></tr></thead>\n",
       "<tbody>\n",
       "\t<tr><th scope=row>1</th><td>17     </td><td>Deutsch</td></tr>\n",
       "\t<tr><th scope=row>2</th><td>20     </td><td>English</td></tr>\n",
       "\t<tr><th scope=row>3</th><td>18     </td><td>English</td></tr>\n",
       "\t<tr><th scope=row>4</th><td>23     </td><td>Deutsch</td></tr>\n",
       "</tbody>\n",
       "</table>\n"
      ],
      "text/latex": [
       "\\begin{tabular}{r|ll}\n",
       "  & age & course\\\\\n",
       "\\hline\n",
       "\t1 & 17      & Deutsch\\\\\n",
       "\t2 & 20      & English\\\\\n",
       "\t3 & 18      & English\\\\\n",
       "\t4 & 23      & Deutsch\\\\\n",
       "\\end{tabular}\n"
      ],
      "text/plain": [
       "  age  course\n",
       "1  17 Deutsch\n",
       "2  20 English\n",
       "3  18 English\n",
       "4  23 Deutsch"
      ]
     },
     "metadata": {},
     "output_type": "display_data"
    },
    {
     "data": {
      "text/html": [
       "<ol class=list-inline>\n",
       "\t<li>Deutsch</li>\n",
       "\t<li>English</li>\n",
       "\t<li>English</li>\n",
       "\t<li>Deutsch</li>\n",
       "</ol>\n"
      ],
      "text/latex": [
       "\\begin{enumerate*}\n",
       "\\item Deutsch\n",
       "\\item English\n",
       "\\item English\n",
       "\\item Deutsch\n",
       "\\end{enumerate*}\n"
      ],
      "text/markdown": [
       "1. Deutsch\n",
       "2. English\n",
       "3. English\n",
       "4. Deutsch\n",
       "\n",
       "\n"
      ],
      "text/plain": [
       "[1] Deutsch English English Deutsch\n",
       "Levels: Deutsch English"
      ]
     },
     "metadata": {},
     "output_type": "display_data"
    },
    {
     "data": {
      "text/plain": [
       "  age status\n",
       "1  17 Normal\n",
       "2  20   Poor\n",
       "3  18   Good\n",
       "4  23 Normal"
      ]
     },
     "metadata": {},
     "output_type": "display_data"
    },
    {
     "data": {
      "text/html": [
       "s03"
      ],
      "text/latex": [
       "s03"
      ],
      "text/markdown": [
       "s03"
      ],
      "text/plain": [
       "[1] s03\n",
       "Levels: s01 s02 s03 s04"
      ]
     },
     "metadata": {},
     "output_type": "display_data"
    },
    {
     "data": {
      "text/plain": [
       "         \n",
       "          Poor Normal Good\n",
       "  Deutsch    0      2    0\n",
       "  English    1      0    1"
      ]
     },
     "metadata": {},
     "output_type": "display_data"
    },
    {
     "data": {
      "text/plain": [
       "   Min. 1st Qu.  Median    Mean 3rd Qu.    Max. \n",
       "  17.00   17.75   19.00   19.50   20.75   23.00 "
      ]
     },
     "metadata": {},
     "output_type": "display_data"
    },
    {
     "name": "stderr",
     "output_type": "stream",
     "text": [
      "The following objects are masked _by_ .GlobalEnv:\n",
      "\n",
      "    age, course, status, studentID\n",
      "\n"
     ]
    },
    {
     "data": {
      "text/plain": [
       "   Min. 1st Qu.  Median    Mean 3rd Qu.    Max. \n",
       "  17.00   17.75   19.00   19.50   20.75   23.00 "
      ]
     },
     "metadata": {},
     "output_type": "display_data"
    },
    {
     "data": {
      "text/plain": [
       "   Min. 1st Qu.  Median    Mean 3rd Qu.    Max. \n",
       "  17.00   17.75   19.00   19.50   20.75   23.00 "
      ]
     },
     "metadata": {},
     "output_type": "display_data"
    }
   ],
   "source": [
    "studentID <- c(\"s01\",\"s02\",\"s03\",\"s04\")\n",
    "age <- c(17,20,18,23)\n",
    "course <- c(\"Deutsch\",\"English\",\"English\",\"Deutsch\")\n",
    "status <- c(\"Normal\",\"Poor\",\"Good\",\"Normal\") %>% factor(., ordered = TRUE, levels = c(\"Poor\",\"Normal\",\"Good\"))\n",
    "\n",
    "studentdata <- data.frame(studentID,age,course,status)\n",
    "studentdata\n",
    "str(studentdata)\n",
    "studentdata[,2:3]\n",
    "studentdata[,\"course\"]\n",
    "studentdata[c(\"age\",\"status\")]\n",
    "studentdata$studentID[3]\n",
    "table(studentdata$course,studentdata$status)\n",
    "summary(studentdata$age)\n",
    "\n",
    "# convinient way\n",
    "#1\n",
    "attach(studentdata)\n",
    "summary(age)\n",
    "detach(studentdata)\n",
    "#2\n",
    "with(studentdata,{summary(age)})"
   ]
  },
  {
   "cell_type": "code",
   "execution_count": 9,
   "metadata": {
    "collapsed": false
   },
   "outputs": [
    {
     "data": {
      "text/html": [
       "11"
      ],
      "text/latex": [
       "11"
      ],
      "text/markdown": [
       "11"
      ],
      "text/plain": [
       "[1] 11"
      ]
     },
     "metadata": {},
     "output_type": "display_data"
    },
    {
     "data": {
      "text/html": [
       "<ol class=list-inline>\n",
       "\t<li>32</li>\n",
       "\t<li>11</li>\n",
       "</ol>\n"
      ],
      "text/latex": [
       "\\begin{enumerate*}\n",
       "\\item 32\n",
       "\\item 11\n",
       "\\end{enumerate*}\n"
      ],
      "text/markdown": [
       "1. 32\n",
       "2. 11\n",
       "\n",
       "\n"
      ],
      "text/plain": [
       "[1] 32 11"
      ]
     },
     "metadata": {},
     "output_type": "display_data"
    },
    {
     "name": "stdout",
     "output_type": "stream",
     "text": [
      "'data.frame':\t32 obs. of  11 variables:\n",
      " $ mpg : num  21 21 22.8 21.4 18.7 18.1 14.3 24.4 22.8 19.2 ...\n",
      " $ cyl : num  6 6 4 6 8 6 8 4 4 6 ...\n",
      " $ disp: num  160 160 108 258 360 ...\n",
      " $ hp  : num  110 110 93 110 175 105 245 62 95 123 ...\n",
      " $ drat: num  3.9 3.9 3.85 3.08 3.15 2.76 3.21 3.69 3.92 3.92 ...\n",
      " $ wt  : num  2.62 2.88 2.32 3.21 3.44 ...\n",
      " $ qsec: num  16.5 17 18.6 19.4 17 ...\n",
      " $ vs  : num  0 0 1 1 0 1 0 1 1 1 ...\n",
      " $ am  : num  1 1 1 0 0 0 0 0 0 0 ...\n",
      " $ gear: num  4 4 4 3 3 3 3 4 4 4 ...\n",
      " $ carb: num  4 4 1 1 2 1 4 2 2 4 ...\n"
     ]
    },
    {
     "data": {
      "text/html": [
       "\"data.frame\""
      ],
      "text/latex": [
       "\"data.frame\""
      ],
      "text/markdown": [
       "\"data.frame\""
      ],
      "text/plain": [
       "[1] \"data.frame\""
      ]
     },
     "metadata": {},
     "output_type": "display_data"
    },
    {
     "data": {
      "text/html": [
       "<table>\n",
       "<thead><tr><th></th><th scope=col>mpg</th><th scope=col>cyl</th><th scope=col>disp</th><th scope=col>hp</th><th scope=col>drat</th><th scope=col>wt</th><th scope=col>qsec</th><th scope=col>vs</th><th scope=col>am</th><th scope=col>gear</th><th scope=col>carb</th></tr></thead>\n",
       "<tbody>\n",
       "\t<tr><th scope=row>Mazda RX4</th><td> 21.00</td><td>  6.00</td><td>160.00</td><td>110.00</td><td>  3.90</td><td>  2.62</td><td> 16.46</td><td>  0.00</td><td>  1.00</td><td>  4.00</td><td>  4.00</td></tr>\n",
       "\t<tr><th scope=row>Mazda RX4 Wag</th><td> 21.000</td><td>  6.000</td><td>160.000</td><td>110.000</td><td>  3.900</td><td>  2.875</td><td> 17.020</td><td>  0.000</td><td>  1.000</td><td>  4.000</td><td>  4.000</td></tr>\n",
       "\t<tr><th scope=row>Datsun 710</th><td> 22.80</td><td>  4.00</td><td>108.00</td><td> 93.00</td><td>  3.85</td><td>  2.32</td><td> 18.61</td><td>  1.00</td><td>  1.00</td><td>  4.00</td><td>  1.00</td></tr>\n",
       "\t<tr><th scope=row>Hornet 4 Drive</th><td> 21.400</td><td>  6.000</td><td>258.000</td><td>110.000</td><td>  3.080</td><td>  3.215</td><td> 19.440</td><td>  1.000</td><td>  0.000</td><td>  3.000</td><td>  1.000</td></tr>\n",
       "\t<tr><th scope=row>Hornet Sportabout</th><td> 18.70</td><td>  8.00</td><td>360.00</td><td>175.00</td><td>  3.15</td><td>  3.44</td><td> 17.02</td><td>  0.00</td><td>  0.00</td><td>  3.00</td><td>  2.00</td></tr>\n",
       "\t<tr><th scope=row>Valiant</th><td> 18.10</td><td>  6.00</td><td>225.00</td><td>105.00</td><td>  2.76</td><td>  3.46</td><td> 20.22</td><td>  1.00</td><td>  0.00</td><td>  3.00</td><td>  1.00</td></tr>\n",
       "</tbody>\n",
       "</table>\n"
      ],
      "text/latex": [
       "\\begin{tabular}{r|lllllllllll}\n",
       "  & mpg & cyl & disp & hp & drat & wt & qsec & vs & am & gear & carb\\\\\n",
       "\\hline\n",
       "\tMazda RX4 &  21.00 &   6.00 & 160.00 & 110.00 &   3.90 &   2.62 &  16.46 &   0.00 &   1.00 &   4.00 &   4.00\\\\\n",
       "\tMazda RX4 Wag &  21.000 &   6.000 & 160.000 & 110.000 &   3.900 &   2.875 &  17.020 &   0.000 &   1.000 &   4.000 &   4.000\\\\\n",
       "\tDatsun 710 &  22.80 &   4.00 & 108.00 &  93.00 &   3.85 &   2.32 &  18.61 &   1.00 &   1.00 &   4.00 &   1.00\\\\\n",
       "\tHornet 4 Drive &  21.400 &   6.000 & 258.000 & 110.000 &   3.080 &   3.215 &  19.440 &   1.000 &   0.000 &   3.000 &   1.000\\\\\n",
       "\tHornet Sportabout &  18.70 &   8.00 & 360.00 & 175.00 &   3.15 &   3.44 &  17.02 &   0.00 &   0.00 &   3.00 &   2.00\\\\\n",
       "\tValiant &  18.10 &   6.00 & 225.00 & 105.00 &   2.76 &   3.46 &  20.22 &   1.00 &   0.00 &   3.00 &   1.00\\\\\n",
       "\\end{tabular}\n"
      ],
      "text/plain": [
       "                   mpg cyl disp  hp drat    wt  qsec vs am gear carb\n",
       "Mazda RX4         21.0   6  160 110 3.90 2.620 16.46  0  1    4    4\n",
       "Mazda RX4 Wag     21.0   6  160 110 3.90 2.875 17.02  0  1    4    4\n",
       "Datsun 710        22.8   4  108  93 3.85 2.320 18.61  1  1    4    1\n",
       "Hornet 4 Drive    21.4   6  258 110 3.08 3.215 19.44  1  0    3    1\n",
       "Hornet Sportabout 18.7   8  360 175 3.15 3.440 17.02  0  0    3    2\n",
       "Valiant           18.1   6  225 105 2.76 3.460 20.22  1  0    3    1"
      ]
     },
     "metadata": {},
     "output_type": "display_data"
    },
    {
     "data": {
      "text/html": [
       "<table>\n",
       "<thead><tr><th></th><th scope=col>mpg</th><th scope=col>cyl</th><th scope=col>disp</th><th scope=col>hp</th><th scope=col>drat</th><th scope=col>wt</th><th scope=col>qsec</th><th scope=col>vs</th><th scope=col>am</th><th scope=col>gear</th><th scope=col>carb</th></tr></thead>\n",
       "<tbody>\n",
       "\t<tr><th scope=row>Maserati Bora</th><td> 15.00</td><td>  8.00</td><td>301.00</td><td>335.00</td><td>  3.54</td><td>  3.57</td><td> 14.60</td><td>  0.00</td><td>  1.00</td><td>  5.00</td><td>  8.00</td></tr>\n",
       "\t<tr><th scope=row>Volvo 142E</th><td> 21.40</td><td>  4.00</td><td>121.00</td><td>109.00</td><td>  4.11</td><td>  2.78</td><td> 18.60</td><td>  1.00</td><td>  1.00</td><td>  4.00</td><td>  2.00</td></tr>\n",
       "</tbody>\n",
       "</table>\n"
      ],
      "text/latex": [
       "\\begin{tabular}{r|lllllllllll}\n",
       "  & mpg & cyl & disp & hp & drat & wt & qsec & vs & am & gear & carb\\\\\n",
       "\\hline\n",
       "\tMaserati Bora &  15.00 &   8.00 & 301.00 & 335.00 &   3.54 &   3.57 &  14.60 &   0.00 &   1.00 &   5.00 &   8.00\\\\\n",
       "\tVolvo 142E &  21.40 &   4.00 & 121.00 & 109.00 &   4.11 &   2.78 &  18.60 &   1.00 &   1.00 &   4.00 &   2.00\\\\\n",
       "\\end{tabular}\n"
      ],
      "text/plain": [
       "               mpg cyl disp  hp drat   wt qsec vs am gear carb\n",
       "Maserati Bora 15.0   8  301 335 3.54 3.57 14.6  0  1    5    8\n",
       "Volvo 142E    21.4   4  121 109 4.11 2.78 18.6  1  1    4    2"
      ]
     },
     "metadata": {},
     "output_type": "display_data"
    },
    {
     "data": {
      "text/html": [
       "\"vs\""
      ],
      "text/latex": [
       "\"vs\""
      ],
      "text/markdown": [
       "\"vs\""
      ],
      "text/plain": [
       "[1] \"vs\""
      ]
     },
     "metadata": {},
     "output_type": "display_data"
    }
   ],
   "source": [
    "length(mtcars)\n",
    "dim(mtcars)\n",
    "str(mtcars)\n",
    "class(mtcars)\n",
    "head(mtcars)\n",
    "tail(mtcars,n = 2)\n",
    "names(mtcars)[8]"
   ]
  },
  {
   "cell_type": "code",
   "execution_count": 10,
   "metadata": {
    "collapsed": false
   },
   "outputs": [
    {
     "data": {
      "text/html": [
       "<ol>\n",
       "\t<li><ol class=list-inline>\n",
       "\t<li>2</li>\n",
       "\t<li>3</li>\n",
       "\t<li>5</li>\n",
       "\t<li>7</li>\n",
       "\t<li>9</li>\n",
       "</ol>\n",
       "</li>\n",
       "\t<li><table>\n",
       "<tbody>\n",
       "\t<tr><td>1</td><td>4</td></tr>\n",
       "\t<tr><td>2</td><td>5</td></tr>\n",
       "\t<tr><td>3</td><td>6</td></tr>\n",
       "</tbody>\n",
       "</table>\n",
       "</li>\n",
       "\t<li><table>\n",
       "<thead><tr><th></th><th scope=col>I</th><th scope=col>II</th></tr></thead>\n",
       "<tbody>\n",
       "\t<tr><th scope=row>1</th><td>1  </td><td>one</td></tr>\n",
       "\t<tr><th scope=row>2</th><td>2  </td><td>two</td></tr>\n",
       "\t<tr><th scope=row>3</th><td>3    </td><td>three</td></tr>\n",
       "</tbody>\n",
       "</table>\n",
       "</li>\n",
       "</ol>\n"
      ],
      "text/latex": [
       "\\begin{enumerate}\n",
       "\\item \\begin{enumerate*}\n",
       "\\item 2\n",
       "\\item 3\n",
       "\\item 5\n",
       "\\item 7\n",
       "\\item 9\n",
       "\\end{enumerate*}\n",
       "\n",
       "\\item \\begin{tabular}{ll}\n",
       "\t 1 & 4\\\\\n",
       "\t 2 & 5\\\\\n",
       "\t 3 & 6\\\\\n",
       "\\end{tabular}\n",
       "\n",
       "\\item \\begin{tabular}{r|ll}\n",
       "  & I & II\\\\\n",
       "\\hline\n",
       "\t1 & 1   & one\\\\\n",
       "\t2 & 2   & two\\\\\n",
       "\t3 & 3     & three\\\\\n",
       "\\end{tabular}\n",
       "\n",
       "\\end{enumerate}\n"
      ],
      "text/markdown": [
       "1. 1. 2\n",
       "2. 3\n",
       "3. 5\n",
       "4. 7\n",
       "5. 9\n",
       "\n",
       "\n",
       "\n",
       "2. 1. 1\n",
       "2. 2\n",
       "3. 3\n",
       "4. 4\n",
       "5. 5\n",
       "6. 6\n",
       "\n",
       "\n",
       "\n",
       "3. NULL\n",
       "\n",
       "\n"
      ],
      "text/plain": [
       "[[1]]\n",
       "[1] 2 3 5 7 9\n",
       "\n",
       "[[2]]\n",
       "     [,1] [,2]\n",
       "[1,]    1    4\n",
       "[2,]    2    5\n",
       "[3,]    3    6\n",
       "\n",
       "[[3]]\n",
       "  I    II\n",
       "1 1   one\n",
       "2 2   two\n",
       "3 3 three\n"
      ]
     },
     "metadata": {},
     "output_type": "display_data"
    },
    {
     "data": {
      "text/html": [
       "<dl>\n",
       "\t<dt>$vec</dt>\n",
       "\t\t<dd><ol class=list-inline>\n",
       "\t<li>2</li>\n",
       "\t<li>3</li>\n",
       "\t<li>5</li>\n",
       "\t<li>7</li>\n",
       "\t<li>9</li>\n",
       "</ol>\n",
       "</dd>\n",
       "\t<dt>$mat</dt>\n",
       "\t\t<dd><table>\n",
       "<tbody>\n",
       "\t<tr><td>1</td><td>4</td></tr>\n",
       "\t<tr><td>2</td><td>5</td></tr>\n",
       "\t<tr><td>3</td><td>6</td></tr>\n",
       "</tbody>\n",
       "</table>\n",
       "</dd>\n",
       "\t<dt>$df</dt>\n",
       "\t\t<dd><table>\n",
       "<thead><tr><th></th><th scope=col>I</th><th scope=col>II</th></tr></thead>\n",
       "<tbody>\n",
       "\t<tr><th scope=row>1</th><td>1  </td><td>one</td></tr>\n",
       "\t<tr><th scope=row>2</th><td>2  </td><td>two</td></tr>\n",
       "\t<tr><th scope=row>3</th><td>3    </td><td>three</td></tr>\n",
       "</tbody>\n",
       "</table>\n",
       "</dd>\n",
       "</dl>\n"
      ],
      "text/latex": [
       "\\begin{description}\n",
       "\\item[\\$vec] \\begin{enumerate*}\n",
       "\\item 2\n",
       "\\item 3\n",
       "\\item 5\n",
       "\\item 7\n",
       "\\item 9\n",
       "\\end{enumerate*}\n",
       "\n",
       "\\item[\\$mat] \\begin{tabular}{ll}\n",
       "\t 1 & 4\\\\\n",
       "\t 2 & 5\\\\\n",
       "\t 3 & 6\\\\\n",
       "\\end{tabular}\n",
       "\n",
       "\\item[\\$df] \\begin{tabular}{r|ll}\n",
       "  & I & II\\\\\n",
       "\\hline\n",
       "\t1 & 1   & one\\\\\n",
       "\t2 & 2   & two\\\\\n",
       "\t3 & 3     & three\\\\\n",
       "\\end{tabular}\n",
       "\n",
       "\\end{description}\n"
      ],
      "text/plain": [
       "$vec\n",
       "[1] 2 3 5 7 9\n",
       "\n",
       "$mat\n",
       "     [,1] [,2]\n",
       "[1,]    1    4\n",
       "[2,]    2    5\n",
       "[3,]    3    6\n",
       "\n",
       "$df\n",
       "  I    II\n",
       "1 1   one\n",
       "2 2   two\n",
       "3 3 three\n"
      ]
     },
     "metadata": {},
     "output_type": "display_data"
    },
    {
     "data": {
      "text/html": [
       "<strong>$mat</strong> = <table>\n",
       "<tbody>\n",
       "\t<tr><td>1</td><td>4</td></tr>\n",
       "\t<tr><td>2</td><td>5</td></tr>\n",
       "\t<tr><td>3</td><td>6</td></tr>\n",
       "</tbody>\n",
       "</table>\n"
      ],
      "text/latex": [
       "\\textbf{\\$mat} = \\begin{tabular}{ll}\n",
       "\t 1 & 4\\\\\n",
       "\t 2 & 5\\\\\n",
       "\t 3 & 6\\\\\n",
       "\\end{tabular}\n"
      ],
      "text/markdown": [
       "**$mat** = 1. 1\n",
       "2. 2\n",
       "3. 3\n",
       "4. 4\n",
       "5. 5\n",
       "6. 6\n",
       "\n",
       "\n"
      ],
      "text/plain": [
       "$mat\n",
       "     [,1] [,2]\n",
       "[1,]    1    4\n",
       "[2,]    2    5\n",
       "[3,]    3    6\n"
      ]
     },
     "metadata": {},
     "output_type": "display_data"
    },
    {
     "data": {
      "text/html": [
       "<table>\n",
       "<tbody>\n",
       "\t<tr><td>1</td><td>4</td></tr>\n",
       "\t<tr><td>2</td><td>5</td></tr>\n",
       "\t<tr><td>3</td><td>6</td></tr>\n",
       "</tbody>\n",
       "</table>\n"
      ],
      "text/latex": [
       "\\begin{tabular}{ll}\n",
       "\t 1 & 4\\\\\n",
       "\t 2 & 5\\\\\n",
       "\t 3 & 6\\\\\n",
       "\\end{tabular}\n"
      ],
      "text/markdown": [
       "1. 1\n",
       "2. 2\n",
       "3. 3\n",
       "4. 4\n",
       "5. 5\n",
       "6. 6\n",
       "\n",
       "\n"
      ],
      "text/plain": [
       "     [,1] [,2]\n",
       "[1,]    1    4\n",
       "[2,]    2    5\n",
       "[3,]    3    6"
      ]
     },
     "metadata": {},
     "output_type": "display_data"
    },
    {
     "data": {
      "text/html": [
       "<strong>$df</strong> = <table>\n",
       "<thead><tr><th></th><th scope=col>I</th><th scope=col>II</th></tr></thead>\n",
       "<tbody>\n",
       "\t<tr><th scope=row>1</th><td>1  </td><td>one</td></tr>\n",
       "\t<tr><th scope=row>2</th><td>2  </td><td>two</td></tr>\n",
       "\t<tr><th scope=row>3</th><td>3    </td><td>three</td></tr>\n",
       "</tbody>\n",
       "</table>\n"
      ],
      "text/latex": [
       "\\textbf{\\$df} = \\begin{tabular}{r|ll}\n",
       "  & I & II\\\\\n",
       "\\hline\n",
       "\t1 & 1   & one\\\\\n",
       "\t2 & 2   & two\\\\\n",
       "\t3 & 3     & three\\\\\n",
       "\\end{tabular}\n"
      ],
      "text/plain": [
       "$df\n",
       "  I    II\n",
       "1 1   one\n",
       "2 2   two\n",
       "3 3 three\n"
      ]
     },
     "metadata": {},
     "output_type": "display_data"
    },
    {
     "data": {
      "text/html": [
       "<table>\n",
       "<thead><tr><th></th><th scope=col>I</th><th scope=col>II</th></tr></thead>\n",
       "<tbody>\n",
       "\t<tr><th scope=row>1</th><td>1  </td><td>one</td></tr>\n",
       "\t<tr><th scope=row>2</th><td>2  </td><td>two</td></tr>\n",
       "\t<tr><th scope=row>3</th><td>3    </td><td>three</td></tr>\n",
       "</tbody>\n",
       "</table>\n"
      ],
      "text/latex": [
       "\\begin{tabular}{r|ll}\n",
       "  & I & II\\\\\n",
       "\\hline\n",
       "\t1 & 1   & one\\\\\n",
       "\t2 & 2   & two\\\\\n",
       "\t3 & 3     & three\\\\\n",
       "\\end{tabular}\n"
      ],
      "text/plain": [
       "  I    II\n",
       "1 1   one\n",
       "2 2   two\n",
       "3 3 three"
      ]
     },
     "metadata": {},
     "output_type": "display_data"
    },
    {
     "data": {
      "text/html": [
       "2"
      ],
      "text/latex": [
       "2"
      ],
      "text/markdown": [
       "2"
      ],
      "text/plain": [
       "[1] 2"
      ]
     },
     "metadata": {},
     "output_type": "display_data"
    }
   ],
   "source": [
    "thisvec <- c(2,3,5,7,9)\n",
    "thismat <- matrix(1:6, nrow = 3)\n",
    "thisdf <- data.frame(I=1:3,II=c(\"one\",\"two\",\"three\"))\n",
    "thislist <- list(thisvec,thismat,thisdf)\n",
    "thislist\n",
    "thislist <- list(vec=thisvec,mat=thismat,df=thisdf)\n",
    "thislist\n",
    "thislist[2]\n",
    "thislist[[2]]\n",
    "thislist[\"df\"]\n",
    "thislist[[\"df\"]]\n",
    "thislist[[3]][2,1]"
   ]
  },
  {
   "cell_type": "markdown",
   "metadata": {},
   "source": [
    "# NA & NULL"
   ]
  },
  {
   "cell_type": "code",
   "execution_count": 11,
   "metadata": {
    "collapsed": false
   },
   "outputs": [
    {
     "data": {
      "text/plain": [
       "[1] NA"
      ]
     },
     "metadata": {},
     "output_type": "display_data"
    },
    {
     "data": {
      "text/html": [
       "87.75"
      ],
      "text/latex": [
       "87.75"
      ],
      "text/markdown": [
       "87.75"
      ],
      "text/plain": [
       "[1] 87.75"
      ]
     },
     "metadata": {},
     "output_type": "display_data"
    },
    {
     "data": {
      "text/html": [
       "53.5"
      ],
      "text/latex": [
       "53.5"
      ],
      "text/markdown": [
       "53.5"
      ],
      "text/plain": [
       "[1] 53.5"
      ]
     },
     "metadata": {},
     "output_type": "display_data"
    }
   ],
   "source": [
    "navec <- c(80,76,95,NA,100)\n",
    "nullvec <- c(60,NULL,25,39,90)\n",
    "mean(navec)\n",
    "mean(navec, na.rm = TRUE)\n",
    "mean(nullvec)"
   ]
  },
  {
   "cell_type": "markdown",
   "metadata": {},
   "source": [
    "# Data frame"
   ]
  },
  {
   "cell_type": "code",
   "execution_count": 12,
   "metadata": {
    "collapsed": false
   },
   "outputs": [
    {
     "name": "stdout",
     "output_type": "stream",
     "text": [
      " Factor w/ 4 levels \"Captain\",\"Chef\",..: 1 4 3 2\n",
      " chr [1:4] \"Captain\" \"Swordsman\" \"Navigator\" \"Chef\"\n"
     ]
    },
    {
     "data": {
      "text/html": [
       "<table>\n",
       "<thead><tr><th></th><th scope=col>name</th><th scope=col>occupation</th><th scope=col>bounty</th><th scope=col>age</th><th scope=col>birthday</th><th scope=col>strength</th><th scope=col>intelligence</th></tr></thead>\n",
       "<tbody>\n",
       "\t<tr><th scope=row>1</th><td>Monkey D. Luffy</td><td>Captain        </td><td>5e+08          </td><td>19             </td><td>5/5/1996       </td><td>99             </td><td>20             </td></tr>\n",
       "\t<tr><th scope=row>2</th><td>Roronoa Zoro</td><td>Swordsman   </td><td>3.2e+08     </td><td>21          </td><td>11/11/1994  </td><td>90          </td><td>30          </td></tr>\n",
       "\t<tr><th scope=row>3</th><td>Nami     </td><td>Navigator</td><td>6.6e+07  </td><td>20       </td><td>7/3/1995 </td><td>15       </td><td>90       </td></tr>\n",
       "\t<tr><th scope=row>4</th><td>Sanji   </td><td>Chef    </td><td>NA      </td><td>21      </td><td>3/2/1994</td><td>80      </td><td>40      </td></tr>\n",
       "</tbody>\n",
       "</table>\n"
      ],
      "text/latex": [
       "\\begin{tabular}{r|lllllll}\n",
       "  & name & occupation & bounty & age & birthday & strength & intelligence\\\\\n",
       "\\hline\n",
       "\t1 & Monkey D. Luffy & Captain         & 5e+08           & 19              & 5/5/1996        & 99              & 20             \\\\\n",
       "\t2 & Roronoa Zoro & Swordsman    & 3.2e+08      & 21           & 11/11/1994   & 90           & 30          \\\\\n",
       "\t3 & Nami      & Navigator & 6.6e+07   & 20        & 7/3/1995  & 15        & 90       \\\\\n",
       "\t4 & Sanji    & Chef     & NA       & 21       & 3/2/1994 & 80       & 40      \\\\\n",
       "\\end{tabular}\n"
      ],
      "text/plain": [
       "             name occupation  bounty age   birthday strength intelligence\n",
       "1 Monkey D. Luffy    Captain 5.0e+08  19   5/5/1996       99           20\n",
       "2    Roronoa Zoro  Swordsman 3.2e+08  21 11/11/1994       90           30\n",
       "3            Nami  Navigator 6.6e+07  20   7/3/1995       15           90\n",
       "4           Sanji       Chef      NA  21   3/2/1994       80           40"
      ]
     },
     "metadata": {},
     "output_type": "display_data"
    }
   ],
   "source": [
    "name <- c(\"Monkey D. Luffy\", \"Roronoa Zoro\", \"Nami\", \"Sanji\")\n",
    "occupation <- c(\"Captain\", \"Swordsman\", \"Navigator\", \"Chef\")\n",
    "bounty <- as.numeric(c(500000000, 320000000, 66000000, NA))\n",
    "age <- c(19, 21, 20, 21)\n",
    "birthday <- c(\"5/5/1996\", \"11/11/1994\", \"7/3/1995\", \"3/2/1994\")\n",
    "strength <- c(99, 90, 15, 80)\n",
    "intelligence <- c(20, 30, 90, 40)\n",
    "strawHatPirate <- data.frame(name, occupation, bounty, age, birthday, strength, intelligence)\n",
    "str(strawHatPirate$occupation)\n",
    "strawHatPirate <- data.frame(name, occupation, bounty, age, birthday, strength, intelligence, stringsAsFactors=FALSE)\n",
    "str(strawHatPirate$occupation)\n",
    "strawHatPirate"
   ]
  },
  {
   "cell_type": "code",
   "execution_count": 13,
   "metadata": {
    "collapsed": false
   },
   "outputs": [
    {
     "data": {
      "text/html": [
       "<table>\n",
       "<thead><tr><th></th><th scope=col>name</th><th scope=col>occupation</th><th scope=col>bounty</th><th scope=col>age</th><th scope=col>birthday</th><th scope=col>strength</th><th scope=col>intelligence</th><th scope=col>ratingsum</th><th scope=col>ratingavg</th></tr></thead>\n",
       "<tbody>\n",
       "\t<tr><th scope=row>1</th><td>Monkey D. Luffy</td><td>Captain        </td><td>5e+08          </td><td>19             </td><td>5/5/1996       </td><td>99             </td><td>20             </td><td>119            </td><td>59.5           </td></tr>\n",
       "\t<tr><th scope=row>2</th><td>Roronoa Zoro</td><td>Swordsman   </td><td>3.2e+08     </td><td>21          </td><td>11/11/1994  </td><td>90          </td><td>30          </td><td>120         </td><td>60          </td></tr>\n",
       "\t<tr><th scope=row>3</th><td>Nami     </td><td>Navigator</td><td>6.6e+07  </td><td>20       </td><td>7/3/1995 </td><td>15       </td><td>90       </td><td>105      </td><td>52.5     </td></tr>\n",
       "\t<tr><th scope=row>4</th><td>Sanji   </td><td>Chef    </td><td>NA      </td><td>21      </td><td>3/2/1994</td><td>80      </td><td>40      </td><td>120     </td><td>60      </td></tr>\n",
       "</tbody>\n",
       "</table>\n"
      ],
      "text/latex": [
       "\\begin{tabular}{r|lllllllll}\n",
       "  & name & occupation & bounty & age & birthday & strength & intelligence & ratingsum & ratingavg\\\\\n",
       "\\hline\n",
       "\t1 & Monkey D. Luffy & Captain         & 5e+08           & 19              & 5/5/1996        & 99              & 20              & 119             & 59.5           \\\\\n",
       "\t2 & Roronoa Zoro & Swordsman    & 3.2e+08      & 21           & 11/11/1994   & 90           & 30           & 120          & 60          \\\\\n",
       "\t3 & Nami      & Navigator & 6.6e+07   & 20        & 7/3/1995  & 15        & 90        & 105       & 52.5     \\\\\n",
       "\t4 & Sanji    & Chef     & NA       & 21       & 3/2/1994 & 80       & 40       & 120      & 60      \\\\\n",
       "\\end{tabular}\n"
      ],
      "text/plain": [
       "             name occupation  bounty age   birthday strength intelligence\n",
       "1 Monkey D. Luffy    Captain 5.0e+08  19   5/5/1996       99           20\n",
       "2    Roronoa Zoro  Swordsman 3.2e+08  21 11/11/1994       90           30\n",
       "3            Nami  Navigator 6.6e+07  20   7/3/1995       15           90\n",
       "4           Sanji       Chef      NA  21   3/2/1994       80           40\n",
       "  ratingsum ratingavg\n",
       "1       119      59.5\n",
       "2       120      60.0\n",
       "3       105      52.5\n",
       "4       120      60.0"
      ]
     },
     "metadata": {},
     "output_type": "display_data"
    }
   ],
   "source": [
    "# add column\n",
    "strawHatPirate <- transform(strawHatPirate,\n",
    "                           ratingsum=strength+intelligence,\n",
    "                           ratingavg=(strength+intelligence)/2)\n",
    "strawHatPirate"
   ]
  },
  {
   "cell_type": "code",
   "execution_count": 14,
   "metadata": {
    "collapsed": false,
    "scrolled": true
   },
   "outputs": [
    {
     "data": {
      "text/html": [
       "<table>\n",
       "<thead><tr><th></th><th scope=col>name</th><th scope=col>occupation</th><th scope=col>bounty</th><th scope=col>age</th><th scope=col>birthday</th><th scope=col>strength</th><th scope=col>intelligence</th><th scope=col>ratingsum</th><th scope=col>ratingavg</th><th scope=col>bountylevel</th></tr></thead>\n",
       "<tbody>\n",
       "\t<tr><th scope=row>1</th><td>Monkey D. Luffy</td><td>Captain        </td><td>5e+08          </td><td>19             </td><td>5/5/1996       </td><td>99             </td><td>20             </td><td>119            </td><td>59.5           </td><td>H              </td></tr>\n",
       "\t<tr><th scope=row>2</th><td>Roronoa Zoro</td><td>Swordsman   </td><td>3.2e+08     </td><td>21          </td><td>11/11/1994  </td><td>90          </td><td>30          </td><td>120         </td><td>60          </td><td>M           </td></tr>\n",
       "\t<tr><th scope=row>3</th><td>Nami     </td><td>Navigator</td><td>6.6e+07  </td><td>20       </td><td>7/3/1995 </td><td>15       </td><td>90       </td><td>105      </td><td>52.5     </td><td>L        </td></tr>\n",
       "\t<tr><th scope=row>4</th><td>Sanji   </td><td>Chef    </td><td>NA      </td><td>21      </td><td>3/2/1994</td><td>80      </td><td>40      </td><td>120     </td><td>60      </td><td>NA      </td></tr>\n",
       "</tbody>\n",
       "</table>\n"
      ],
      "text/latex": [
       "\\begin{tabular}{r|llllllllll}\n",
       "  & name & occupation & bounty & age & birthday & strength & intelligence & ratingsum & ratingavg & bountylevel\\\\\n",
       "\\hline\n",
       "\t1 & Monkey D. Luffy & Captain         & 5e+08           & 19              & 5/5/1996        & 99              & 20              & 119             & 59.5            & H              \\\\\n",
       "\t2 & Roronoa Zoro & Swordsman    & 3.2e+08      & 21           & 11/11/1994   & 90           & 30           & 120          & 60           & M           \\\\\n",
       "\t3 & Nami      & Navigator & 6.6e+07   & 20        & 7/3/1995  & 15        & 90        & 105       & 52.5      & L        \\\\\n",
       "\t4 & Sanji    & Chef     & NA       & 21       & 3/2/1994 & 80       & 40       & 120      & 60       & NA      \\\\\n",
       "\\end{tabular}\n"
      ],
      "text/plain": [
       "             name occupation  bounty age   birthday strength intelligence\n",
       "1 Monkey D. Luffy    Captain 5.0e+08  19   5/5/1996       99           20\n",
       "2    Roronoa Zoro  Swordsman 3.2e+08  21 11/11/1994       90           30\n",
       "3            Nami  Navigator 6.6e+07  20   7/3/1995       15           90\n",
       "4           Sanji       Chef      NA  21   3/2/1994       80           40\n",
       "  ratingsum ratingavg bountylevel\n",
       "1       119      59.5           H\n",
       "2       120      60.0           M\n",
       "3       105      52.5           L\n",
       "4       120      60.0        <NA>"
      ]
     },
     "metadata": {},
     "output_type": "display_data"
    }
   ],
   "source": [
    "strawHatPirate <- within(strawHatPirate,{\n",
    "    bountylevel <- NA\n",
    "    bountylevel[bounty<1e8] <- \"L\"\n",
    "    bountylevel[bounty>=1e8 & bounty<5e8] <- \"M\"\n",
    "    bountylevel[bounty>=5e8] <- \"H\"\n",
    "})\n",
    "strawHatPirate"
   ]
  },
  {
   "cell_type": "code",
   "execution_count": 15,
   "metadata": {
    "collapsed": false,
    "scrolled": true
   },
   "outputs": [
    {
     "data": {
      "text/html": [
       "<ol class=list-inline>\n",
       "\t<li>\"name\"</li>\n",
       "\t<li>\"occupation\"</li>\n",
       "\t<li>\"bounty\"</li>\n",
       "\t<li>\"age\"</li>\n",
       "\t<li>\"birthday\"</li>\n",
       "\t<li>\"strength\"</li>\n",
       "\t<li>\"intelligence\"</li>\n",
       "\t<li>\"ratingsum\"</li>\n",
       "\t<li>\"ratingavg\"</li>\n",
       "\t<li>\"bountylevel\"</li>\n",
       "</ol>\n"
      ],
      "text/latex": [
       "\\begin{enumerate*}\n",
       "\\item \"name\"\n",
       "\\item \"occupation\"\n",
       "\\item \"bounty\"\n",
       "\\item \"age\"\n",
       "\\item \"birthday\"\n",
       "\\item \"strength\"\n",
       "\\item \"intelligence\"\n",
       "\\item \"ratingsum\"\n",
       "\\item \"ratingavg\"\n",
       "\\item \"bountylevel\"\n",
       "\\end{enumerate*}\n"
      ],
      "text/markdown": [
       "1. \"name\"\n",
       "2. \"occupation\"\n",
       "3. \"bounty\"\n",
       "4. \"age\"\n",
       "5. \"birthday\"\n",
       "6. \"strength\"\n",
       "7. \"intelligence\"\n",
       "8. \"ratingsum\"\n",
       "9. \"ratingavg\"\n",
       "10. \"bountylevel\"\n",
       "\n",
       "\n"
      ],
      "text/plain": [
       " [1] \"name\"         \"occupation\"   \"bounty\"       \"age\"          \"birthday\"    \n",
       " [6] \"strength\"     \"intelligence\" \"ratingsum\"    \"ratingavg\"    \"bountylevel\" "
      ]
     },
     "metadata": {},
     "output_type": "display_data"
    },
    {
     "data": {
      "text/html": [
       "<table>\n",
       "<thead><tr><th></th><th scope=col>name</th><th scope=col>occupation</th><th scope=col>bounty</th><th scope=col>age</th><th scope=col>birthday</th><th scope=col>strength</th><th scope=col>IQ</th><th scope=col>ratingsum</th><th scope=col>ratingavg</th><th scope=col>bountylevel</th></tr></thead>\n",
       "<tbody>\n",
       "\t<tr><th scope=row>1</th><td>Monkey D. Luffy</td><td>Captain        </td><td>5e+08          </td><td>19             </td><td>5/5/1996       </td><td>99             </td><td>20             </td><td>119            </td><td>59.5           </td><td>H              </td></tr>\n",
       "\t<tr><th scope=row>2</th><td>Roronoa Zoro</td><td>Swordsman   </td><td>3.2e+08     </td><td>21          </td><td>11/11/1994  </td><td>90          </td><td>30          </td><td>120         </td><td>60          </td><td>M           </td></tr>\n",
       "\t<tr><th scope=row>3</th><td>Nami     </td><td>Navigator</td><td>6.6e+07  </td><td>20       </td><td>7/3/1995 </td><td>15       </td><td>90       </td><td>105      </td><td>52.5     </td><td>L        </td></tr>\n",
       "\t<tr><th scope=row>4</th><td>Sanji   </td><td>Chef    </td><td>NA      </td><td>21      </td><td>3/2/1994</td><td>80      </td><td>40      </td><td>120     </td><td>60      </td><td>NA      </td></tr>\n",
       "</tbody>\n",
       "</table>\n"
      ],
      "text/latex": [
       "\\begin{tabular}{r|llllllllll}\n",
       "  & name & occupation & bounty & age & birthday & strength & IQ & ratingsum & ratingavg & bountylevel\\\\\n",
       "\\hline\n",
       "\t1 & Monkey D. Luffy & Captain         & 5e+08           & 19              & 5/5/1996        & 99              & 20              & 119             & 59.5            & H              \\\\\n",
       "\t2 & Roronoa Zoro & Swordsman    & 3.2e+08      & 21           & 11/11/1994   & 90           & 30           & 120          & 60           & M           \\\\\n",
       "\t3 & Nami      & Navigator & 6.6e+07   & 20        & 7/3/1995  & 15        & 90        & 105       & 52.5      & L        \\\\\n",
       "\t4 & Sanji    & Chef     & NA       & 21       & 3/2/1994 & 80       & 40       & 120      & 60       & NA      \\\\\n",
       "\\end{tabular}\n"
      ],
      "text/plain": [
       "             name occupation  bounty age   birthday strength IQ ratingsum\n",
       "1 Monkey D. Luffy    Captain 5.0e+08  19   5/5/1996       99 20       119\n",
       "2    Roronoa Zoro  Swordsman 3.2e+08  21 11/11/1994       90 30       120\n",
       "3            Nami  Navigator 6.6e+07  20   7/3/1995       15 90       105\n",
       "4           Sanji       Chef      NA  21   3/2/1994       80 40       120\n",
       "  ratingavg bountylevel\n",
       "1      59.5           H\n",
       "2      60.0           M\n",
       "3      52.5           L\n",
       "4      60.0        <NA>"
      ]
     },
     "metadata": {},
     "output_type": "display_data"
    },
    {
     "data": {
      "text/html": [
       "<table>\n",
       "<thead><tr><th></th><th scope=col>name</th><th scope=col>occupation</th><th scope=col>bounty</th><th scope=col>age</th><th scope=col>birthday</th><th scope=col>strength</th><th scope=col>intelligence</th><th scope=col>ratingsum</th><th scope=col>ratingavg</th><th scope=col>level</th></tr></thead>\n",
       "<tbody>\n",
       "\t<tr><th scope=row>1</th><td>Monkey D. Luffy</td><td>Captain        </td><td>5e+08          </td><td>19             </td><td>5/5/1996       </td><td>99             </td><td>20             </td><td>119            </td><td>59.5           </td><td>H              </td></tr>\n",
       "\t<tr><th scope=row>2</th><td>Roronoa Zoro</td><td>Swordsman   </td><td>3.2e+08     </td><td>21          </td><td>11/11/1994  </td><td>90          </td><td>30          </td><td>120         </td><td>60          </td><td>M           </td></tr>\n",
       "\t<tr><th scope=row>3</th><td>Nami     </td><td>Navigator</td><td>6.6e+07  </td><td>20       </td><td>7/3/1995 </td><td>15       </td><td>90       </td><td>105      </td><td>52.5     </td><td>L        </td></tr>\n",
       "\t<tr><th scope=row>4</th><td>Sanji   </td><td>Chef    </td><td>NA      </td><td>21      </td><td>3/2/1994</td><td>80      </td><td>40      </td><td>120     </td><td>60      </td><td>NA      </td></tr>\n",
       "</tbody>\n",
       "</table>\n"
      ],
      "text/latex": [
       "\\begin{tabular}{r|llllllllll}\n",
       "  & name & occupation & bounty & age & birthday & strength & intelligence & ratingsum & ratingavg & level\\\\\n",
       "\\hline\n",
       "\t1 & Monkey D. Luffy & Captain         & 5e+08           & 19              & 5/5/1996        & 99              & 20              & 119             & 59.5            & H              \\\\\n",
       "\t2 & Roronoa Zoro & Swordsman    & 3.2e+08      & 21           & 11/11/1994   & 90           & 30           & 120          & 60           & M           \\\\\n",
       "\t3 & Nami      & Navigator & 6.6e+07   & 20        & 7/3/1995  & 15        & 90        & 105       & 52.5      & L        \\\\\n",
       "\t4 & Sanji    & Chef     & NA       & 21       & 3/2/1994 & 80       & 40       & 120      & 60       & NA      \\\\\n",
       "\\end{tabular}\n"
      ],
      "text/plain": [
       "             name occupation  bounty age   birthday strength intelligence\n",
       "1 Monkey D. Luffy    Captain 5.0e+08  19   5/5/1996       99           20\n",
       "2    Roronoa Zoro  Swordsman 3.2e+08  21 11/11/1994       90           30\n",
       "3            Nami  Navigator 6.6e+07  20   7/3/1995       15           90\n",
       "4           Sanji       Chef      NA  21   3/2/1994       80           40\n",
       "  ratingsum ratingavg level\n",
       "1       119      59.5     H\n",
       "2       120      60.0     M\n",
       "3       105      52.5     L\n",
       "4       120      60.0  <NA>"
      ]
     },
     "metadata": {},
     "output_type": "display_data"
    }
   ],
   "source": [
    "# rename\n",
    "names(strawHatPirate)\n",
    "names(strawHatPirate)[7] <- \"IQ\"\n",
    "strawHatPirate\n",
    "names(strawHatPirate)[c(7,10)] <- c(\"intelligence\",\"level\")\n",
    "strawHatPirate"
   ]
  },
  {
   "cell_type": "code",
   "execution_count": 16,
   "metadata": {
    "collapsed": false,
    "scrolled": true
   },
   "outputs": [
    {
     "data": {
      "text/html": [
       "<ol class=list-inline>\n",
       "\t<li>FALSE</li>\n",
       "\t<li>FALSE</li>\n",
       "\t<li>FALSE</li>\n",
       "\t<li>TRUE</li>\n",
       "</ol>\n"
      ],
      "text/latex": [
       "\\begin{enumerate*}\n",
       "\\item FALSE\n",
       "\\item FALSE\n",
       "\\item FALSE\n",
       "\\item TRUE\n",
       "\\end{enumerate*}\n"
      ],
      "text/markdown": [
       "1. FALSE\n",
       "2. FALSE\n",
       "3. FALSE\n",
       "4. TRUE\n",
       "\n",
       "\n"
      ],
      "text/plain": [
       "[1] FALSE FALSE FALSE  TRUE"
      ]
     },
     "metadata": {},
     "output_type": "display_data"
    },
    {
     "data": {
      "text/plain": [
       "[1] NA"
      ]
     },
     "metadata": {},
     "output_type": "display_data"
    },
    {
     "data": {
      "text/html": [
       "8.86e+08"
      ],
      "text/latex": [
       "8.86e+08"
      ],
      "text/markdown": [
       "8.86e+08"
      ],
      "text/plain": [
       "[1] 8.86e+08"
      ]
     },
     "metadata": {},
     "output_type": "display_data"
    }
   ],
   "source": [
    "# rm NA\n",
    "is.na(strawHatPirate$bounty)\n",
    "sum(strawHatPirate$bounty)\n",
    "sum(strawHatPirate$bounty, na.rm = TRUE)"
   ]
  },
  {
   "cell_type": "code",
   "execution_count": 17,
   "metadata": {
    "collapsed": false,
    "scrolled": true
   },
   "outputs": [
    {
     "name": "stdout",
     "output_type": "stream",
     "text": [
      " chr [1:4] \"5/5/1996\" \"11/11/1994\" \"7/3/1995\" \"3/2/1994\"\n",
      " Date[1:4], format: \"1996-05-05\" \"1994-11-11\" \"1995-07-03\" \"1994-03-02\"\n"
     ]
    },
    {
     "data": {
      "text/plain": [
       "[1] \"1996-05-05\""
      ]
     },
     "metadata": {},
     "output_type": "display_data"
    },
    {
     "data": {
      "text/plain": [
       "[1] \"1994-03-02\""
      ]
     },
     "metadata": {},
     "output_type": "display_data"
    },
    {
     "data": {
      "text/html": [
       "TRUE"
      ],
      "text/latex": [
       "TRUE"
      ],
      "text/markdown": [
       "TRUE"
      ],
      "text/plain": [
       "[1] TRUE"
      ]
     },
     "metadata": {},
     "output_type": "display_data"
    },
    {
     "data": {
      "text/html": [
       "FALSE"
      ],
      "text/latex": [
       "FALSE"
      ],
      "text/markdown": [
       "FALSE"
      ],
      "text/plain": [
       "[1] FALSE"
      ]
     },
     "metadata": {},
     "output_type": "display_data"
    },
    {
     "data": {
      "text/html": [
       "TRUE"
      ],
      "text/latex": [
       "TRUE"
      ],
      "text/markdown": [
       "TRUE"
      ],
      "text/plain": [
       "[1] TRUE"
      ]
     },
     "metadata": {},
     "output_type": "display_data"
    }
   ],
   "source": [
    "str(strawHatPirate$birthday)\n",
    "strawHatPirate$birthdayasdate <- as.Date(strawHatPirate$birthday, \"%m/%d/%Y\")\n",
    "str(strawHatPirate$birthdayasdate)\n",
    "max(strawHatPirate$birthdayasdate)\n",
    "min(strawHatPirate$birthdayasdate)\n",
    "\n",
    "is.numeric(age)\n",
    "agefac <- as.factor(age)\n",
    "is.numeric(agefac)\n",
    "is.factor(agefac)"
   ]
  },
  {
   "cell_type": "code",
   "execution_count": 18,
   "metadata": {
    "collapsed": false,
    "scrolled": false
   },
   "outputs": [
    {
     "data": {
      "text/html": [
       "<ol class=list-inline>\n",
       "\t<li>1</li>\n",
       "\t<li>3</li>\n",
       "\t<li>2</li>\n",
       "\t<li>4</li>\n",
       "</ol>\n"
      ],
      "text/latex": [
       "\\begin{enumerate*}\n",
       "\\item 1\n",
       "\\item 3\n",
       "\\item 2\n",
       "\\item 4\n",
       "\\end{enumerate*}\n"
      ],
      "text/markdown": [
       "1. 1\n",
       "2. 3\n",
       "3. 2\n",
       "4. 4\n",
       "\n",
       "\n"
      ],
      "text/plain": [
       "[1] 1 3 2 4"
      ]
     },
     "metadata": {},
     "output_type": "display_data"
    },
    {
     "data": {
      "text/html": [
       "<table>\n",
       "<thead><tr><th></th><th scope=col>name</th><th scope=col>occupation</th><th scope=col>bounty</th><th scope=col>age</th><th scope=col>birthday</th><th scope=col>strength</th><th scope=col>intelligence</th><th scope=col>ratingsum</th><th scope=col>ratingavg</th><th scope=col>level</th><th scope=col>birthdayasdate</th></tr></thead>\n",
       "<tbody>\n",
       "\t<tr><th scope=row>1</th><td>Monkey D. Luffy</td><td>Captain        </td><td>5e+08          </td><td>19             </td><td>5/5/1996       </td><td>99             </td><td>20             </td><td>119            </td><td>59.5           </td><td>H              </td><td>9621           </td></tr>\n",
       "\t<tr><th scope=row>3</th><td>Nami     </td><td>Navigator</td><td>6.6e+07  </td><td>20       </td><td>7/3/1995 </td><td>15       </td><td>90       </td><td>105      </td><td>52.5     </td><td>L        </td><td>9314     </td></tr>\n",
       "\t<tr><th scope=row>2</th><td>Roronoa Zoro</td><td>Swordsman   </td><td>3.2e+08     </td><td>21          </td><td>11/11/1994  </td><td>90          </td><td>30          </td><td>120         </td><td>60          </td><td>M           </td><td>9080        </td></tr>\n",
       "\t<tr><th scope=row>4</th><td>Sanji   </td><td>Chef    </td><td>NA      </td><td>21      </td><td>3/2/1994</td><td>80      </td><td>40      </td><td>120     </td><td>60      </td><td>NA      </td><td>8826    </td></tr>\n",
       "</tbody>\n",
       "</table>\n"
      ],
      "text/latex": [
       "\\begin{tabular}{r|lllllllllll}\n",
       "  & name & occupation & bounty & age & birthday & strength & intelligence & ratingsum & ratingavg & level & birthdayasdate\\\\\n",
       "\\hline\n",
       "\t1 & Monkey D. Luffy & Captain         & 5e+08           & 19              & 5/5/1996        & 99              & 20              & 119             & 59.5            & H               & 9621           \\\\\n",
       "\t3 & Nami      & Navigator & 6.6e+07   & 20        & 7/3/1995  & 15        & 90        & 105       & 52.5      & L         & 9314     \\\\\n",
       "\t2 & Roronoa Zoro & Swordsman    & 3.2e+08      & 21           & 11/11/1994   & 90           & 30           & 120          & 60           & M            & 9080        \\\\\n",
       "\t4 & Sanji    & Chef     & NA       & 21       & 3/2/1994 & 80       & 40       & 120      & 60       & NA       & 8826    \\\\\n",
       "\\end{tabular}\n"
      ],
      "text/plain": [
       "             name occupation  bounty age   birthday strength intelligence\n",
       "1 Monkey D. Luffy    Captain 5.0e+08  19   5/5/1996       99           20\n",
       "3            Nami  Navigator 6.6e+07  20   7/3/1995       15           90\n",
       "2    Roronoa Zoro  Swordsman 3.2e+08  21 11/11/1994       90           30\n",
       "4           Sanji       Chef      NA  21   3/2/1994       80           40\n",
       "  ratingsum ratingavg level birthdayasdate\n",
       "1       119      59.5     H     1996-05-05\n",
       "3       105      52.5     L     1995-07-03\n",
       "2       120      60.0     M     1994-11-11\n",
       "4       120      60.0  <NA>     1994-03-02"
      ]
     },
     "metadata": {},
     "output_type": "display_data"
    },
    {
     "data": {
      "text/html": [
       "<table>\n",
       "<thead><tr><th></th><th scope=col>name</th><th scope=col>occupation</th><th scope=col>bounty</th><th scope=col>age</th><th scope=col>birthday</th><th scope=col>strength</th><th scope=col>intelligence</th><th scope=col>ratingsum</th><th scope=col>ratingavg</th><th scope=col>level</th><th scope=col>birthdayasdate</th></tr></thead>\n",
       "<tbody>\n",
       "\t<tr><th scope=row>2</th><td>Roronoa Zoro</td><td>Swordsman   </td><td>3.2e+08     </td><td>21          </td><td>11/11/1994  </td><td>90          </td><td>30          </td><td>120         </td><td>60          </td><td>M           </td><td>9080        </td></tr>\n",
       "\t<tr><th scope=row>4</th><td>Sanji   </td><td>Chef    </td><td>NA      </td><td>21      </td><td>3/2/1994</td><td>80      </td><td>40      </td><td>120     </td><td>60      </td><td>NA      </td><td>8826    </td></tr>\n",
       "\t<tr><th scope=row>3</th><td>Nami     </td><td>Navigator</td><td>6.6e+07  </td><td>20       </td><td>7/3/1995 </td><td>15       </td><td>90       </td><td>105      </td><td>52.5     </td><td>L        </td><td>9314     </td></tr>\n",
       "\t<tr><th scope=row>1</th><td>Monkey D. Luffy</td><td>Captain        </td><td>5e+08          </td><td>19             </td><td>5/5/1996       </td><td>99             </td><td>20             </td><td>119            </td><td>59.5           </td><td>H              </td><td>9621           </td></tr>\n",
       "</tbody>\n",
       "</table>\n"
      ],
      "text/latex": [
       "\\begin{tabular}{r|lllllllllll}\n",
       "  & name & occupation & bounty & age & birthday & strength & intelligence & ratingsum & ratingavg & level & birthdayasdate\\\\\n",
       "\\hline\n",
       "\t2 & Roronoa Zoro & Swordsman    & 3.2e+08      & 21           & 11/11/1994   & 90           & 30           & 120          & 60           & M            & 9080        \\\\\n",
       "\t4 & Sanji    & Chef     & NA       & 21       & 3/2/1994 & 80       & 40       & 120      & 60       & NA       & 8826    \\\\\n",
       "\t3 & Nami      & Navigator & 6.6e+07   & 20        & 7/3/1995  & 15        & 90        & 105       & 52.5      & L         & 9314     \\\\\n",
       "\t1 & Monkey D. Luffy & Captain         & 5e+08           & 19              & 5/5/1996        & 99              & 20              & 119             & 59.5            & H               & 9621           \\\\\n",
       "\\end{tabular}\n"
      ],
      "text/plain": [
       "             name occupation  bounty age   birthday strength intelligence\n",
       "2    Roronoa Zoro  Swordsman 3.2e+08  21 11/11/1994       90           30\n",
       "4           Sanji       Chef      NA  21   3/2/1994       80           40\n",
       "3            Nami  Navigator 6.6e+07  20   7/3/1995       15           90\n",
       "1 Monkey D. Luffy    Captain 5.0e+08  19   5/5/1996       99           20\n",
       "  ratingsum ratingavg level birthdayasdate\n",
       "2       120      60.0     M     1994-11-11\n",
       "4       120      60.0  <NA>     1994-03-02\n",
       "3       105      52.5     L     1995-07-03\n",
       "1       119      59.5     H     1996-05-05"
      ]
     },
     "metadata": {},
     "output_type": "display_data"
    }
   ],
   "source": [
    "order(strawHatPirate$age)\n",
    "strawHatPirate[order(strawHatPirate$age),]\n",
    "# - for descending (default is ascending)\n",
    "strawHatPirate[order(-strawHatPirate$age,strawHatPirate$intelligence),]"
   ]
  },
  {
   "cell_type": "code",
   "execution_count": 19,
   "metadata": {
    "collapsed": false,
    "scrolled": true
   },
   "outputs": [
    {
     "data": {
      "text/html": [
       "<table>\n",
       "<thead><tr><th></th><th scope=col>name</th><th scope=col>occupation</th><th scope=col>bounty</th><th scope=col>age</th><th scope=col>birthday</th><th scope=col>strength</th><th scope=col>intelligence</th><th scope=col>favoritefood</th></tr></thead>\n",
       "<tbody>\n",
       "\t<tr><th scope=row>1</th><td>Monkey D. Luffy</td><td>Captain        </td><td>5e+08          </td><td>19             </td><td>5/5/1996       </td><td>99             </td><td>20             </td><td>Meat           </td></tr>\n",
       "\t<tr><th scope=row>2</th><td>Roronoa Zoro </td><td>Swordsman    </td><td>3.2e+08      </td><td>21           </td><td>11/11/1994   </td><td>90           </td><td>30           </td><td>Sea King Meat</td></tr>\n",
       "\t<tr><th scope=row>3</th><td>Nami     </td><td>Navigator</td><td>6.6e+07  </td><td>20       </td><td>7/3/1995 </td><td>15       </td><td>90       </td><td>Orange   </td></tr>\n",
       "\t<tr><th scope=row>4</th><td>Sanji   </td><td>Chef    </td><td>NA      </td><td>21      </td><td>3/2/1994</td><td>80      </td><td>40      </td><td>Pasta   </td></tr>\n",
       "</tbody>\n",
       "</table>\n"
      ],
      "text/latex": [
       "\\begin{tabular}{r|llllllll}\n",
       "  & name & occupation & bounty & age & birthday & strength & intelligence & favoritefood\\\\\n",
       "\\hline\n",
       "\t1 & Monkey D. Luffy & Captain         & 5e+08           & 19              & 5/5/1996        & 99              & 20              & Meat           \\\\\n",
       "\t2 & Roronoa Zoro  & Swordsman     & 3.2e+08       & 21            & 11/11/1994    & 90            & 30            & Sea King Meat\\\\\n",
       "\t3 & Nami      & Navigator & 6.6e+07   & 20        & 7/3/1995  & 15        & 90        & Orange   \\\\\n",
       "\t4 & Sanji    & Chef     & NA       & 21       & 3/2/1994 & 80       & 40       & Pasta   \\\\\n",
       "\\end{tabular}\n"
      ],
      "text/plain": [
       "             name occupation  bounty age   birthday strength intelligence\n",
       "1 Monkey D. Luffy    Captain 5.0e+08  19   5/5/1996       99           20\n",
       "2    Roronoa Zoro  Swordsman 3.2e+08  21 11/11/1994       90           30\n",
       "3            Nami  Navigator 6.6e+07  20   7/3/1995       15           90\n",
       "4           Sanji       Chef      NA  21   3/2/1994       80           40\n",
       "   favoritefood\n",
       "1          Meat\n",
       "2 Sea King Meat\n",
       "3        Orange\n",
       "4         Pasta"
      ]
     },
     "metadata": {},
     "output_type": "display_data"
    },
    {
     "data": {
      "text/html": [
       "<table>\n",
       "<thead><tr><th></th><th scope=col>name</th><th scope=col>occupation</th><th scope=col>bounty</th><th scope=col>age</th><th scope=col>birthday</th><th scope=col>strength</th><th scope=col>intelligence</th></tr></thead>\n",
       "<tbody>\n",
       "\t<tr><th scope=row>1</th><td>Monkey D. Luffy</td><td>Captain        </td><td>5e+08          </td><td>19             </td><td>5/5/1996       </td><td>99             </td><td>20             </td></tr>\n",
       "\t<tr><th scope=row>2</th><td>Roronoa Zoro</td><td>Swordsman   </td><td>3.2e+08     </td><td>21          </td><td>11/11/1994  </td><td>90          </td><td>30          </td></tr>\n",
       "\t<tr><th scope=row>3</th><td>Nami     </td><td>Navigator</td><td>6.6e+07  </td><td>20       </td><td>7/3/1995 </td><td>15       </td><td>90       </td></tr>\n",
       "\t<tr><th scope=row>4</th><td>Sanji   </td><td>Chef    </td><td>NA      </td><td>21      </td><td>3/2/1994</td><td>80      </td><td>40      </td></tr>\n",
       "\t<tr><th scope=row>5</th><td>Tony Tony Chopper</td><td>Doctor           </td><td>50               </td><td>17               </td><td>12/24/1998       </td><td>50               </td><td>80               </td></tr>\n",
       "</tbody>\n",
       "</table>\n"
      ],
      "text/latex": [
       "\\begin{tabular}{r|lllllll}\n",
       "  & name & occupation & bounty & age & birthday & strength & intelligence\\\\\n",
       "\\hline\n",
       "\t1 & Monkey D. Luffy & Captain         & 5e+08           & 19              & 5/5/1996        & 99              & 20             \\\\\n",
       "\t2 & Roronoa Zoro & Swordsman    & 3.2e+08      & 21           & 11/11/1994   & 90           & 30          \\\\\n",
       "\t3 & Nami      & Navigator & 6.6e+07   & 20        & 7/3/1995  & 15        & 90       \\\\\n",
       "\t4 & Sanji    & Chef     & NA       & 21       & 3/2/1994 & 80       & 40      \\\\\n",
       "\t5 & Tony Tony Chopper & Doctor            & 50                & 17                & 12/24/1998        & 50                & 80               \\\\\n",
       "\\end{tabular}\n"
      ],
      "text/plain": [
       "               name occupation  bounty age   birthday strength intelligence\n",
       "1   Monkey D. Luffy    Captain   5e+08  19   5/5/1996       99           20\n",
       "2      Roronoa Zoro  Swordsman 3.2e+08  21 11/11/1994       90           30\n",
       "3              Nami  Navigator 6.6e+07  20   7/3/1995       15           90\n",
       "4             Sanji       Chef    <NA>  21   3/2/1994       80           40\n",
       "5 Tony Tony Chopper     Doctor      50  17 12/24/1998       50           80"
      ]
     },
     "metadata": {},
     "output_type": "display_data"
    }
   ],
   "source": [
    "# binding column or row\n",
    "strawHatPirate <- strawHatPirate[1:7]\n",
    "favoritefood <- c(\"Meat\",\"Sea King Meat\",\"Orange\",\"Pasta\")\n",
    "strawHatPirate2 <- cbind(strawHatPirate,favoritefood)\n",
    "strawHatPirate2\n",
    "chopper <- c(\"Tony Tony Chopper\",\"Doctor\",50,17,\"12/24/1998\",50,80)\n",
    "strawHatPirate2 <- rbind(strawHatPirate,chopper)\n",
    "strawHatPirate2"
   ]
  },
  {
   "cell_type": "code",
   "execution_count": 20,
   "metadata": {
    "collapsed": false,
    "scrolled": true
   },
   "outputs": [
    {
     "data": {
      "text/html": [
       "<table>\n",
       "<thead><tr><th></th><th scope=col>name</th><th scope=col>occupation</th><th scope=col>bounty</th></tr></thead>\n",
       "<tbody>\n",
       "\t<tr><th scope=row>1</th><td>Monkey D. Luffy</td><td>Captain        </td><td>5e+08          </td></tr>\n",
       "\t<tr><th scope=row>2</th><td>Roronoa Zoro</td><td>Swordsman   </td><td>3.2e+08     </td></tr>\n",
       "\t<tr><th scope=row>3</th><td>Nami     </td><td>Navigator</td><td>6.6e+07  </td></tr>\n",
       "\t<tr><th scope=row>4</th><td>Sanji</td><td>Chef </td><td>NA   </td></tr>\n",
       "\t<tr><th scope=row>5</th><td>Tony Tony Chopper</td><td>Doctor           </td><td>50               </td></tr>\n",
       "</tbody>\n",
       "</table>\n"
      ],
      "text/latex": [
       "\\begin{tabular}{r|lll}\n",
       "  & name & occupation & bounty\\\\\n",
       "\\hline\n",
       "\t1 & Monkey D. Luffy & Captain         & 5e+08          \\\\\n",
       "\t2 & Roronoa Zoro & Swordsman    & 3.2e+08     \\\\\n",
       "\t3 & Nami      & Navigator & 6.6e+07  \\\\\n",
       "\t4 & Sanji & Chef  & NA   \\\\\n",
       "\t5 & Tony Tony Chopper & Doctor            & 50               \\\\\n",
       "\\end{tabular}\n"
      ],
      "text/plain": [
       "               name occupation  bounty\n",
       "1   Monkey D. Luffy    Captain   5e+08\n",
       "2      Roronoa Zoro  Swordsman 3.2e+08\n",
       "3              Nami  Navigator 6.6e+07\n",
       "4             Sanji       Chef    <NA>\n",
       "5 Tony Tony Chopper     Doctor      50"
      ]
     },
     "metadata": {},
     "output_type": "display_data"
    },
    {
     "data": {
      "text/html": [
       "<table>\n",
       "<thead><tr><th></th><th scope=col>name</th><th scope=col>bounty</th></tr></thead>\n",
       "<tbody>\n",
       "\t<tr><th scope=row>1</th><td>Monkey D. Luffy</td><td>5e+08          </td></tr>\n",
       "\t<tr><th scope=row>2</th><td>Roronoa Zoro</td><td>3.2e+08     </td></tr>\n",
       "\t<tr><th scope=row>3</th><td>Nami   </td><td>6.6e+07</td></tr>\n",
       "\t<tr><th scope=row>4</th><td>Sanji</td><td>NA   </td></tr>\n",
       "\t<tr><th scope=row>5</th><td>Tony Tony Chopper</td><td>50               </td></tr>\n",
       "</tbody>\n",
       "</table>\n"
      ],
      "text/latex": [
       "\\begin{tabular}{r|ll}\n",
       "  & name & bounty\\\\\n",
       "\\hline\n",
       "\t1 & Monkey D. Luffy & 5e+08          \\\\\n",
       "\t2 & Roronoa Zoro & 3.2e+08     \\\\\n",
       "\t3 & Nami    & 6.6e+07\\\\\n",
       "\t4 & Sanji & NA   \\\\\n",
       "\t5 & Tony Tony Chopper & 50               \\\\\n",
       "\\end{tabular}\n"
      ],
      "text/plain": [
       "               name  bounty\n",
       "1   Monkey D. Luffy   5e+08\n",
       "2      Roronoa Zoro 3.2e+08\n",
       "3              Nami 6.6e+07\n",
       "4             Sanji    <NA>\n",
       "5 Tony Tony Chopper      50"
      ]
     },
     "metadata": {},
     "output_type": "display_data"
    },
    {
     "data": {
      "text/html": [
       "<table>\n",
       "<thead><tr><th></th><th scope=col>age</th><th scope=col>birthday</th><th scope=col>strength</th><th scope=col>intelligence</th></tr></thead>\n",
       "<tbody>\n",
       "\t<tr><th scope=row>1</th><td>19      </td><td>5/5/1996</td><td>99      </td><td>20      </td></tr>\n",
       "\t<tr><th scope=row>2</th><td>21        </td><td>11/11/1994</td><td>90        </td><td>30        </td></tr>\n",
       "\t<tr><th scope=row>3</th><td>20      </td><td>7/3/1995</td><td>15      </td><td>90      </td></tr>\n",
       "\t<tr><th scope=row>4</th><td>21      </td><td>3/2/1994</td><td>80      </td><td>40      </td></tr>\n",
       "\t<tr><th scope=row>5</th><td>17        </td><td>12/24/1998</td><td>50        </td><td>80        </td></tr>\n",
       "</tbody>\n",
       "</table>\n"
      ],
      "text/latex": [
       "\\begin{tabular}{r|llll}\n",
       "  & age & birthday & strength & intelligence\\\\\n",
       "\\hline\n",
       "\t1 & 19       & 5/5/1996 & 99       & 20      \\\\\n",
       "\t2 & 21         & 11/11/1994 & 90         & 30        \\\\\n",
       "\t3 & 20       & 7/3/1995 & 15       & 90      \\\\\n",
       "\t4 & 21       & 3/2/1994 & 80       & 40      \\\\\n",
       "\t5 & 17         & 12/24/1998 & 50         & 80        \\\\\n",
       "\\end{tabular}\n"
      ],
      "text/plain": [
       "  age   birthday strength intelligence\n",
       "1  19   5/5/1996       99           20\n",
       "2  21 11/11/1994       90           30\n",
       "3  20   7/3/1995       15           90\n",
       "4  21   3/2/1994       80           40\n",
       "5  17 12/24/1998       50           80"
      ]
     },
     "metadata": {},
     "output_type": "display_data"
    },
    {
     "data": {
      "text/html": [
       "<ol class=list-inline>\n",
       "\t<li>TRUE</li>\n",
       "\t<li>FALSE</li>\n",
       "\t<li>TRUE</li>\n",
       "\t<li>FALSE</li>\n",
       "\t<li>FALSE</li>\n",
       "\t<li>FALSE</li>\n",
       "\t<li>FALSE</li>\n",
       "</ol>\n"
      ],
      "text/latex": [
       "\\begin{enumerate*}\n",
       "\\item TRUE\n",
       "\\item FALSE\n",
       "\\item TRUE\n",
       "\\item FALSE\n",
       "\\item FALSE\n",
       "\\item FALSE\n",
       "\\item FALSE\n",
       "\\end{enumerate*}\n"
      ],
      "text/markdown": [
       "1. TRUE\n",
       "2. FALSE\n",
       "3. TRUE\n",
       "4. FALSE\n",
       "5. FALSE\n",
       "6. FALSE\n",
       "7. FALSE\n",
       "\n",
       "\n"
      ],
      "text/plain": [
       "[1]  TRUE FALSE  TRUE FALSE FALSE FALSE FALSE"
      ]
     },
     "metadata": {},
     "output_type": "display_data"
    },
    {
     "data": {
      "text/html": [
       "<table>\n",
       "<thead><tr><th></th><th scope=col>occupation</th><th scope=col>age</th><th scope=col>birthday</th><th scope=col>strength</th><th scope=col>intelligence</th></tr></thead>\n",
       "<tbody>\n",
       "\t<tr><th scope=row>1</th><td>Captain </td><td>19      </td><td>5/5/1996</td><td>99      </td><td>20      </td></tr>\n",
       "\t<tr><th scope=row>2</th><td>Swordsman </td><td>21        </td><td>11/11/1994</td><td>90        </td><td>30        </td></tr>\n",
       "\t<tr><th scope=row>3</th><td>Navigator</td><td>20       </td><td>7/3/1995 </td><td>15       </td><td>90       </td></tr>\n",
       "\t<tr><th scope=row>4</th><td>Chef    </td><td>21      </td><td>3/2/1994</td><td>80      </td><td>40      </td></tr>\n",
       "\t<tr><th scope=row>5</th><td>Doctor    </td><td>17        </td><td>12/24/1998</td><td>50        </td><td>80        </td></tr>\n",
       "</tbody>\n",
       "</table>\n"
      ],
      "text/latex": [
       "\\begin{tabular}{r|lllll}\n",
       "  & occupation & age & birthday & strength & intelligence\\\\\n",
       "\\hline\n",
       "\t1 & Captain  & 19       & 5/5/1996 & 99       & 20      \\\\\n",
       "\t2 & Swordsman  & 21         & 11/11/1994 & 90         & 30        \\\\\n",
       "\t3 & Navigator & 20        & 7/3/1995  & 15        & 90       \\\\\n",
       "\t4 & Chef     & 21       & 3/2/1994 & 80       & 40      \\\\\n",
       "\t5 & Doctor     & 17         & 12/24/1998 & 50         & 80        \\\\\n",
       "\\end{tabular}\n"
      ],
      "text/plain": [
       "  occupation age   birthday strength intelligence\n",
       "1    Captain  19   5/5/1996       99           20\n",
       "2  Swordsman  21 11/11/1994       90           30\n",
       "3  Navigator  20   7/3/1995       15           90\n",
       "4       Chef  21   3/2/1994       80           40\n",
       "5     Doctor  17 12/24/1998       50           80"
      ]
     },
     "metadata": {},
     "output_type": "display_data"
    },
    {
     "data": {
      "text/html": [
       "<table>\n",
       "<thead><tr><th></th><th scope=col>name</th><th scope=col>occupation</th><th scope=col>bounty</th><th scope=col>age</th><th scope=col>birthday</th><th scope=col>strength</th><th scope=col>intelligence</th></tr></thead>\n",
       "<tbody>\n",
       "\t<tr><th scope=row>1</th><td>Monkey D. Luffy</td><td>Captain        </td><td>5e+08          </td><td>19             </td><td>5/5/1996       </td><td>99             </td><td>20             </td></tr>\n",
       "\t<tr><th scope=row>2</th><td>Roronoa Zoro</td><td>Swordsman   </td><td>3.2e+08     </td><td>21          </td><td>11/11/1994  </td><td>90          </td><td>30          </td></tr>\n",
       "\t<tr><th scope=row>3</th><td>Nami     </td><td>Navigator</td><td>6.6e+07  </td><td>20       </td><td>7/3/1995 </td><td>15       </td><td>90       </td></tr>\n",
       "</tbody>\n",
       "</table>\n"
      ],
      "text/latex": [
       "\\begin{tabular}{r|lllllll}\n",
       "  & name & occupation & bounty & age & birthday & strength & intelligence\\\\\n",
       "\\hline\n",
       "\t1 & Monkey D. Luffy & Captain         & 5e+08           & 19              & 5/5/1996        & 99              & 20             \\\\\n",
       "\t2 & Roronoa Zoro & Swordsman    & 3.2e+08      & 21           & 11/11/1994   & 90           & 30          \\\\\n",
       "\t3 & Nami      & Navigator & 6.6e+07   & 20        & 7/3/1995  & 15        & 90       \\\\\n",
       "\\end{tabular}\n"
      ],
      "text/plain": [
       "             name occupation  bounty age   birthday strength intelligence\n",
       "1 Monkey D. Luffy    Captain   5e+08  19   5/5/1996       99           20\n",
       "2    Roronoa Zoro  Swordsman 3.2e+08  21 11/11/1994       90           30\n",
       "3            Nami  Navigator 6.6e+07  20   7/3/1995       15           90"
      ]
     },
     "metadata": {},
     "output_type": "display_data"
    },
    {
     "data": {
      "text/html": [
       "<table>\n",
       "<thead><tr><th></th><th scope=col>name</th><th scope=col>occupation</th><th scope=col>bounty</th><th scope=col>age</th><th scope=col>birthday</th><th scope=col>strength</th><th scope=col>intelligence</th></tr></thead>\n",
       "<tbody>\n",
       "\t<tr><th scope=row>3</th><td>Nami     </td><td>Navigator</td><td>6.6e+07  </td><td>20       </td><td>7/3/1995 </td><td>15       </td><td>90       </td></tr>\n",
       "</tbody>\n",
       "</table>\n"
      ],
      "text/latex": [
       "\\begin{tabular}{r|lllllll}\n",
       "  & name & occupation & bounty & age & birthday & strength & intelligence\\\\\n",
       "\\hline\n",
       "\t3 & Nami      & Navigator & 6.6e+07   & 20        & 7/3/1995  & 15        & 90       \\\\\n",
       "\\end{tabular}\n"
      ],
      "text/plain": [
       "  name occupation  bounty age birthday strength intelligence\n",
       "3 Nami  Navigator 6.6e+07  20 7/3/1995       15           90"
      ]
     },
     "metadata": {},
     "output_type": "display_data"
    },
    {
     "data": {
      "text/html": [
       "<table>\n",
       "<thead><tr><th></th><th scope=col>name</th><th scope=col>occupation</th><th scope=col>bounty</th><th scope=col>age</th><th scope=col>birthday</th><th scope=col>strength</th><th scope=col>intelligence</th></tr></thead>\n",
       "<tbody>\n",
       "\t<tr><th scope=row>2</th><td>Roronoa Zoro</td><td>Swordsman   </td><td>3.2e+08     </td><td>21          </td><td>11/11/1994  </td><td>90          </td><td>30          </td></tr>\n",
       "\t<tr><th scope=row>4</th><td>Sanji   </td><td>Chef    </td><td>NA      </td><td>21      </td><td>3/2/1994</td><td>80      </td><td>40      </td></tr>\n",
       "</tbody>\n",
       "</table>\n"
      ],
      "text/latex": [
       "\\begin{tabular}{r|lllllll}\n",
       "  & name & occupation & bounty & age & birthday & strength & intelligence\\\\\n",
       "\\hline\n",
       "\t2 & Roronoa Zoro & Swordsman    & 3.2e+08      & 21           & 11/11/1994   & 90           & 30          \\\\\n",
       "\t4 & Sanji    & Chef     & NA       & 21       & 3/2/1994 & 80       & 40      \\\\\n",
       "\\end{tabular}\n"
      ],
      "text/plain": [
       "          name occupation  bounty age   birthday strength intelligence\n",
       "2 Roronoa Zoro  Swordsman 3.2e+08  21 11/11/1994       90           30\n",
       "4        Sanji       Chef    <NA>  21   3/2/1994       80           40"
      ]
     },
     "metadata": {},
     "output_type": "display_data"
    }
   ],
   "source": [
    "# Keep variables\n",
    "strawHatPirate3 <- strawHatPirate2[,c(1:3)]\n",
    "strawHatPirate3\n",
    "strawHatPirate3 <- strawHatPirate2[,c(\"name\",\"bounty\")]\n",
    "strawHatPirate3\n",
    "# Drop variables\n",
    "strawHatPirate4 <- strawHatPirate2[,c(-1:-3)]\n",
    "strawHatPirate4\n",
    "del <- names(strawHatPirate2) %in% c(\"name\",\"bounty\")\n",
    "del\n",
    "strawHatPirate4 <- strawHatPirate2[,!del]\n",
    "strawHatPirate4\n",
    "# Select rows\n",
    "strawHatPirate5 <- strawHatPirate2[1:3, ]\n",
    "strawHatPirate5\n",
    "strawHatPirate5 <- strawHatPirate2[strawHatPirate2$occupation=='Navigator',]\n",
    "strawHatPirate5\n",
    "strawHatPirate5 <- strawHatPirate2[strawHatPirate2$age>20 & strawHatPirate2$strength>50,]\n",
    "strawHatPirate5"
   ]
  },
  {
   "cell_type": "markdown",
   "metadata": {},
   "source": [
    "# Join"
   ]
  },
  {
   "cell_type": "code",
   "execution_count": 21,
   "metadata": {
    "collapsed": false,
    "scrolled": true
   },
   "outputs": [
    {
     "data": {
      "text/html": [
       "<table>\n",
       "<thead><tr><th></th><th scope=col>name</th><th scope=col>occupation</th><th scope=col>bounty</th><th scope=col>age</th><th scope=col>birthday</th><th scope=col>strength</th><th scope=col>intelligence</th><th scope=col>devilFruit</th></tr></thead>\n",
       "<tbody>\n",
       "\t<tr><th scope=row>1</th><td>Monkey D. Luffy</td><td>Captain        </td><td>5e+08          </td><td>19             </td><td>5/5/1996       </td><td>99             </td><td>20             </td><td>Rubber         </td></tr>\n",
       "</tbody>\n",
       "</table>\n"
      ],
      "text/latex": [
       "\\begin{tabular}{r|llllllll}\n",
       "  & name & occupation & bounty & age & birthday & strength & intelligence & devilFruit\\\\\n",
       "\\hline\n",
       "\t1 & Monkey D. Luffy & Captain         & 5e+08           & 19              & 5/5/1996        & 99              & 20              & Rubber         \\\\\n",
       "\\end{tabular}\n"
      ],
      "text/plain": [
       "             name occupation bounty age birthday strength intelligence\n",
       "1 Monkey D. Luffy    Captain  5e+08  19 5/5/1996       99           20\n",
       "  devilFruit\n",
       "1     Rubber"
      ]
     },
     "metadata": {},
     "output_type": "display_data"
    },
    {
     "data": {
      "text/html": [
       "<table>\n",
       "<thead><tr><th></th><th scope=col>name</th><th scope=col>occupation</th><th scope=col>bounty</th><th scope=col>age</th><th scope=col>birthday</th><th scope=col>strength</th><th scope=col>intelligence</th><th scope=col>devilFruit</th></tr></thead>\n",
       "<tbody>\n",
       "\t<tr><th scope=row>1</th><td>Monkey D. Luffy</td><td>Captain        </td><td>5e+08          </td><td>19             </td><td>5/5/1996       </td><td>99             </td><td>20             </td><td>Rubber         </td></tr>\n",
       "\t<tr><th scope=row>2</th><td>Nami     </td><td>Navigator</td><td>6.6e+07  </td><td>20       </td><td>7/3/1995 </td><td>15       </td><td>90       </td><td>NA       </td></tr>\n",
       "\t<tr><th scope=row>3</th><td>Roronoa Zoro</td><td>Swordsman   </td><td>3.2e+08     </td><td>21          </td><td>11/11/1994  </td><td>90          </td><td>30          </td><td>NA          </td></tr>\n",
       "\t<tr><th scope=row>4</th><td>Sanji   </td><td>Chef    </td><td>NA      </td><td>21      </td><td>3/2/1994</td><td>80      </td><td>40      </td><td>NA      </td></tr>\n",
       "</tbody>\n",
       "</table>\n"
      ],
      "text/latex": [
       "\\begin{tabular}{r|llllllll}\n",
       "  & name & occupation & bounty & age & birthday & strength & intelligence & devilFruit\\\\\n",
       "\\hline\n",
       "\t1 & Monkey D. Luffy & Captain         & 5e+08           & 19              & 5/5/1996        & 99              & 20              & Rubber         \\\\\n",
       "\t2 & Nami      & Navigator & 6.6e+07   & 20        & 7/3/1995  & 15        & 90        & NA       \\\\\n",
       "\t3 & Roronoa Zoro & Swordsman    & 3.2e+08      & 21           & 11/11/1994   & 90           & 30           & NA          \\\\\n",
       "\t4 & Sanji    & Chef     & NA       & 21       & 3/2/1994 & 80       & 40       & NA      \\\\\n",
       "\\end{tabular}\n"
      ],
      "text/plain": [
       "             name occupation  bounty age   birthday strength intelligence\n",
       "1 Monkey D. Luffy    Captain 5.0e+08  19   5/5/1996       99           20\n",
       "2            Nami  Navigator 6.6e+07  20   7/3/1995       15           90\n",
       "3    Roronoa Zoro  Swordsman 3.2e+08  21 11/11/1994       90           30\n",
       "4           Sanji       Chef      NA  21   3/2/1994       80           40\n",
       "  devilFruit\n",
       "1     Rubber\n",
       "2       <NA>\n",
       "3       <NA>\n",
       "4       <NA>"
      ]
     },
     "metadata": {},
     "output_type": "display_data"
    },
    {
     "data": {
      "text/html": [
       "<table>\n",
       "<thead><tr><th></th><th scope=col>name</th><th scope=col>occupation</th><th scope=col>bounty</th><th scope=col>age</th><th scope=col>birthday</th><th scope=col>strength</th><th scope=col>intelligence</th><th scope=col>devilFruit</th></tr></thead>\n",
       "<tbody>\n",
       "\t<tr><th scope=row>1</th><td>Brook     </td><td>NA        </td><td>NA        </td><td>NA        </td><td>NA        </td><td>NA        </td><td>NA        </td><td>Underworld</td></tr>\n",
       "\t<tr><th scope=row>2</th><td>Monkey D. Luffy</td><td>Captain        </td><td>5e+08          </td><td>19             </td><td>5/5/1996       </td><td>99             </td><td>20             </td><td>Rubber         </td></tr>\n",
       "\t<tr><th scope=row>3</th><td>Nico Robin</td><td>NA        </td><td>NA        </td><td>NA        </td><td>NA        </td><td>NA        </td><td>NA        </td><td>Flower    </td></tr>\n",
       "\t<tr><th scope=row>4</th><td>Tony Tony Chopper</td><td>NA               </td><td>NA               </td><td>NA               </td><td>NA               </td><td>NA               </td><td>NA               </td><td>Human            </td></tr>\n",
       "</tbody>\n",
       "</table>\n"
      ],
      "text/latex": [
       "\\begin{tabular}{r|llllllll}\n",
       "  & name & occupation & bounty & age & birthday & strength & intelligence & devilFruit\\\\\n",
       "\\hline\n",
       "\t1 & Brook      & NA         & NA         & NA         & NA         & NA         & NA         & Underworld\\\\\n",
       "\t2 & Monkey D. Luffy & Captain         & 5e+08           & 19              & 5/5/1996        & 99              & 20              & Rubber         \\\\\n",
       "\t3 & Nico Robin & NA         & NA         & NA         & NA         & NA         & NA         & Flower    \\\\\n",
       "\t4 & Tony Tony Chopper & NA                & NA                & NA                & NA                & NA                & NA                & Human            \\\\\n",
       "\\end{tabular}\n"
      ],
      "text/plain": [
       "               name occupation bounty age birthday strength intelligence\n",
       "1             Brook       <NA>     NA  NA     <NA>       NA           NA\n",
       "2   Monkey D. Luffy    Captain  5e+08  19 5/5/1996       99           20\n",
       "3        Nico Robin       <NA>     NA  NA     <NA>       NA           NA\n",
       "4 Tony Tony Chopper       <NA>     NA  NA     <NA>       NA           NA\n",
       "  devilFruit\n",
       "1 Underworld\n",
       "2     Rubber\n",
       "3     Flower\n",
       "4      Human"
      ]
     },
     "metadata": {},
     "output_type": "display_data"
    },
    {
     "data": {
      "text/html": [
       "<table>\n",
       "<thead><tr><th></th><th scope=col>name</th><th scope=col>occupation</th><th scope=col>bounty</th><th scope=col>age</th><th scope=col>birthday</th><th scope=col>strength</th><th scope=col>intelligence</th><th scope=col>devilFruit</th></tr></thead>\n",
       "<tbody>\n",
       "\t<tr><th scope=row>1</th><td>Brook     </td><td>NA        </td><td>NA        </td><td>NA        </td><td>NA        </td><td>NA        </td><td>NA        </td><td>Underworld</td></tr>\n",
       "\t<tr><th scope=row>2</th><td>Monkey D. Luffy</td><td>Captain        </td><td>5e+08          </td><td>19             </td><td>5/5/1996       </td><td>99             </td><td>20             </td><td>Rubber         </td></tr>\n",
       "\t<tr><th scope=row>3</th><td>Nami     </td><td>Navigator</td><td>6.6e+07  </td><td>20       </td><td>7/3/1995 </td><td>15       </td><td>90       </td><td>NA       </td></tr>\n",
       "\t<tr><th scope=row>4</th><td>Nico Robin</td><td>NA        </td><td>NA        </td><td>NA        </td><td>NA        </td><td>NA        </td><td>NA        </td><td>Flower    </td></tr>\n",
       "\t<tr><th scope=row>5</th><td>Roronoa Zoro</td><td>Swordsman   </td><td>3.2e+08     </td><td>21          </td><td>11/11/1994  </td><td>90          </td><td>30          </td><td>NA          </td></tr>\n",
       "\t<tr><th scope=row>6</th><td>Sanji   </td><td>Chef    </td><td>NA      </td><td>21      </td><td>3/2/1994</td><td>80      </td><td>40      </td><td>NA      </td></tr>\n",
       "\t<tr><th scope=row>7</th><td>Tony Tony Chopper</td><td>NA               </td><td>NA               </td><td>NA               </td><td>NA               </td><td>NA               </td><td>NA               </td><td>Human            </td></tr>\n",
       "</tbody>\n",
       "</table>\n"
      ],
      "text/latex": [
       "\\begin{tabular}{r|llllllll}\n",
       "  & name & occupation & bounty & age & birthday & strength & intelligence & devilFruit\\\\\n",
       "\\hline\n",
       "\t1 & Brook      & NA         & NA         & NA         & NA         & NA         & NA         & Underworld\\\\\n",
       "\t2 & Monkey D. Luffy & Captain         & 5e+08           & 19              & 5/5/1996        & 99              & 20              & Rubber         \\\\\n",
       "\t3 & Nami      & Navigator & 6.6e+07   & 20        & 7/3/1995  & 15        & 90        & NA       \\\\\n",
       "\t4 & Nico Robin & NA         & NA         & NA         & NA         & NA         & NA         & Flower    \\\\\n",
       "\t5 & Roronoa Zoro & Swordsman    & 3.2e+08      & 21           & 11/11/1994   & 90           & 30           & NA          \\\\\n",
       "\t6 & Sanji    & Chef     & NA       & 21       & 3/2/1994 & 80       & 40       & NA      \\\\\n",
       "\t7 & Tony Tony Chopper & NA                & NA                & NA                & NA                & NA                & NA                & Human            \\\\\n",
       "\\end{tabular}\n"
      ],
      "text/plain": [
       "               name occupation  bounty age   birthday strength intelligence\n",
       "1             Brook       <NA>      NA  NA       <NA>       NA           NA\n",
       "2   Monkey D. Luffy    Captain 5.0e+08  19   5/5/1996       99           20\n",
       "3              Nami  Navigator 6.6e+07  20   7/3/1995       15           90\n",
       "4        Nico Robin       <NA>      NA  NA       <NA>       NA           NA\n",
       "5      Roronoa Zoro  Swordsman 3.2e+08  21 11/11/1994       90           30\n",
       "6             Sanji       Chef      NA  21   3/2/1994       80           40\n",
       "7 Tony Tony Chopper       <NA>      NA  NA       <NA>       NA           NA\n",
       "  devilFruit\n",
       "1 Underworld\n",
       "2     Rubber\n",
       "3       <NA>\n",
       "4     Flower\n",
       "5       <NA>\n",
       "6       <NA>\n",
       "7      Human"
      ]
     },
     "metadata": {},
     "output_type": "display_data"
    }
   ],
   "source": [
    "name2 <- c(\"Monkey D. Luffy\", \"Tony Tony Chopper\", \"Nico Robin\", \"Brook\")\n",
    "devilFruit <- c(\"Rubber\", \"Human\", \"Flower\", \"Underworld\")\n",
    "devilFruitList <- data.frame(name2, devilFruit, stringsAsFactors=FALSE)\n",
    "# Inner join (default)\n",
    "devilFruitStrawHatPirate <- merge(strawHatPirate, devilFruitList, by.x=\"name\", by.y=\"name2\")\n",
    "devilFruitStrawHatPirate\n",
    "# Left join\n",
    "devilFruitStrawHatPirate <- merge(strawHatPirate, devilFruitList, by.x=\"name\", by.y=\"name2\",all.x = TRUE)\n",
    "devilFruitStrawHatPirate\n",
    "# Right join\n",
    "devilFruitStrawHatPirate <- merge(strawHatPirate, devilFruitList, by.x=\"name\", by.y=\"name2\",all.y = TRUE)\n",
    "devilFruitStrawHatPirate\n",
    "# Full join\n",
    "devilFruitStrawHatPirate <- merge(strawHatPirate, devilFruitList, by.x=\"name\", by.y=\"name2\",all.x = TRUE,all.y = TRUE)\n",
    "devilFruitStrawHatPirate"
   ]
  },
  {
   "cell_type": "markdown",
   "metadata": {},
   "source": [
    "# SQL in R"
   ]
  },
  {
   "cell_type": "code",
   "execution_count": 22,
   "metadata": {
    "collapsed": false,
    "scrolled": true
   },
   "outputs": [
    {
     "name": "stderr",
     "output_type": "stream",
     "text": [
      "Loading required package: gsubfn\n",
      "Loading required package: proto\n",
      "Loading required package: RSQLite\n",
      "Loading required package: DBI\n",
      "Loading required package: tcltk\n"
     ]
    },
    {
     "data": {
      "text/html": [
       "<table>\n",
       "<thead><tr><th></th><th scope=col>name</th><th scope=col>occupation</th><th scope=col>bounty</th><th scope=col>age</th></tr></thead>\n",
       "<tbody>\n",
       "\t<tr><th scope=row>1</th><td>Sanji</td><td>Chef </td><td>NA   </td><td>21   </td></tr>\n",
       "\t<tr><th scope=row>2</th><td>Nami     </td><td>Navigator</td><td>6.6e+07  </td><td>20       </td></tr>\n",
       "\t<tr><th scope=row>3</th><td>Roronoa Zoro</td><td>Swordsman   </td><td>3.2e+08     </td><td>21          </td></tr>\n",
       "</tbody>\n",
       "</table>\n"
      ],
      "text/latex": [
       "\\begin{tabular}{r|llll}\n",
       "  & name & occupation & bounty & age\\\\\n",
       "\\hline\n",
       "\t1 & Sanji & Chef  & NA    & 21   \\\\\n",
       "\t2 & Nami      & Navigator & 6.6e+07   & 20       \\\\\n",
       "\t3 & Roronoa Zoro & Swordsman    & 3.2e+08      & 21          \\\\\n",
       "\\end{tabular}\n"
      ],
      "text/plain": [
       "          name occupation  bounty age\n",
       "1        Sanji       Chef      NA  21\n",
       "2         Nami  Navigator 6.6e+07  20\n",
       "3 Roronoa Zoro  Swordsman 3.2e+08  21"
      ]
     },
     "metadata": {},
     "output_type": "display_data"
    },
    {
     "data": {
      "text/html": [
       "<table>\n",
       "<thead><tr><th></th><th scope=col>name</th><th scope=col>devilFruit</th></tr></thead>\n",
       "<tbody>\n",
       "\t<tr><th scope=row>1</th><td>Monkey D. Luffy</td><td>Rubber         </td></tr>\n",
       "</tbody>\n",
       "</table>\n"
      ],
      "text/latex": [
       "\\begin{tabular}{r|ll}\n",
       "  & name & devilFruit\\\\\n",
       "\\hline\n",
       "\t1 & Monkey D. Luffy & Rubber         \\\\\n",
       "\\end{tabular}\n"
      ],
      "text/plain": [
       "             name devilFruit\n",
       "1 Monkey D. Luffy     Rubber"
      ]
     },
     "metadata": {},
     "output_type": "display_data"
    },
    {
     "data": {
      "text/html": [
       "<table>\n",
       "<thead><tr><th></th><th scope=col>name</th><th scope=col>devilFruit</th></tr></thead>\n",
       "<tbody>\n",
       "\t<tr><th scope=row>1</th><td>Monkey D. Luffy</td><td>Rubber         </td></tr>\n",
       "\t<tr><th scope=row>2</th><td>Roronoa Zoro</td><td>NA          </td></tr>\n",
       "\t<tr><th scope=row>3</th><td>Nami</td><td>NA  </td></tr>\n",
       "\t<tr><th scope=row>4</th><td>Sanji</td><td>NA   </td></tr>\n",
       "</tbody>\n",
       "</table>\n"
      ],
      "text/latex": [
       "\\begin{tabular}{r|ll}\n",
       "  & name & devilFruit\\\\\n",
       "\\hline\n",
       "\t1 & Monkey D. Luffy & Rubber         \\\\\n",
       "\t2 & Roronoa Zoro & NA          \\\\\n",
       "\t3 & Nami & NA  \\\\\n",
       "\t4 & Sanji & NA   \\\\\n",
       "\\end{tabular}\n"
      ],
      "text/plain": [
       "             name devilFruit\n",
       "1 Monkey D. Luffy     Rubber\n",
       "2    Roronoa Zoro       <NA>\n",
       "3            Nami       <NA>\n",
       "4           Sanji       <NA>"
      ]
     },
     "metadata": {},
     "output_type": "display_data"
    }
   ],
   "source": [
    "library(sqldf)\n",
    "sqldf(\"select name, occupation, bounty, age from strawHatPirate where age>19 order by bounty asc\")\n",
    "sqldf(\"select strawHatPirate.name, devilFruitList.devilFruit from strawHatPirate inner join devilFruitList on strawHatPirate.name=devilFruitList.name2\")\n",
    "sqldf(\"select strawHatPirate.name, devilFruitList.devilFruit from strawHatPirate left join devilFruitList on strawHatPirate.name=devilFruitList.name2\")"
   ]
  },
  {
   "cell_type": "markdown",
   "metadata": {},
   "source": [
    "# reshape2\n",
    "* melt\n",
    "* dcast"
   ]
  },
  {
   "cell_type": "code",
   "execution_count": 23,
   "metadata": {
    "collapsed": false,
    "scrolled": true
   },
   "outputs": [
    {
     "data": {
      "text/html": [
       "<table>\n",
       "<thead><tr><th></th><th scope=col>name</th><th scope=col>variable</th><th scope=col>value</th></tr></thead>\n",
       "<tbody>\n",
       "\t<tr><th scope=row>1</th><td>Monkey D. Luffy</td><td>strength       </td><td>99             </td></tr>\n",
       "\t<tr><th scope=row>2</th><td>Roronoa Zoro</td><td>strength    </td><td>90          </td></tr>\n",
       "\t<tr><th scope=row>3</th><td>Nami    </td><td>strength</td><td>15      </td></tr>\n",
       "\t<tr><th scope=row>4</th><td>Sanji   </td><td>strength</td><td>80      </td></tr>\n",
       "\t<tr><th scope=row>5</th><td>Monkey D. Luffy</td><td>intelligence   </td><td>20             </td></tr>\n",
       "\t<tr><th scope=row>6</th><td>Roronoa Zoro</td><td>intelligence</td><td>30          </td></tr>\n",
       "\t<tr><th scope=row>7</th><td>Nami        </td><td>intelligence</td><td>90          </td></tr>\n",
       "\t<tr><th scope=row>8</th><td>Sanji       </td><td>intelligence</td><td>40          </td></tr>\n",
       "</tbody>\n",
       "</table>\n"
      ],
      "text/latex": [
       "\\begin{tabular}{r|lll}\n",
       "  & name & variable & value\\\\\n",
       "\\hline\n",
       "\t1 & Monkey D. Luffy & strength        & 99             \\\\\n",
       "\t2 & Roronoa Zoro & strength     & 90          \\\\\n",
       "\t3 & Nami     & strength & 15      \\\\\n",
       "\t4 & Sanji    & strength & 80      \\\\\n",
       "\t5 & Monkey D. Luffy & intelligence    & 20             \\\\\n",
       "\t6 & Roronoa Zoro & intelligence & 30          \\\\\n",
       "\t7 & Nami         & intelligence & 90          \\\\\n",
       "\t8 & Sanji        & intelligence & 40          \\\\\n",
       "\\end{tabular}\n"
      ],
      "text/plain": [
       "             name     variable value\n",
       "1 Monkey D. Luffy     strength    99\n",
       "2    Roronoa Zoro     strength    90\n",
       "3            Nami     strength    15\n",
       "4           Sanji     strength    80\n",
       "5 Monkey D. Luffy intelligence    20\n",
       "6    Roronoa Zoro intelligence    30\n",
       "7            Nami intelligence    90\n",
       "8           Sanji intelligence    40"
      ]
     },
     "metadata": {},
     "output_type": "display_data"
    },
    {
     "data": {
      "text/html": [
       "<table>\n",
       "<thead><tr><th></th><th scope=col>name</th><th scope=col>strength</th><th scope=col>intelligence</th></tr></thead>\n",
       "<tbody>\n",
       "\t<tr><th scope=row>1</th><td>Monkey D. Luffy</td><td>99             </td><td>20             </td></tr>\n",
       "\t<tr><th scope=row>2</th><td>Nami</td><td>15  </td><td>90  </td></tr>\n",
       "\t<tr><th scope=row>3</th><td>Roronoa Zoro</td><td>90          </td><td>30          </td></tr>\n",
       "\t<tr><th scope=row>4</th><td>Sanji</td><td>80   </td><td>40   </td></tr>\n",
       "</tbody>\n",
       "</table>\n"
      ],
      "text/latex": [
       "\\begin{tabular}{r|lll}\n",
       "  & name & strength & intelligence\\\\\n",
       "\\hline\n",
       "\t1 & Monkey D. Luffy & 99              & 20             \\\\\n",
       "\t2 & Nami & 15   & 90  \\\\\n",
       "\t3 & Roronoa Zoro & 90           & 30          \\\\\n",
       "\t4 & Sanji & 80    & 40   \\\\\n",
       "\\end{tabular}\n"
      ],
      "text/plain": [
       "             name strength intelligence\n",
       "1 Monkey D. Luffy       99           20\n",
       "2            Nami       15           90\n",
       "3    Roronoa Zoro       90           30\n",
       "4           Sanji       80           40"
      ]
     },
     "metadata": {},
     "output_type": "display_data"
    }
   ],
   "source": [
    "library(reshape2)\n",
    "strawHatPirate8 <- melt(strawHatPirate, id=c(\"name\"), measure=c(\"strength\",\"intelligence\"))\n",
    "strawHatPirate8\n",
    "\n",
    "strawHatPirate9 <- dcast(strawHatPirate8, name~variable)\n",
    "strawHatPirate9"
   ]
  },
  {
   "cell_type": "markdown",
   "metadata": {},
   "source": [
    "# Programming in R"
   ]
  },
  {
   "cell_type": "code",
   "execution_count": 24,
   "metadata": {
    "collapsed": false,
    "scrolled": true
   },
   "outputs": [
    {
     "data": {
      "text/html": [
       "3"
      ],
      "text/latex": [
       "3"
      ],
      "text/markdown": [
       "3"
      ],
      "text/plain": [
       "[1] 3"
      ]
     },
     "metadata": {},
     "output_type": "display_data"
    },
    {
     "data": {
      "text/html": [
       "6"
      ],
      "text/latex": [
       "6"
      ],
      "text/markdown": [
       "6"
      ],
      "text/plain": [
       "[1] 6"
      ]
     },
     "metadata": {},
     "output_type": "display_data"
    },
    {
     "data": {
      "text/html": [
       "3"
      ],
      "text/latex": [
       "3"
      ],
      "text/markdown": [
       "3"
      ],
      "text/plain": [
       "[1] 3"
      ]
     },
     "metadata": {},
     "output_type": "display_data"
    },
    {
     "data": {
      "text/html": [
       "6"
      ],
      "text/latex": [
       "6"
      ],
      "text/markdown": [
       "6"
      ],
      "text/plain": [
       "[1] 6"
      ]
     },
     "metadata": {},
     "output_type": "display_data"
    }
   ],
   "source": [
    "# function\n",
    "library(magrittr)\n",
    "maxfun <- function(x){\n",
    "    ans <- sort(x,decreasing = TRUE)[1]\n",
    "    return(ans)\n",
    "}\n",
    "c(1,3,2) %>% maxfun()\n",
    "\n",
    "trangle <- function(bottom,height=1){\n",
    "    area <- bottom*height/2\n",
    "    return(area)\n",
    "}\n",
    "trangle(3,4)\n",
    "2 %>% trangle(.,3)\n",
    "6 %>% trangle(height = 2,.)"
   ]
  },
  {
   "cell_type": "code",
   "execution_count": 25,
   "metadata": {
    "collapsed": false,
    "scrolled": true
   },
   "outputs": [
    {
     "name": "stdout",
     "output_type": "stream",
     "text": [
      "[1] \"start from 1\"\n",
      "[1] \"skip 2\"\n",
      "[1] \"prime number:\" \"3\"            \n",
      "[1] \"prime number:\" \"5\"            \n",
      "[1] \"prime number:\" \"7\"            \n",
      "[1] \"prime number:\" \"11\"           \n",
      "[1] \"prime number:\" \"13\"           \n",
      "[1] \"prime number:\" \"17\"           \n",
      "[1] \"prime number:\" \"19\"           \n",
      "[1] \"prime number:\" \"23\"           \n",
      "[1] \"prime number:\" \"29\"           \n",
      "[1] \"prime number:\" \"31\"           \n",
      "[1] \"prime number:\" \"37\"           \n",
      "[1] \"prime number:\" \"41\"           \n",
      "[1] \"prime number:\" \"43\"           \n",
      "[1] \"prime number:\" \"47\"           \n",
      "[1] \"prime number:\" \"53\"           \n",
      "[1] \"prime number:\" \"59\"           \n",
      "[1] \"prime number:\" \"61\"           \n",
      "[1] \"prime number:\" \"67\"           \n",
      "[1] \"prime number:\" \"71\"           \n",
      "[1] \"prime number:\" \"73\"           \n",
      "[1] \"prime number:\" \"79\"           \n",
      "[1] \"prime number:\" \"83\"           \n",
      "[1] \"prime number:\" \"89\"           \n",
      "[1] \"prime number:\" \"97\"           \n"
     ]
    },
    {
     "data": {
      "text/html": [
       "24"
      ],
      "text/latex": [
       "24"
      ],
      "text/markdown": [
       "24"
      ],
      "text/plain": [
       "[1] 24"
      ]
     },
     "metadata": {},
     "output_type": "display_data"
    }
   ],
   "source": [
    "# if-else\n",
    "# for loop\n",
    "# while loop\n",
    "countoddprime <- function(x){\n",
    "    n <- round(x)\n",
    "    ans <- 0\n",
    "    while(TRUE){\n",
    "        for (i in 1:n){\n",
    "            if (i==1){\n",
    "                print(\"start from 1\")\n",
    "            } else if (i==2){\n",
    "                print(\"skip 2\")\n",
    "                next\n",
    "            } else {\n",
    "                count <- 0\n",
    "                for (j in 2:i){\n",
    "                    if (i%%j==0){\n",
    "                        count <- count+1\n",
    "                    }\n",
    "                }\n",
    "                if (count==1){\n",
    "                    print(c(\"prime number:\",i))\n",
    "                    ans <- ans+1\n",
    "                }\n",
    "            }\n",
    "        }\n",
    "        if (i==n){\n",
    "            return(ans)\n",
    "            break\n",
    "        }\n",
    "    }\n",
    "}\n",
    "100 %>% countoddprime()"
   ]
  },
  {
   "cell_type": "markdown",
   "metadata": {},
   "source": [
    "# apply()\n",
    "* lapply -> list\n",
    "* sapply -> vector\n",
    "* vapply (FUN.VALUE)"
   ]
  },
  {
   "cell_type": "code",
   "execution_count": 26,
   "metadata": {
    "collapsed": false,
    "scrolled": true
   },
   "outputs": [
    {
     "name": "stdout",
     "output_type": "stream",
     "text": [
      "[1] \"numeric\"\n",
      "[1] \"character\"\n",
      "[1] \"logical\"\n"
     ]
    },
    {
     "data": {
      "text/html": [
       "<dl>\n",
       "\t<dt>$population</dt>\n",
       "\t\t<dd>\"numeric\"</dd>\n",
       "\t<dt>$districts</dt>\n",
       "\t\t<dd>\"character\"</dd>\n",
       "\t<dt>$capital</dt>\n",
       "\t\t<dd>\"logical\"</dd>\n",
       "</dl>\n"
      ],
      "text/latex": [
       "\\begin{description}\n",
       "\\item[\\$population] \"numeric\"\n",
       "\\item[\\$districts] \"character\"\n",
       "\\item[\\$capital] \"logical\"\n",
       "\\end{description}\n"
      ],
      "text/markdown": [
       "$population\n",
       ":   \"numeric\"\n",
       "$districts\n",
       ":   \"character\"\n",
       "$capital\n",
       ":   \"logical\"\n",
       "\n",
       "\n"
      ],
      "text/plain": [
       "$population\n",
       "[1] \"numeric\"\n",
       "\n",
       "$districts\n",
       "[1] \"character\"\n",
       "\n",
       "$capital\n",
       "[1] \"logical\"\n"
      ]
     },
     "metadata": {},
     "output_type": "display_data"
    },
    {
     "data": {
      "text/html": [
       "<dl class=dl-horizontal>\n",
       "\t<dt>population</dt>\n",
       "\t\t<dd>\"numeric\"</dd>\n",
       "\t<dt>districts</dt>\n",
       "\t\t<dd>\"character\"</dd>\n",
       "\t<dt>capital</dt>\n",
       "\t\t<dd>\"logical\"</dd>\n",
       "</dl>\n"
      ],
      "text/latex": [
       "\\begin{description*}\n",
       "\\item[population] \"numeric\"\n",
       "\\item[districts] \"character\"\n",
       "\\item[capital] \"logical\"\n",
       "\\end{description*}\n"
      ],
      "text/markdown": [
       "population\n",
       ":   \"numeric\"districts\n",
       ":   \"character\"capital\n",
       ":   \"logical\"\n",
       "\n"
      ],
      "text/plain": [
       " population   districts     capital \n",
       "  \"numeric\" \"character\"   \"logical\" "
      ]
     },
     "metadata": {},
     "output_type": "display_data"
    },
    {
     "name": "stdout",
     "output_type": "stream",
     "text": [
      "[1] \"East\"      \"North\"     \"Xiangshan\"\n"
     ]
    },
    {
     "data": {
      "text/html": [
       "<ol>\n",
       "\t<li>4</li>\n",
       "\t<li>5</li>\n",
       "\t<li>9</li>\n",
       "</ol>\n"
      ],
      "text/latex": [
       "\\begin{enumerate}\n",
       "\\item 4\n",
       "\\item 5\n",
       "\\item 9\n",
       "\\end{enumerate}\n"
      ],
      "text/markdown": [
       "1. 4\n",
       "2. 5\n",
       "3. 9\n",
       "\n",
       "\n"
      ],
      "text/plain": [
       "[[1]]\n",
       "[1] 4\n",
       "\n",
       "[[2]]\n",
       "[1] 5\n",
       "\n",
       "[[3]]\n",
       "[1] 9\n"
      ]
     },
     "metadata": {},
     "output_type": "display_data"
    },
    {
     "data": {
      "text/html": [
       "<dl class=dl-horizontal>\n",
       "\t<dt>population</dt>\n",
       "\t\t<dd>\"numeric\"</dd>\n",
       "\t<dt>districts</dt>\n",
       "\t\t<dd>\"character\"</dd>\n",
       "\t<dt>capital</dt>\n",
       "\t\t<dd>\"logical\"</dd>\n",
       "</dl>\n"
      ],
      "text/latex": [
       "\\begin{description*}\n",
       "\\item[population] \"numeric\"\n",
       "\\item[districts] \"character\"\n",
       "\\item[capital] \"logical\"\n",
       "\\end{description*}\n"
      ],
      "text/markdown": [
       "population\n",
       ":   \"numeric\"districts\n",
       ":   \"character\"capital\n",
       ":   \"logical\"\n",
       "\n"
      ],
      "text/plain": [
       " population   districts     capital \n",
       "  \"numeric\" \"character\"   \"logical\" "
      ]
     },
     "metadata": {},
     "output_type": "display_data"
    },
    {
     "data": {
      "text/html": [
       "<dl class=dl-horizontal>\n",
       "\t<dt>population</dt>\n",
       "\t\t<dd>\"numeric\"</dd>\n",
       "\t<dt>districts</dt>\n",
       "\t\t<dd>\"character\"</dd>\n",
       "\t<dt>capital</dt>\n",
       "\t\t<dd>\"logical\"</dd>\n",
       "</dl>\n"
      ],
      "text/latex": [
       "\\begin{description*}\n",
       "\\item[population] \"numeric\"\n",
       "\\item[districts] \"character\"\n",
       "\\item[capital] \"logical\"\n",
       "\\end{description*}\n"
      ],
      "text/markdown": [
       "population\n",
       ":   \"numeric\"districts\n",
       ":   \"character\"capital\n",
       ":   \"logical\"\n",
       "\n"
      ],
      "text/plain": [
       " population   districts     capital \n",
       "  \"numeric\" \"character\"   \"logical\" "
      ]
     },
     "metadata": {},
     "output_type": "display_data"
    }
   ],
   "source": [
    "hsinchu <- list(population=434674,\n",
    "               districts=c(\"East\",\"North\",\"Xiangshan\"),\n",
    "               capital=TRUE)\n",
    "for (i in hsinchu){\n",
    "    print(class(i))\n",
    "}\n",
    "# lapply\n",
    "lapply(hsinchu,FUN = class)\n",
    "lapply(hsinchu,FUN = class) %>% unlist()\n",
    "print(hsinchu$districts)\n",
    "hsinchu$districts %>% lapply(.,FUN = nchar)\n",
    "# sapply\n",
    "sapply(hsinchu,FUN = class)\n",
    "# vapply\n",
    "#vapply(hsinchu,FUN = class)\n",
    "vapply(hsinchu,FUN = class,FUN.VALUE = character(1))"
   ]
  },
  {
   "cell_type": "markdown",
   "metadata": {},
   "source": [
    "# Read csv"
   ]
  },
  {
   "cell_type": "code",
   "execution_count": 27,
   "metadata": {
    "collapsed": false,
    "scrolled": true
   },
   "outputs": [
    {
     "data": {
      "text/html": [
       "<table>\n",
       "<thead><tr><th></th><th scope=col>編號</th><th scope=col>縣市別</th><th scope=col>收治單位</th><th scope=col>性別</th><th scope=col>國籍</th><th scope=col>年齡</th><th scope=col>醫療檢傷</th><th scope=col>救護檢傷</th></tr></thead>\n",
       "<tbody>\n",
       "\t<tr><th scope=row>1</th><td>H326339 </td><td>台北市  </td><td>聯醫仁愛</td><td>男      </td><td>本國籍  </td><td>NA      </td><td>檢傷三級</td><td>中傷    </td></tr>\n",
       "\t<tr><th scope=row>2</th><td>H326349 </td><td>台北市  </td><td>聯醫仁愛</td><td>男      </td><td>本國籍  </td><td>26      </td><td>檢傷三級</td><td>中傷    </td></tr>\n",
       "\t<tr><th scope=row>3</th><td>H326356 </td><td>台北市  </td><td>聯醫仁愛</td><td>男      </td><td>本國籍  </td><td>NA      </td><td>檢傷三級</td><td>輕傷    </td></tr>\n",
       "\t<tr><th scope=row>4</th><td>H326368 </td><td>台北市  </td><td>聯醫仁愛</td><td>男      </td><td>本國籍  </td><td>NA      </td><td>檢傷三級</td><td>輕傷    </td></tr>\n",
       "\t<tr><th scope=row>5</th><td>H326376 </td><td>台北市  </td><td>聯醫仁愛</td><td>女      </td><td>本國籍  </td><td>18      </td><td>檢傷二級</td><td>重傷    </td></tr>\n",
       "\t<tr><th scope=row>6</th><td>H326390 </td><td>台北市  </td><td>聯醫仁愛</td><td>男      </td><td>本國籍  </td><td>25      </td><td>檢傷二級</td><td>中傷    </td></tr>\n",
       "</tbody>\n",
       "</table>\n"
      ],
      "text/latex": [
       "\\begin{tabular}{r|llllllll}\n",
       "  & 編號 & 縣市別 & 收治單位 & 性別 & 國籍 & 年齡 & 醫療檢傷 & 救護檢傷\\\\\n",
       "\\hline\n",
       "\t1 & H326339  & 台北市   & 聯醫仁愛 & 男       & 本國籍   & NA       & 檢傷三級 & 中傷    \\\\\n",
       "\t2 & H326349  & 台北市   & 聯醫仁愛 & 男       & 本國籍   & 26       & 檢傷三級 & 中傷    \\\\\n",
       "\t3 & H326356  & 台北市   & 聯醫仁愛 & 男       & 本國籍   & NA       & 檢傷三級 & 輕傷    \\\\\n",
       "\t4 & H326368  & 台北市   & 聯醫仁愛 & 男       & 本國籍   & NA       & 檢傷三級 & 輕傷    \\\\\n",
       "\t5 & H326376  & 台北市   & 聯醫仁愛 & 女       & 本國籍   & 18       & 檢傷二級 & 重傷    \\\\\n",
       "\t6 & H326390  & 台北市   & 聯醫仁愛 & 男       & 本國籍   & 25       & 檢傷二級 & 中傷    \\\\\n",
       "\\end{tabular}\n"
      ],
      "text/plain": [
       "     編號 縣市別 收治單位 性別   國籍 年齡 醫療檢傷 救護檢傷\n",
       "1 H326339 台北市 聯醫仁愛   男 本國籍   NA 檢傷三級     中傷\n",
       "2 H326349 台北市 聯醫仁愛   男 本國籍   26 檢傷三級     中傷\n",
       "3 H326356 台北市 聯醫仁愛   男 本國籍   NA 檢傷三級     輕傷\n",
       "4 H326368 台北市 聯醫仁愛   男 本國籍   NA 檢傷三級     輕傷\n",
       "5 H326376 台北市 聯醫仁愛   女 本國籍   18 檢傷二級     重傷\n",
       "6 H326390 台北市 聯醫仁愛   男 本國籍   25 檢傷二級     中傷"
      ]
     },
     "metadata": {},
     "output_type": "display_data"
    },
    {
     "data": {
      "text/plain": [
       "      編號        縣市別        收治單位   性別           國籍    \n",
       " H326005:  1   台中市:  3   淡水馬偕: 56   女:257   大陸地區:  4  \n",
       " H326006:  1   台北市:257   內湖三總: 48   男:258   不詳    :  1  \n",
       " H326007:  1   桃園市: 61   林口長庚: 48            本國籍  :505  \n",
       " H326008:  1   高雄市:  1   臺北榮總: 43            其他國家:  5  \n",
       " H326009:  1   基隆市:  1   新光醫院: 31                          \n",
       " H326010:  1   新北市:187   衛部台北: 30                          \n",
       " (Other):509   新竹市:  5   (Other) :259                          \n",
       "      年齡            醫療檢傷   救護檢傷  \n",
       " Min.   : 14.00           : 60       :116  \n",
       " 1st Qu.: 19.00   檢傷一級:159   中傷:129  \n",
       " Median : 21.00   檢傷二級:191   重傷:194  \n",
       " Mean   : 22.38   檢傷三級: 92   輕傷: 76  \n",
       " 3rd Qu.: 24.00   檢傷四級: 13             \n",
       " Max.   :101.00                            \n",
       " NA's   :121                               "
      ]
     },
     "metadata": {},
     "output_type": "display_data"
    },
    {
     "name": "stdout",
     "output_type": "stream",
     "text": [
      "'data.frame':\t515 obs. of  8 variables:\n",
      " $ 編號    : Factor w/ 515 levels \"H326005\",\"H326006\",..: 259 266 272 282 286 296 300 322 251 256 ...\n",
      " $ 縣市別  : Factor w/ 7 levels \"台中市\",\"台北市\",..: 2 2 2 2 2 2 2 2 2 2 ...\n",
      " $ 收治單位: Factor w/ 39 levels \"三重市醫\",\"中山醫院\",..: 35 35 35 35 35 35 35 34 34 34 ...\n",
      " $ 性別    : Factor w/ 2 levels \"女\",\"男\": 2 2 2 2 1 2 1 2 2 1 ...\n",
      " $ 國籍    : Factor w/ 4 levels \"大陸地區\",\"不詳\",..: 3 3 3 3 3 3 4 3 3 3 ...\n",
      " $ 年齡    : int  NA 26 NA NA 18 25 NA 22 30 24 ...\n",
      " $ 醫療檢傷: Factor w/ 5 levels \"\",\"檢傷一級\",..: 4 4 4 4 3 3 3 4 3 3 ...\n",
      " $ 救護檢傷: Factor w/ 4 levels \"\",\"中傷\",\"重傷\",..: 2 2 4 4 3 2 2 4 3 3 ...\n"
     ]
    }
   ],
   "source": [
    "accidentList <- read.csv(\"../GitHub/NTUTrainRL1/data/funCoastAccident.csv\", header=TRUE, sep=\",\")\n",
    "head(accidentList)\n",
    "summary(accidentList)\n",
    "str(accidentList)"
   ]
  },
  {
   "cell_type": "code",
   "execution_count": 28,
   "metadata": {
    "collapsed": false
   },
   "outputs": [
    {
     "data": {
      "text/html": [
       "<table>\n",
       "<thead><tr><th></th><th scope=col>county</th><th scope=col>hospital</th><th scope=col>gender</th><th scope=col>nationality</th><th scope=col>age</th><th scope=col>woundType1</th><th scope=col>woundType2</th></tr></thead>\n",
       "<tbody>\n",
       "\t<tr><th scope=row>H326339</th><td>台北市  </td><td>聯醫仁愛</td><td>男      </td><td>本國籍  </td><td>NA      </td><td>檢傷三級</td><td>中傷    </td></tr>\n",
       "\t<tr><th scope=row>H326349</th><td>台北市  </td><td>聯醫仁愛</td><td>男      </td><td>本國籍  </td><td>26      </td><td>檢傷三級</td><td>中傷    </td></tr>\n",
       "\t<tr><th scope=row>H326356</th><td>台北市  </td><td>聯醫仁愛</td><td>男      </td><td>本國籍  </td><td>NA      </td><td>檢傷三級</td><td>輕傷    </td></tr>\n",
       "\t<tr><th scope=row>H326368</th><td>台北市  </td><td>聯醫仁愛</td><td>男      </td><td>本國籍  </td><td>NA      </td><td>檢傷三級</td><td>輕傷    </td></tr>\n",
       "\t<tr><th scope=row>H326376</th><td>台北市  </td><td>聯醫仁愛</td><td>女      </td><td>本國籍  </td><td>18      </td><td>檢傷二級</td><td>重傷    </td></tr>\n",
       "\t<tr><th scope=row>H326390</th><td>台北市  </td><td>聯醫仁愛</td><td>男      </td><td>本國籍  </td><td>25      </td><td>檢傷二級</td><td>中傷    </td></tr>\n",
       "</tbody>\n",
       "</table>\n"
      ],
      "text/latex": [
       "\\begin{tabular}{r|lllllll}\n",
       "  & county & hospital & gender & nationality & age & woundType1 & woundType2\\\\\n",
       "\\hline\n",
       "\tH326339 & 台北市   & 聯醫仁愛 & 男       & 本國籍   & NA       & 檢傷三級 & 中傷    \\\\\n",
       "\tH326349 & 台北市   & 聯醫仁愛 & 男       & 本國籍   & 26       & 檢傷三級 & 中傷    \\\\\n",
       "\tH326356 & 台北市   & 聯醫仁愛 & 男       & 本國籍   & NA       & 檢傷三級 & 輕傷    \\\\\n",
       "\tH326368 & 台北市   & 聯醫仁愛 & 男       & 本國籍   & NA       & 檢傷三級 & 輕傷    \\\\\n",
       "\tH326376 & 台北市   & 聯醫仁愛 & 女       & 本國籍   & 18       & 檢傷二級 & 重傷    \\\\\n",
       "\tH326390 & 台北市   & 聯醫仁愛 & 男       & 本國籍   & 25       & 檢傷二級 & 中傷    \\\\\n",
       "\\end{tabular}\n"
      ],
      "text/plain": [
       "        county hospital gender nationality age woundType1 woundType2\n",
       "H326339 台北市 聯醫仁愛     男      本國籍  NA   檢傷三級       中傷\n",
       "H326349 台北市 聯醫仁愛     男      本國籍  26   檢傷三級       中傷\n",
       "H326356 台北市 聯醫仁愛     男      本國籍  NA   檢傷三級       輕傷\n",
       "H326368 台北市 聯醫仁愛     男      本國籍  NA   檢傷三級       輕傷\n",
       "H326376 台北市 聯醫仁愛     女      本國籍  18   檢傷二級       重傷\n",
       "H326390 台北市 聯醫仁愛     男      本國籍  25   檢傷二級       中傷"
      ]
     },
     "metadata": {},
     "output_type": "display_data"
    },
    {
     "name": "stdout",
     "output_type": "stream",
     "text": [
      "'data.frame':\t515 obs. of  7 variables:\n",
      " $ county     : chr  \"台北市\" \"台北市\" \"台北市\" \"台北市\" ...\n",
      " $ hospital   : chr  \"聯醫仁愛\" \"聯醫仁愛\" \"聯醫仁愛\" \"聯醫仁愛\" ...\n",
      " $ gender     : chr  \"男\" \"男\" \"男\" \"男\" ...\n",
      " $ nationality: chr  \"本國籍\" \"本國籍\" \"本國籍\" \"本國籍\" ...\n",
      " $ age        : int  NA 26 NA NA 18 25 NA 22 30 24 ...\n",
      " $ woundType1 : Factor w/ 5 levels \"\",\"檢傷一級\",..: 4 4 4 4 3 3 3 4 3 3 ...\n",
      " $ woundType2 : Factor w/ 4 levels \"\",\"中傷\",\"重傷\",..: 2 2 4 4 3 2 2 4 3 3 ...\n"
     ]
    }
   ],
   "source": [
    "# set attribute of header\n",
    "# row.names: assign row names\n",
    "accidentList <- read.csv(\"../GitHub/NTUTrainRL1/data/funCoastAccident.csv\", header=TRUE, sep=\",\", row.names=\"編號\", colClasses=c(\"character\", \"character\", \"character\", \"character\", \"character\", \"integer\", \"factor\", \"factor\"))\n",
    "colnames(accidentList) <- c(\"county\", \"hospital\", \"gender\", \"nationality\", \"age\", \"woundType1\", \"woundType2\")\n",
    "head(accidentList)\n",
    "str(accidentList)"
   ]
  },
  {
   "cell_type": "markdown",
   "metadata": {},
   "source": [
    "# 奇摩股市範例"
   ]
  },
  {
   "cell_type": "code",
   "execution_count": 29,
   "metadata": {
    "collapsed": false
   },
   "outputs": [
    {
     "name": "stderr",
     "output_type": "stream",
     "text": [
      "Loading required package: xml2\n"
     ]
    },
    {
     "name": "stdout",
     "output_type": "stream",
     "text": [
      "[1] \"Parameter n should be a integer between 1 and 100\"\n"
     ]
    },
    {
     "data": {
      "text/html": [
       "<table>\n",
       "<thead><tr><th></th><th scope=col>rank</th><th scope=col>stock</th><th scope=col>price</th></tr></thead>\n",
       "<tbody>\n",
       "\t<tr><th scope=row>1</th><td>1          </td><td>3008 大立光</td><td>2645       </td></tr>\n",
       "\t<tr><th scope=row>2</th><td>2        </td><td>6409 旭隼</td><td>448      </td></tr>\n",
       "\t<tr><th scope=row>3</th><td>3        </td><td>6414 樺漢</td><td>414      </td></tr>\n",
       "\t<tr><th scope=row>4</th><td>4          </td><td>6415 F-矽力</td><td>383.5      </td></tr>\n",
       "\t<tr><th scope=row>5</th><td>5        </td><td>2231 為升</td><td>354      </td></tr>\n",
       "\t<tr><th scope=row>6</th><td>6        </td><td>2059 川湖</td><td>343      </td></tr>\n",
       "\t<tr><th scope=row>7</th><td>7          </td><td>6452 F-康友</td><td>342.5      </td></tr>\n",
       "\t<tr><th scope=row>8</th><td>8          </td><td>2723 F-美食</td><td>299        </td></tr>\n",
       "\t<tr><th scope=row>9</th><td>9        </td><td>1476 儒鴻</td><td>295      </td></tr>\n",
       "\t<tr><th scope=row>10</th><td>10         </td><td>2207 和泰車</td><td>291.5      </td></tr>\n",
       "\t<tr><th scope=row>11</th><td>11       </td><td>8464 億豐</td><td>288      </td></tr>\n",
       "\t<tr><th scope=row>12</th><td>12       </td><td>2357 華碩</td><td>253      </td></tr>\n",
       "\t<tr><th scope=row>13</th><td>13         </td><td>2912 統一超</td><td>238        </td></tr>\n",
       "\t<tr><th scope=row>14</th><td>14         </td><td>8454 富邦媒</td><td>232        </td></tr>\n",
       "\t<tr><th scope=row>15</th><td>15       </td><td>2474 可成</td><td>231      </td></tr>\n",
       "\t<tr><th scope=row>16</th><td>16       </td><td>2395 研華</td><td>225      </td></tr>\n",
       "\t<tr><th scope=row>17</th><td>17         </td><td>1590 F-亞德</td><td>223.5      </td></tr>\n",
       "\t<tr><th scope=row>18</th><td>18         </td><td>1589 F-永冠</td><td>204.5      </td></tr>\n",
       "\t<tr><th scope=row>19</th><td>19         </td><td>2454 聯發科</td><td>202        </td></tr>\n",
       "\t<tr><th scope=row>20</th><td>20         </td><td>2227 裕日車</td><td>202        </td></tr>\n",
       "\t<tr><th scope=row>21</th><td>21         </td><td>1707 葡萄王</td><td>199.5      </td></tr>\n",
       "\t<tr><th scope=row>22</th><td>22       </td><td>2228 劍麟</td><td>199      </td></tr>\n",
       "\t<tr><th scope=row>23</th><td>23       </td><td>2707 晶華</td><td>191      </td></tr>\n",
       "\t<tr><th scope=row>24</th><td>24         </td><td>3665 F-貿聯</td><td>181        </td></tr>\n",
       "\t<tr><th scope=row>25</th><td>25       </td><td>9921 巨大</td><td>179      </td></tr>\n",
       "\t<tr><th scope=row>26</th><td>26         </td><td>8422 可寧衛</td><td>175        </td></tr>\n",
       "\t<tr><th scope=row>27</th><td>27         </td><td>4137 F-麗豐</td><td>171.5      </td></tr>\n",
       "\t<tr><th scope=row>28</th><td>28         </td><td>2239 F-英利</td><td>160        </td></tr>\n",
       "\t<tr><th scope=row>29</th><td>29         </td><td>8114 振樺電</td><td>160        </td></tr>\n",
       "\t<tr><th scope=row>30</th><td>30       </td><td>1477 聚陽</td><td>158      </td></tr>\n",
       "</tbody>\n",
       "</table>\n"
      ],
      "text/latex": [
       "\\begin{tabular}{r|lll}\n",
       "  & rank & stock & price\\\\\n",
       "\\hline\n",
       "\t1 & 1           & 3008 大立光 & 2645       \\\\\n",
       "\t2 & 2         & 6409 旭隼 & 448      \\\\\n",
       "\t3 & 3         & 6414 樺漢 & 414      \\\\\n",
       "\t4 & 4           & 6415 F-矽力 & 383.5      \\\\\n",
       "\t5 & 5         & 2231 為升 & 354      \\\\\n",
       "\t6 & 6         & 2059 川湖 & 343      \\\\\n",
       "\t7 & 7           & 6452 F-康友 & 342.5      \\\\\n",
       "\t8 & 8           & 2723 F-美食 & 299        \\\\\n",
       "\t9 & 9         & 1476 儒鴻 & 295      \\\\\n",
       "\t10 & 10          & 2207 和泰車 & 291.5      \\\\\n",
       "\t11 & 11        & 8464 億豐 & 288      \\\\\n",
       "\t12 & 12        & 2357 華碩 & 253      \\\\\n",
       "\t13 & 13          & 2912 統一超 & 238        \\\\\n",
       "\t14 & 14          & 8454 富邦媒 & 232        \\\\\n",
       "\t15 & 15        & 2474 可成 & 231      \\\\\n",
       "\t16 & 16        & 2395 研華 & 225      \\\\\n",
       "\t17 & 17          & 1590 F-亞德 & 223.5      \\\\\n",
       "\t18 & 18          & 1589 F-永冠 & 204.5      \\\\\n",
       "\t19 & 19          & 2454 聯發科 & 202        \\\\\n",
       "\t20 & 20          & 2227 裕日車 & 202        \\\\\n",
       "\t21 & 21          & 1707 葡萄王 & 199.5      \\\\\n",
       "\t22 & 22        & 2228 劍麟 & 199      \\\\\n",
       "\t23 & 23        & 2707 晶華 & 191      \\\\\n",
       "\t24 & 24          & 3665 F-貿聯 & 181        \\\\\n",
       "\t25 & 25        & 9921 巨大 & 179      \\\\\n",
       "\t26 & 26          & 8422 可寧衛 & 175        \\\\\n",
       "\t27 & 27          & 4137 F-麗豐 & 171.5      \\\\\n",
       "\t28 & 28          & 2239 F-英利 & 160        \\\\\n",
       "\t29 & 29          & 8114 振樺電 & 160        \\\\\n",
       "\t30 & 30        & 1477 聚陽 & 158      \\\\\n",
       "\\end{tabular}\n"
      ],
      "text/plain": [
       "   rank       stock  price\n",
       "1     1 3008 大立光 2645.0\n",
       "2     2   6409 旭隼  448.0\n",
       "3     3   6414 樺漢  414.0\n",
       "4     4 6415 F-矽力  383.5\n",
       "5     5   2231 為升  354.0\n",
       "6     6   2059 川湖  343.0\n",
       "7     7 6452 F-康友  342.5\n",
       "8     8 2723 F-美食  299.0\n",
       "9     9   1476 儒鴻  295.0\n",
       "10   10 2207 和泰車  291.5\n",
       "11   11   8464 億豐  288.0\n",
       "12   12   2357 華碩  253.0\n",
       "13   13 2912 統一超  238.0\n",
       "14   14 8454 富邦媒  232.0\n",
       "15   15   2474 可成  231.0\n",
       "16   16   2395 研華  225.0\n",
       "17   17 1590 F-亞德  223.5\n",
       "18   18 1589 F-永冠  204.5\n",
       "19   19 2454 聯發科  202.0\n",
       "20   20 2227 裕日車  202.0\n",
       "21   21 1707 葡萄王  199.5\n",
       "22   22   2228 劍麟  199.0\n",
       "23   23   2707 晶華  191.0\n",
       "24   24 3665 F-貿聯  181.0\n",
       "25   25   9921 巨大  179.0\n",
       "26   26 8422 可寧衛  175.0\n",
       "27   27 4137 F-麗豐  171.5\n",
       "28   28 2239 F-英利  160.0\n",
       "29   29 8114 振樺電  160.0\n",
       "30   30   1477 聚陽  158.0"
      ]
     },
     "metadata": {},
     "output_type": "display_data"
    }
   ],
   "source": [
    "yahooStockRankParser <- function(n){\n",
    "  library(magrittr)\n",
    "  library(rvest)\n",
    "  # 資料僅有股價排名前100的個股\n",
    "  if (!n %in% 1:100){\n",
    "    print(\"Parameter n should be a integer between 1 and 100\")\n",
    "  }else{\n",
    "    URL <- \"https://tw.stock.yahoo.com/d/i/rank.php?t=pri&e=tse&n=100\" #網頁\n",
    "    xpathRank <- \"//table[2]/tbody/tr/td[1]\"#排名的xpath\n",
    "    xpathStock <- \"//tbody/tr/td[@class='name']\"#股票名稱的xpath\n",
    "    xpathPrice <- \"//table[2]/tbody/tr/td[3]\"#股價的xpath\n",
    "    doc <- read_html(URL, encoding=\"cp950\")#將網頁讀進R\n",
    "    # 用相同的方式擷取出需要的資訊\n",
    "    rank <- doc %>% \n",
    "      html_nodes(.,xpath = xpathRank) %>%\n",
    "      html_text\n",
    "    stock <- doc %>% \n",
    "      html_nodes(.,xpath = xpathStock) %>%\n",
    "      html_text %>%\n",
    "      iconv(from = \"UTF-8\", to = \"UTF-8\")\n",
    "    price <- doc %>% \n",
    "      html_nodes(.,xpath = xpathPrice) %>%\n",
    "      html_text\n",
    "    stockTmp <- data.frame(rank=as.integer(rank), stock=stock, price=as.numeric(price))\n",
    "    stockDF <- head(stockTmp, n)\n",
    "    assign('stockDF',stockDF,envir=.GlobalEnv)\n",
    "  }\n",
    "}\n",
    "yahooStockRankParser(n = 101)#回傳訊息\n",
    "yahooStockRankParser(n = 30)\n",
    "stockDF"
   ]
  },
  {
   "cell_type": "markdown",
   "metadata": {},
   "source": [
    "# 7-Eleven門市資訊範例"
   ]
  },
  {
   "cell_type": "code",
   "execution_count": 30,
   "metadata": {
    "collapsed": false
   },
   "outputs": [
    {
     "name": "stderr",
     "output_type": "stream",
     "text": [
      "\n",
      "Attaching package: 'XML'\n",
      "\n",
      "The following object is masked from 'package:rvest':\n",
      "\n",
      "    xml\n",
      "\n"
     ]
    },
    {
     "name": "stdout",
     "output_type": "stream",
     "text": [
      "                  POIID  POIName                X                Y\n",
      "1  153319                   大台  121532614.37826 25017959.8345753\n",
      "2  128416                   大安 121546223.388913 25041946.9181243\n",
      "3  921633                   大信        121534563         25033718\n",
      "4  135791                   大敦 121549556.390975 25031191.8805121\n",
      "5  140612                   中廣        121534331         25038516\n",
      "6  975962                   仁安        121545243         25038646\n",
      "7  977359                   仕吉        121553109         25043523\n",
      "8  946883                 北科大        121533931         25042410\n",
      "9  967374                 台科三        121540380         25012497\n",
      "10 945721                   永康        121529595         25030427\n",
      "11 975973                   禾光        121538616         25025650\n",
      "12 901293                   立仁        121551574         25030018\n",
      "13 957285                   吉忠        121554192         25042522\n",
      "14 164799                   合旺        121545411         25028362\n",
      "15 111441                   合維 121547625.389473 25028195.8700811\n",
      "16 127631                   安居        121554426         25020451\n",
      "17 110334                   安信        121546420         25033132\n",
      "18 970428                   佑安        121539647         25042414\n",
      "19 128058                   技安        121550839         25024519\n",
      "20 894359                   辛亥        121537167         25023057\n",
      "21 855572                   和安        121554624         25022220\n",
      "22 906117                   和金        121525706         25026918\n",
      "23 944795                   和泰        121531704         25026457\n",
      "24 148834                   延吉        121555705         25036636\n",
      "25 115959                   昇隆        121548273         25021004\n",
      "26 985246                 欣安和 121551057.392316 25038687.9066647\n",
      "27 177175                 欣隆昌 121556496.395919 25028386.8706027\n",
      "28 146241                   芙蓉 121538598.383252 25038097.9048053\n",
      "29 962601                   花市        121537272         25036371\n",
      "30 127837                   金信 121526940.374646 25033281.8881702\n",
      "31 135632                   金華        121528431         25029814\n",
      "32 972594                   長星        121545340         25017810\n",
      "33 959155                   信中        121538664         25033650\n",
      "34 135492                   信安        121545890         25034291\n",
      "35 158509                   信義        121554413         25034224\n",
      "36 961217                   信興        121544676         25033141\n",
      "37 127620                   建安        121550671         25042638\n",
      "38 975869                   建忠        121541434         25041794\n",
      "39 895020                   建南        121538400         25028706\n",
      "40 135609                   建綸 121551922.392981 25039776.9104535\n",
      "41 928977                   恆安        121529911         25033133\n",
      "42 976895                 科技站        121543666         25026283\n",
      "43 882482                   科建        121536228         25044269\n",
      "44 865362                   師大        121528471         25023193\n",
      "45 158956                   泰利        121554234         25036558\n",
      "46 113229                   國青 121544607.387029 25020501.8432615\n",
      "47 121770                   國館 121556366.396237 25040571.9131566\n",
      "48 946919                   崇光        121544540         25042696\n",
      "49 970288               教育大學        121546479         25023345\n",
      "50 113676                   統家 121553361.394032 25039938.9109956\n",
      "51 121161                   統領 121552245.393299 25042254.9191018\n",
      "52 975630                   通化        121554216         25031426\n",
      "53 143253                   頂好 121547229.389521 25038255.9052184\n",
      "54 956248                   頂東        121546255         25043521\n",
      "55 159362                   鹿鳴        121533697         25016984\n",
      "56 162760                   喜悅        121543243         25030944\n",
      "57 144290                   富陽 121556246.395477 25020682.8437036\n",
      "58 170392                   復昌        121557335         25032264\n",
      "59 136705                   復維        121543897         25032399\n",
      "60 114668                   敦禾 121549574.390796  25025447.860453\n",
      "61 916712                   敦安        121552397         25034700\n",
      "62 147141                   敦信 121550178.391539 25034565.8922844\n",
      "63 975087                   敦南        121547216         25040605\n",
      "64 883304                   敦頂        121548128         25042130\n",
      "65 120711                   敦隆 121548327.390832 25023666.8543539\n",
      "66 110242                   敦維 121546674.389051 25036237.8981803\n",
      "67 978271                   敦親        121540983         25022127\n",
      "68 149125                   華電        121553541         25027566\n",
      "69 122289                 新東帝        121549789         25028692\n",
      "70 137029                 新泰順        121531544         25025102\n",
      "71 962184                 新國聯        121556961         25042381\n",
      "72 121356                   溫州 121529996.376413 25019418.8397112\n",
      "73 875130                   溫東        121533606         25026015\n",
      "74 977441                   瑞升        121522046         25028588\n",
      "75 936336                   瑞安        121541056         25028544\n",
      "76 963305                   義村        121538224         25041525\n",
      "77 996154                   鳳翔        121552885         25038084\n",
      "78 965079                   樂安        121550849         25021970\n",
      "79 141981                   樂利 121551834.392447  25025776.861565\n",
      "80 126214                   樂和        121551507         25027420\n",
      "81 121275                   樂隆 121549609.390729 25022687.8508142\n",
      "82 129350                   黎元        121550932         25018066\n",
      "83 863698                   豫銘        121545866         25030789\n",
      "84 140689                   錢忠        121544478         25041136\n",
      "85 929110                   靜安        121557558         25040194\n",
      "86 915568                   龍延        121529356         25023917\n",
      "87 125602                   龍門        121535922         25025750\n",
      "88 959111                   龍淵        121542910         25023523\n",
      "89 957241                   龍普        121550740         25040430\n",
      "90 146931                   濟南 121533873.379892 25040157.9120739\n",
      "91 151911                   臨江        121552532         25030523\n",
      "92 959122                   豐安        121544267         25036114\n",
      "93 810926                   懷生        121541391         25041067\n",
      "94 121600                   麟光        121556997         25018364\n",
      "95 144005                   鑫泰 121531154.377344 25022309.8497889\n",
      "96 155083                   鑫復 121542313.385788 25033280.8879243\n",
      "                  Telno                FaxNo\n",
      "1  (02)23636229         (02)23660784        \n",
      "2  (02)87728951         (02)87720152        \n",
      "3  (02)27096471         (02)27096492        \n",
      "4  (02)27045633         (02)27046592        \n",
      "5  (02)27526751         (02)27118190        \n",
      "6  (02)87732749                             \n",
      "7  (02)87730907         (02)87733273        \n",
      "8  (02)87733142         (02)87730445        \n",
      "9  (02)27366134         (02)27382947        \n",
      "10 (02)23216948         (02)23944870        \n",
      "11 (02)27027770         (02)27051895        \n",
      "12 (02)27066660         (02)27066194        \n",
      "13 (02)87725413                             \n",
      "14 (02)27026159         (02)27025391        \n",
      "15 (02)27077030         (02)27075996        \n",
      "16 (02)27332560         (02)27334831        \n",
      "17 (02)27050827         (02)27051323        \n",
      "18 (02)27752136         (02)27754434        \n",
      "19 (02)27375613         (02)23775513        \n",
      "20 (02)23630291                             \n",
      "21 (02)27355311                             \n",
      "22 (02)23414965         (02)23944778        \n",
      "23 (02)23915933         (02)23916551        \n",
      "24 (02)27087348         (02)27025370        \n",
      "25 (02)27328454         (02)27326515        \n",
      "26 (02)87730039         (02)87733210        \n",
      "27 (02)23782716         (02)23783379        \n",
      "28 (02)27007482         (02)27547032        \n",
      "29 (02)27552540         (02)27556351        \n",
      "30 (02)23215183         (02)23217497        \n",
      "31 (02)23945455         (02)23918034        \n",
      "32 (02)27395493         (02)27397197        \n",
      "33 (02)27033810         (02)27034020        \n",
      "34 (02)27048829         (02)27048946        \n",
      "35 (02)27005388         (02)27554288        \n",
      "36 (02)27018486         (02)27018205        \n",
      "37 (02)87730985                             \n",
      "38 (02)27416501                             \n",
      "39 (02)27549832         (02)27069830        \n",
      "40 (02)87717103         (02)87716484        \n",
      "41 (02)23576939         (02)23576631        \n",
      "42 (02)27059323         (02)27024882        \n",
      "43 (02)87721391                             \n",
      "44 (02)23693200                             \n",
      "45 (02)27058645                             \n",
      "46 (02)23677680         (02)23650852        \n",
      "47 (02)27761700         (02)27760350        \n",
      "48 (02)27218292                             \n",
      "49 (02)27359529         (02)27359720        \n",
      "50 (02)27212029         (02)27738309        \n",
      "51 (02)27319841         (02)27738656        \n",
      "52 (02)27083071         (02)27554416        \n",
      "53 (02)87714781         (02)87717580        \n",
      "54 (02)27521297                             \n",
      "55 (02)23670865         (02)23679335        \n",
      "56 (02)27067601         (02)27069749        \n",
      "57 (02)27373519         (02)27373281        \n",
      "58 (02)27076154         (02)27074379        \n",
      "59 (02)27070732         (02)27073742        \n",
      "60 (02)27322654         (02)27324980        \n",
      "61 (02)27081857         (02)27099767        \n",
      "62 (02)27556047         (02)27025427        \n",
      "63 (02)27728928                             \n",
      "64 (02)87716011                             \n",
      "65 (02)27329700         (02)27393022        \n",
      "66 (02)23255362         (02)23258363        \n",
      "67 (02)27366095                             \n",
      "68 (02)27329694         (02)27338944        \n",
      "69 (02)27540987         (02)27059305        \n",
      "70 (02)23643011                             \n",
      "71 (02)27752026         (02)27752021        \n",
      "72 (02)23626249         (02)23629445        \n",
      "73 (02)23623019                             \n",
      "74 (02)23435837         (02)23969839        \n",
      "75 (02)27021483         (02)27069829        \n",
      "76 (02)27312912         (02)27315704        \n",
      "77 (02)87710411                             \n",
      "78 (02)87325204         (02)87321014        \n",
      "79 (02)27332646         (02)23775703        \n",
      "80 (02)87323391         (02)87323390        \n",
      "81 (02)87321701         (02)87328330        \n",
      "82 (02)23778253                             \n",
      "83 (02)27540615         (02)27540614        \n",
      "84 (02)27526260                             \n",
      "85 (02)27739618                             \n",
      "86 (02)23648913                             \n",
      "87 (02)23625327                             \n",
      "88 (02)27336247                             \n",
      "89 (02)27751069                             \n",
      "90 (02)27409693         (02)27514338        \n",
      "91 (02)27844961         (02)27084409        \n",
      "92 (02)27542996         (02)27543034        \n",
      "93 (02)27811473         (02)27118760        \n",
      "94 (02)27339761         (02)27388199        \n",
      "95 (02)23623520         (02)23623507        \n",
      "96 (02)27085803         (02)27088347        \n",
      "                                          Address isDining isParking isLavatory\n",
      "1         台北市大安區羅斯福路3段283巷14弄16號1樓        Y         N          N\n",
      "2       台北市大安區大安路1段77號B1樓(東區地下街)        N         N          N\n",
      "3                      台北市大安區信義路三段33號        Y         N          Y\n",
      "4              台北市大安區敦化南路二段63巷7號1樓        Y         N          Y\n",
      "5                台北市大安區仁愛路三段25-1號27號        Y         N          N\n",
      "6                   台北市大安區仁愛路四段27巷1號        Y         N          Y\n",
      "7                台北市大安區忠孝東路4段223巷42號        N         N          Y\n",
      "8  台北市大安區忠孝東路3段1號(台北科技大學大川堂)        Y         N          N\n",
      "9              台北市大安區基隆路四段43號第三餐廳        Y         N          N\n",
      "10                         台北市大安區永康街43號        N         N          N\n",
      "11                 台北市大安區和平東路2段63號1樓        N         N          N\n",
      "12                  台北市大安區安和路二段74巷1號        N         N          N\n",
      "13                         台北市大安區延吉街72號        Y         N          Y\n",
      "14               台北市大安區復興南路2段151巷41號        Y         N          Y\n",
      "15                  台北市大安區四維路170巷8號1樓        Y         N          Y\n",
      "16                         台北市大安區安居街33號        Y         N          Y\n",
      "17                  台北市大安區信義路四段74號1樓        Y         N          Y\n",
      "18            台北市大安區忠孝東路三段217巷1弄2號        Y         N          Y\n",
      "19                    台北市大安區和平東路3段97號        Y         N          Y\n",
      "20                      台北市大安區辛亥路2段57號        Y         N          N\n",
      "21                  台北市大安區和平東路三段230號        Y         N          Y\n",
      "22                    台北市大安區和平東路1段91號        N         N          N\n",
      "23                  台北市大安區和平東路一段169號        N         N          N\n",
      "24                        台北市大安區延吉街237號        Y         N          N\n",
      "25                   台北市大安區敦化南路2段238號        N         N          Y\n",
      "26                     台北市大安區安和路一段47號        N         N          N\n",
      "27        台北市大安區基隆路2段142之1號及142之2號        Y         N          N\n",
      "28                  台北市大安區仁愛路三段74號1樓        Y         N          Y\n",
      "29                  台北市大安區建國南路一段274號        N         N          N\n",
      "30                 台北市大安區金山南路2段18號1樓        Y         N          Y\n",
      "31                     台北市大安區金華街140之1號        N         N          N\n",
      "32                      台北市大安區基隆路3段85號        Y         N          N\n",
      "33                    台北市大安區信義路三段101號        Y         N          N\n",
      "34                    台北市大安區大安路一段218號        Y         N          N\n",
      "35              台北市大安區信義路4段265巷12弄1號        Y         N          N\n",
      "36                     台北市大安區信義路四段32號        N         N          N\n",
      "37              台北市大安區敦化南路一段187巷29號        Y         N          N\n",
      "38                  台北市大安區忠孝東路三段249號        Y         N          Y\n",
      "39            台北市大安區建國南路二段151巷6之8號        Y         N          Y\n",
      "40                 台北市大安區仁愛路4段151巷27號        N         N          N\n",
      "41                        台北市大安區永康街7-1號        N         N          N\n",
      "42                   台北市大安區復興南路2段203號        N         N          Y\n",
      "43               台北市大安區建國南路一段28號30號        Y         N          N\n",
      "44                         台北市大安區師大路87號        Y         N          N\n",
      "45            台北市大安區仁愛路四段266巷15弄22號        Y         N          Y\n",
      "46        台北市大安區辛亥路3段30號(台大國青宿舍)        Y         N          N\n",
      "47                  台北市大安區光復南路240巷25號        Y         N          Y\n",
      "48               台北市大安區復興南路一段135巷5號        Y         N          N\n",
      "49                         台北市大安區敦南街38號        N         N          N\n",
      "50         台北市大安區忠孝東路4段216巷27弄1號1樓        Y         N          Y\n",
      "51         台北市大安區忠孝東路四段205巷7弄5號1樓        Y         Y          N\n",
      "52                      台北市大安區通化街26之8號        Y         N          N\n",
      "53                   台北市大安區仁愛路4段79號1號        N         N          N\n",
      "54                     台北市大安區大安路一段43號        Y         N          N\n",
      "55                     台北市大安區羅斯福路4段1號        N         N          N\n",
      "56            台北市大安區復興南路2段82-1及82-2號        Y         N          Y\n",
      "57           台北市大安區和平東路3段298號300號1樓        Y         N          N\n",
      "58                台北市大安區通化里光復南路616號        Y         N          N\n",
      "59                   台北市大安區復興南路二段17號        N         N          N\n",
      "60            台北市大安區敦化南路二段265巷6號1樓        Y         N          Y\n",
      "61                     台北市大安區安和路一段86號        Y         N          N\n",
      "62              台北市大安區仁愛路4段122巷50號1樓        Y         N          Y\n",
      "63              台北市大安區敦化南路一段236巷13號        Y         N          N\n",
      "64                台北市大安區忠孝東路4段101巷7號        N         N          N\n",
      "65                   台北市大安區敦化南路2段182號        Y         N          N\n",
      "66                  台北市大安區東豐街43號45號1樓        Y         N          Y\n",
      "67                 台北市大安區辛亥路二段171巷8號        Y         N          Y\n",
      "68                        台北市大安區通化街177號        Y         N          Y\n",
      "69                台北市大安區敦化南路二段97號1樓        Y         N          N\n",
      "70                         台北市大安區泰順街13號        N         N          N\n",
      "71                  台北市大安區光復南路180巷12號        Y         N          Y\n",
      "72                   台北市大安區羅斯福路3段245號        Y         N          Y\n",
      "73                  台北市大安區和平東路一段266號        Y         N          N\n",
      "74                   台北市大安區杭州南路二段91號        N         N          N\n",
      "75                        台北市大安區瑞安街182號        Y         N          N\n",
      "76                  台北市大安區忠孝東路三段160號        N         N          N\n",
      "77               台北市大安區忠孝東路4段216巷68號        Y         N          Y\n",
      "78                     台北市大安區樂業街71號73號        Y         N          N\n",
      "79                  台北市大安區樂利路76號78號1樓        Y         N          Y\n",
      "80                   台北市大安區樂利路29號29-1號        Y         N          N\n",
      "81              台北市大安區敦化南路二段331巷14號        Y         N          N\n",
      "82                     台北市大安區臥龍街188巷1號        Y         N          Y\n",
      "83                     台北市大安區大安路2段102號        Y         N          Y\n",
      "84                台北市大安區忠孝東路四段26巷5號        N         N          N\n",
      "85                      台北市大安區光復南路262號        Y         N          N\n",
      "86                     台北市大安區師大路59巷13號        N         N          N\n",
      "87                    台北市大安區和平東路2段18號        N         N          N\n",
      "88              台北市大安區和平東路二段118巷33號        N         N          N\n",
      "89              台北市大安區敦化南路一段233巷25號        Y         N          N\n",
      "90                  台北市大安區濟南路三段12號1樓        Y         N          Y\n",
      "91                     台北市大安區安和路二段67號        Y         N          N\n",
      "92                          台北市大安區東豐街9號        N         N          N\n",
      "93                台北市大安區忠孝東路3段248巷9號        N         N          N\n",
      "94               台北市大安區臥龍街252號及252-1號        Y         N          Y\n",
      "95                台北市大安區古風里泰順街64號1樓        Y         N          Y\n",
      "96                 台北市大安區信義路三段178號1樓        N         N          N\n",
      "   isATM is7WiFi isIce isHotDog isHealthStations isIceCream isOpenStore isFruit\n",
      "1      Y       Y     N        N                N          N           N       N\n",
      "2      N       Y     N        N                N          N           N       N\n",
      "3      Y       Y     N        Y                N          N           N       N\n",
      "4      Y       Y     N        N                N          N           N       N\n",
      "5      Y       Y     N        N                N          N           N       Y\n",
      "6      Y       Y     N        Y                N          N           N       Y\n",
      "7      Y       Y     N        Y                N          N           N       N\n",
      "8      Y       Y     N        Y                N          N           N       N\n",
      "9      Y       Y     Y        Y                N          N           N       N\n",
      "10     Y       Y     Y        N                N          N           N       Y\n",
      "11     Y       Y     N        N                N          N           N       N\n",
      "12     Y       Y     N        N                N          N           N       N\n",
      "13     Y       Y     N        Y                N          N           N       N\n",
      "14     Y       Y     N        N                N          N           N       N\n",
      "15     Y       Y     N        N                N          N           N       Y\n",
      "16     Y       Y     N        N                N          Y           N       N\n",
      "17     Y       Y     Y        Y                N          Y           N       Y\n",
      "18     Y       Y     N        N                Y          N           N       Y\n",
      "19     Y       Y     N        N                N          N           N       Y\n",
      "20     Y       Y     N        N                N          N           N       Y\n",
      "21     Y       Y     N        N                N          Y           N       Y\n",
      "22     Y       Y     N        N                N          N           N       Y\n",
      "23     Y       Y     N        N                N          N           N       Y\n",
      "24     Y       Y     N        N                N          N           N       N\n",
      "25     Y       Y     N        N                N          N           N       N\n",
      "26     Y       Y     N        N                N          N           N       N\n",
      "27     Y       Y     N        N                N          N           N       Y\n",
      "28     Y       Y     N        Y                N          N           N       N\n",
      "29     Y       Y     N        N                N          N           N       N\n",
      "30     Y       Y     N        N                N          Y           N       N\n",
      "31     Y       Y     N        N                N          N           N       Y\n",
      "32     Y       Y     N        Y                N          Y           N       N\n",
      "33     Y       Y     N        Y                N          Y           N       N\n",
      "34     Y       Y     N        N                N          N           N       N\n",
      "35     Y       Y     N        N                N          N           N       Y\n",
      "36     Y       Y     N        N                N          N           N       N\n",
      "37     Y       Y     N        N                N          Y           N       Y\n",
      "38     Y       Y     N        Y                N          N           N       N\n",
      "39     Y       Y     N        N                N          N           N       N\n",
      "40     Y       Y     N        N                N          N           N       Y\n",
      "41     Y       Y     N        N                N          Y           N       N\n",
      "42     Y       Y     N        N                N          N           N       N\n",
      "43     Y       Y     N        N                N          Y           N       N\n",
      "44     Y       Y     N        N                N          Y           N       N\n",
      "45     Y       Y     N        N                N          Y           N       N\n",
      "46     Y       Y     N        N                N          N           N       N\n",
      "47     Y       Y     N        N                N          N           N       Y\n",
      "48     Y       Y     N        Y                N          Y           N       N\n",
      "49     Y       Y     N        Y                N          N           N       N\n",
      "50     Y       Y     N        N                N          Y           N       Y\n",
      "51     Y       Y     N        Y                N          N           N       N\n",
      "52     Y       Y     N        N                N          Y           N       N\n",
      "53     N       Y     N        N                N          N           N       N\n",
      "54     Y       Y     N        N                N          Y           N       N\n",
      "55     Y       Y     N        Y                N          Y           N       N\n",
      "56     Y       Y     N        Y                N          Y           N       N\n",
      "57     Y       Y     N        N                N          N           N       N\n",
      "58     Y       Y     N        N                N          Y           N       Y\n",
      "59     Y       Y     N        N                N          N           N       N\n",
      "60     Y       Y     N        N                N          N           N       N\n",
      "61     Y       Y     N        N                N          N           N       Y\n",
      "62     Y       Y     N        N                N          N           N       N\n",
      "63     Y       Y     N        N                N          N           N       N\n",
      "64     N       Y     N        N                N          N           N       N\n",
      "65     Y       Y     N        Y                N          N           N       Y\n",
      "66     Y       Y     N        N                N          N           N       Y\n",
      "67     Y       Y     N        N                N          N           N       Y\n",
      "68     Y       Y     N        N                Y          Y           N       N\n",
      "69     Y       Y     N        Y                N          N           N       N\n",
      "70     Y       Y     N        N                N          N           N       N\n",
      "71     Y       Y     N        N                N          N           N       N\n",
      "72     Y       Y     N        Y                N          Y           N       N\n",
      "73     Y       Y     N        N                N          N           N       N\n",
      "74     Y       Y     N        N                N          N           N       N\n",
      "75     Y       Y     N        N                N          N           N       N\n",
      "76     Y       Y     N        N                N          N           N       N\n",
      "77     N       Y     N        N                N          N           N       N\n",
      "78     Y       Y     N        N                N          N           N       N\n",
      "79     Y       Y     N        N                N          N           N       Y\n",
      "80     Y       Y     N        N                N          N           N       N\n",
      "81     Y       Y     N        N                N          N           N       N\n",
      "82     Y       Y     N        N                N          N           N       N\n",
      "83     Y       Y     N        N                N          N           N       N\n",
      "84     Y       Y     N        N                N          N           N       N\n",
      "85     Y       Y     N        Y                N          N           N       N\n",
      "86     Y       Y     N        N                N          N           N       N\n",
      "87     Y       Y     Y        N                N          N           N       Y\n",
      "88     Y       Y     Y        N                N          N           N       N\n",
      "89     Y       Y     N        N                N          N           N       N\n",
      "90     Y       Y     N        N                N          Y           N       N\n",
      "91     Y       Y     N        N                N          N           N       N\n",
      "92     Y       Y     N        N                N          N           N       Y\n",
      "93     Y       Y     N        N                N          N           N       N\n",
      "94     Y       Y     N        N                N          N           N       Y\n",
      "95     N       N     N        N                N          N           N       N\n",
      "96     N       N     N        N                N          N           N       N\n",
      "   isCityCafe isUnionPay isOrganic isCorn isMakeup isMuji isMisterDonuts\n",
      "1           Y          N         N      N        N      N              N\n",
      "2           Y          N         N      N        N      N              N\n",
      "3           N          Y         N      N        Y      Y              N\n",
      "4           N          N         N      N        N      N              N\n",
      "5           N          N         N      N        N      N              N\n",
      "6           Y          N         Y      N        N      Y              N\n",
      "7           Y          N         N      Y        N      Y              N\n",
      "8           Y          N         N      Y        N      N              N\n",
      "9           Y          N         N      N        N      N              N\n",
      "10          Y          N         N      N        N      N              N\n",
      "11          N          N         N      N        N      N              N\n",
      "12          Y          N         N      N        N      N              N\n",
      "13          Y          Y         N      N        N      Y              N\n",
      "14          N          N         N      N        N      N              N\n",
      "15          Y          N         N      N        N      N              N\n",
      "16          N          N         N      N        N      N              N\n",
      "17          Y          N         Y      N        N      Y              N\n",
      "18          Y          N         N      N        N      N              N\n",
      "19          Y          N         N      N        N      Y              N\n",
      "20          Y          N         N      N        N      N              N\n",
      "21          N          N         N      N        N      N              N\n",
      "22          N          N         N      N        N      N              N\n",
      "23          Y          N         N      N        N      N              N\n",
      "24          N          N         N      N        N      N              N\n",
      "25          N          Y         N      N        N      N              N\n",
      "26          Y          N         N      N        N      N              N\n",
      "27          N          N         N      N        N      N              N\n",
      "28          Y          N         N      N        N      N              N\n",
      "29          N          Y         N      N        Y      N              N\n",
      "30          Y          N         N      N        N      N              Y\n",
      "31          Y          N         N      N        N      N              N\n",
      "32          Y          N         N      Y        N      Y              N\n",
      "33          N          N         N      N        N      Y              N\n",
      "34          N          N         N      N        N      N              N\n",
      "35          N          N         N      N        Y      Y              N\n",
      "36          Y          N         N      N        N      N              N\n",
      "37          Y          N         N      N        N      N              Y\n",
      "38          Y          N         N      N        N      N              N\n",
      "39          Y          N         N      N        N      N              N\n",
      "40          Y          N         N      N        N      N              N\n",
      "41          Y          Y         N      N        N      N              N\n",
      "42          N          N         N      N        N      N              N\n",
      "43          Y          N         N      N        N      N              N\n",
      "44          Y          N         N      N        N      N              Y\n",
      "45          Y          N         N      N        N      N              N\n",
      "46          Y          N         N      N        N      Y              N\n",
      "47          Y          N         N      N        N      N              N\n",
      "48          N          N         N      Y        N      N              N\n",
      "49          N          N         N      N        N      N              N\n",
      "50          Y          Y         Y      N        Y      N              N\n",
      "51          N          N         N      Y        N      N              N\n",
      "52          N          N         N      N        N      N              N\n",
      "53          Y          N         N      N        N      N              N\n",
      "54          Y          N         N      N        Y      N              N\n",
      "55          Y          N         N      N        N      N              Y\n",
      "56          N          N         N      N        N      Y              N\n",
      "57          N          N         N      N        N      N              N\n",
      "58          N          N         Y      N        N      Y              N\n",
      "59          Y          N         N      N        N      N              N\n",
      "60          Y          N         N      N        N      N              N\n",
      "61          N          N         N      N        N      N              N\n",
      "62          N          N         N      N        N      N              N\n",
      "63          Y          N         N      N        N      N              N\n",
      "64          Y          N         N      Y        N      N              N\n",
      "65          Y          N         N      N        N      N              N\n",
      "66          N          N         N      N        N      N              N\n",
      "67          Y          N         Y      Y        N      N              N\n",
      "68          Y          Y         N      N        Y      N              N\n",
      "69          N          N         N      N        N      N              N\n",
      "70          Y          N         N      N        N      N              N\n",
      "71          Y          N         N      N        N      N              N\n",
      "72          Y          N         N      N        N      Y              N\n",
      "73          Y          N         N      N        N      Y              N\n",
      "74          N          N         N      N        N      N              N\n",
      "75          Y          N         N      N        N      N              N\n",
      "76          N          N         N      N        N      N              N\n",
      "77          Y          N         N      N        N      N              N\n",
      "78          N          N         N      N        N      N              N\n",
      "79          N          N         N      N        N      N              N\n",
      "80          N          N         N      N        N      N              N\n",
      "81          N          N         N      N        N      N              N\n",
      "82          Y          N         N      N        N      N              N\n",
      "83          N          N         N      N        N      N              N\n",
      "84          Y          N         N      N        N      N              N\n",
      "85          Y          N         N      N        N      N              N\n",
      "86          Y          N         N      N        N      N              N\n",
      "87          Y          N         N      N        N      N              N\n",
      "88          Y          N         N      N        N      N              N\n",
      "89          Y          N         N      N        N      N              N\n",
      "90          N          N         Y      N        N      N              N\n",
      "91          N          N         N      N        N      N              N\n",
      "92          N          N         N      N        N      N              N\n",
      "93          N          N         N      N        N      N              N\n",
      "94          N          N         N      N        N      N              N\n",
      "95          N          N         N      N        N      N              N\n",
      "96          N          N         N      N        N      N              N\n",
      "   isStarBucks isIbon SpecialStore_Kind Store_URL\n",
      "1            N      Y                            \n",
      "2            N      N                            \n",
      "3            N      Y                            \n",
      "4            N      Y                            \n",
      "5            N      Y                            \n",
      "6            N      Y                            \n",
      "7            N      Y                            \n",
      "8            N      Y                            \n",
      "9            N      Y                            \n",
      "10           N      Y                            \n",
      "11           N      Y                            \n",
      "12           N      Y                            \n",
      "13           N      Y                            \n",
      "14           N      Y                            \n",
      "15           N      Y                            \n",
      "16           N      Y                            \n",
      "17           N      Y                            \n",
      "18           N      Y                            \n",
      "19           N      Y                            \n",
      "20           N      Y                            \n",
      "21           N      Y                            \n",
      "22           N      Y                            \n",
      "23           N      Y                            \n",
      "24           N      Y                            \n",
      "25           N      Y                            \n",
      "26           N      Y                            \n",
      "27           N      Y                            \n",
      "28           N      Y                            \n",
      "29           N      Y                            \n",
      "30           N      Y                            \n",
      "31           N      Y                            \n",
      "32           N      Y                            \n",
      "33           N      Y                            \n",
      "34           N      Y                            \n",
      "35           N      Y                            \n",
      "36           N      Y                            \n",
      "37           N      Y                            \n",
      "38           N      Y                            \n",
      "39           N      Y                            \n",
      "40           N      Y                            \n",
      "41           N      Y                            \n",
      "42           N      Y                            \n",
      "43           N      Y                            \n",
      "44           N      Y                            \n",
      "45           N      Y                            \n",
      "46           N      Y                            \n",
      "47           N      Y                            \n",
      "48           N      Y                            \n",
      "49           N      N                            \n",
      "50           N      Y                            \n",
      "51           N      Y                            \n",
      "52           N      Y                            \n",
      "53           N      Y                            \n",
      "54           N      Y                            \n",
      "55           N      Y                            \n",
      "56           N      Y                            \n",
      "57           N      Y                            \n",
      "58           N      Y                            \n",
      "59           N      Y                            \n",
      "60           N      Y                            \n",
      "61           N      Y                            \n",
      "62           N      Y                            \n",
      "63           N      Y                            \n",
      "64           N      Y                            \n",
      "65           N      Y                            \n",
      "66           N      Y                            \n",
      "67           N      Y                            \n",
      "68           N      Y                            \n",
      "69           N      Y                            \n",
      "70           N      Y                            \n",
      "71           N      Y                            \n",
      "72           N      Y                            \n",
      "73           N      Y                            \n",
      "74           N      Y                            \n",
      "75           N      Y                            \n",
      "76           N      Y                            \n",
      "77           N      Y                            \n",
      "78           N      Y                            \n",
      "79           N      Y                            \n",
      "80           N      Y                            \n",
      "81           N      Y                            \n",
      "82           N      Y                            \n",
      "83           N      Y                            \n",
      "84           N      Y                            \n",
      "85           N      Y                            \n",
      "86           N      Y                            \n",
      "87           N      Y                            \n",
      "88           N      Y                            \n",
      "89           N      Y                            \n",
      "90           N      Y                            \n",
      "91           N      Y                            \n",
      "92           N      Y                            \n",
      "93           N      Y                            \n",
      "94           N      Y                            \n",
      "95           N      Y                            \n",
      "96           N      Y                            \n"
     ]
    }
   ],
   "source": [
    "library(httr)\n",
    "library(XML)\n",
    "library(stringr)\n",
    "\n",
    "get_stores <- function(city, town) {\n",
    "    pcsc <- POST(\"http://emap.pcsc.com.tw/EMapSDK.aspx\", body = list(commandid = \"SearchStore\", city = city, town = town))\n",
    "    stores <- xmlParse(content(pcsc, as = \"text\")) %>% \n",
    "              .[\"//GeoPosition\"] %>% \n",
    "              xmlToDataFrame\n",
    "    return(stores)\n",
    "}\n",
    "storeDaan <- get_stores(\"台北市\", \"大安區\")\n",
    "show(storeDaan)"
   ]
  }
 ],
 "metadata": {
  "kernelspec": {
   "display_name": "R",
   "language": "R",
   "name": "ir"
  },
  "language_info": {
   "codemirror_mode": "r",
   "file_extension": ".r",
   "mimetype": "text/x-r-source",
   "name": "R",
   "pygments_lexer": "r",
   "version": "3.2.5"
  }
 },
 "nbformat": 4,
 "nbformat_minor": 0
}
